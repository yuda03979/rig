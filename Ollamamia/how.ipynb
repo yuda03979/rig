{
 "cells": [
  {
   "cell_type": "code",
   "id": "initial_id",
   "metadata": {
    "collapsed": true,
    "ExecuteTime": {
     "end_time": "2024-12-18T23:33:37.630154Z",
     "start_time": "2024-12-18T23:33:37.310220Z"
    }
   },
   "source": "from src.ollamamia import Ollamamia",
   "outputs": [],
   "execution_count": 1
  },
  {
   "metadata": {
    "ExecuteTime": {
     "end_time": "2024-12-18T23:33:38.331677Z",
     "start_time": "2024-12-18T23:33:38.167161Z"
    }
   },
   "cell_type": "code",
   "source": "ollamamia = Ollamamia(on_docker=True)",
   "id": "9bf6ef756a0b7d8c",
   "outputs": [],
   "execution_count": 2
  },
  {
   "metadata": {},
   "cell_type": "markdown",
   "source": "# manage models",
   "id": "4f2a08d003433d56"
  },
  {
   "metadata": {
    "ExecuteTime": {
     "end_time": "2024-12-18T23:33:41.244996Z",
     "start_time": "2024-12-18T23:33:41.234150Z"
    }
   },
   "cell_type": "code",
   "source": "ollamamia.funcs.ls(details=True)",
   "id": "58980b17ac40a859",
   "outputs": [
    {
     "data": {
      "text/plain": [
       "[]"
      ]
     },
     "execution_count": 3,
     "metadata": {},
     "output_type": "execute_result"
    }
   ],
   "execution_count": 3
  },
  {
   "metadata": {
    "ExecuteTime": {
     "end_time": "2024-12-18T23:44:07.607280Z",
     "start_time": "2024-12-18T23:43:29.684415Z"
    }
   },
   "cell_type": "code",
   "source": "ollamamia.funcs.pull(\"gemma2:2b\")",
   "id": "b1dbb4142e87ecbd",
   "outputs": [
    {
     "name": "stdout",
     "output_type": "stream",
     "text": [
      "pulling manifest\n"
     ]
    },
    {
     "name": "stderr",
     "output_type": "stream",
     "text": [
      "pulling 7462734796d6: 100%|██████████| 1.63G/1.63G [00:29<00:00, 35.8MB/s]\n",
      "pulling e0a42594d802:   0%|          | 0.00/358 [00:00<?, ?B/s]\u001B[A\n",
      "pulling e0a42594d802: 100%|██████████| 358/358 [00:00<00:00, 752B/s]\u001B[A\n",
      "\n",
      "pulling 097a36493f71:   0%|          | 0.00/8.43k [00:00<?, ?B/s]\u001B[A\u001B[A\n",
      "\n",
      "pulling 097a36493f71: 100%|██████████| 8.43k/8.43k [00:00<00:00, 23.8kB/s]\u001B[A\u001B[A\n",
      "\n",
      "\n",
      "pulling 2490e7468436:   0%|          | 0.00/65.0 [00:00<?, ?B/s]\u001B[A\u001B[A\u001B[A\n",
      "\n",
      "\n",
      "pulling 2490e7468436: 100%|██████████| 65.0/65.0 [00:00<00:00, 121B/s]\u001B[A\u001B[A\u001B[A\n",
      "\n",
      "\n",
      "\n",
      "pulling e18ad7af7efb:   0%|          | 0.00/487 [00:00<?, ?B/s]\u001B[A\u001B[A\u001B[A\u001B[A\n",
      "\n",
      "\n",
      "\n",
      "pulling e18ad7af7efb: 100%|██████████| 487/487 [00:00<00:00, 911B/s]\u001B[A\u001B[A\u001B[A\u001B[A"
     ]
    },
    {
     "name": "stdout",
     "output_type": "stream",
     "text": [
      "verifying sha256 digest\n"
     ]
    },
    {
     "name": "stderr",
     "output_type": "stream",
     "text": [
      "pulling 7462734796d6: 100%|██████████| 1.63G/1.63G [00:36<00:00, 44.8MB/s]\n",
      "pulling e0a42594d802: 100%|██████████| 358/358 [00:06<00:00, 52.0B/s]\n",
      "pulling 097a36493f71: 100%|██████████| 8.43k/8.43k [00:05<00:00, 1.56kB/s]\n",
      "pulling 2490e7468436: 100%|██████████| 65.0/65.0 [00:03<00:00, 16.6B/s]\n",
      "pulling e18ad7af7efb: 100%|██████████| 487/487 [00:02<00:00, 201B/s]"
     ]
    },
    {
     "name": "stdout",
     "output_type": "stream",
     "text": [
      "writing manifest\n",
      "success\n"
     ]
    },
    {
     "name": "stderr",
     "output_type": "stream",
     "text": [
      "\n"
     ]
    },
    {
     "data": {
      "text/plain": [
       "True"
      ]
     },
     "execution_count": 4,
     "metadata": {},
     "output_type": "execute_result"
    }
   ],
   "execution_count": 4
  },
  {
   "metadata": {},
   "cell_type": "markdown",
   "source": "# infer",
   "id": "4f6e55a7359bcc35"
  },
  {
   "metadata": {
    "ExecuteTime": {
     "end_time": "2024-12-18T23:44:29.155283Z",
     "start_time": "2024-12-18T23:44:18.542038Z"
    }
   },
   "cell_type": "code",
   "source": [
    "query = \"\"\"hello, how are you? are you ok? generate 100 words\"\"\"\n",
    "\n",
    "# model = ollamamia.model.chat()\n",
    "model = ollamamia.model.generate(model_name=\"gemma2:2b\")\n",
    "# model = ollamamia.model.embed()\n",
    "\n",
    "infer = model << query  # support batching\n",
    "infer"
   ],
   "id": "fbbce2dd925f2533",
   "outputs": [
    {
     "data": {
      "text/plain": [
       "\"Hello!  I'm doing well, thank you. 😊 As a large language model, I don't have feelings or experiences like humans do, but I am always here and ready to assist you with any questions or tasks you may have. How can I help you today? \\n\\nLet me know if you need anything!  \\n\""
      ]
     },
     "execution_count": 5,
     "metadata": {},
     "output_type": "execute_result"
    }
   ],
   "execution_count": 5
  },
  {
   "metadata": {
    "ExecuteTime": {
     "end_time": "2024-12-18T23:44:31.673574Z",
     "start_time": "2024-12-18T23:44:31.670278Z"
    }
   },
   "cell_type": "code",
   "source": "model.logs  # to see all the history",
   "id": "cb156269a842136c",
   "outputs": [
    {
     "data": {
      "text/plain": [
       "[GenerateResponse(model='gemma2:2b', created_at='2024-12-18T23:44:28.860469844Z', done=True, done_reason='stop', total_duration=10314649838, load_duration=1861398584, prompt_eval_count=25, prompt_eval_duration=769000000, eval_count=70, eval_duration=7682000000, response=\"Hello!  I'm doing well, thank you. 😊 As a large language model, I don't have feelings or experiences like humans do, but I am always here and ready to assist you with any questions or tasks you may have. How can I help you today? \\n\\nLet me know if you need anything!  \\n\", context=[106, 1645, 108, 17534, 235269, 1368, 708, 692, 235336, 708, 692, 4634, 235336, 11941, 235248, 235274, 235276, 235276, 3907, 107, 108, 106, 2516, 108, 4521, 235341, 139, 235285, 235303, 235262, 3900, 1578, 235269, 7593, 692, 235265, 44416, 1877, 476, 2910, 5255, 2091, 235269, 590, 1453, 235303, 235251, 791, 14690, 689, 12219, 1154, 17611, 749, 235269, 901, 590, 1144, 2593, 1517, 578, 5628, 577, 5422, 692, 675, 1089, 3920, 689, 13333, 692, 1249, 791, 235265, 2250, 798, 590, 1707, 692, 3646, 235336, 235248, 109, 5331, 682, 1230, 1013, 692, 1476, 4341, 235341, 139, 108])]"
      ]
     },
     "execution_count": 6,
     "metadata": {},
     "output_type": "execute_result"
    }
   ],
   "execution_count": 6
  },
  {
   "metadata": {},
   "cell_type": "markdown",
   "source": "# tools",
   "id": "51557c2c63733604"
  },
  {
   "metadata": {},
   "cell_type": "code",
   "outputs": [],
   "execution_count": null,
   "source": "# ?",
   "id": "af412b86d073e185"
  },
  {
   "metadata": {},
   "cell_type": "markdown",
   "source": "# cli chat",
   "id": "2a6bcad3bd26a077"
  },
  {
   "metadata": {
    "ExecuteTime": {
     "end_time": "2024-12-18T23:45:39.444504Z",
     "start_time": "2024-12-18T23:45:25.200538Z"
    }
   },
   "cell_type": "code",
   "source": "ollamamia.ChitChat(model_name=\"gemma2:2b\")",
   "id": "e2033077314328e1",
   "outputs": [
    {
     "name": "stdout",
     "output_type": "stream",
     "text": [
      "\n",
      "\n",
      ">>> \u001B[30msend your message \u001B[0mI'm doing well, thank you! 😊  How about yourself? \n",
      "\n",
      "\n",
      ">>> \u001B[30msend your message \u001B[0m"
     ]
    }
   ],
   "execution_count": 9
  },
  {
   "metadata": {},
   "cell_type": "markdown",
   "source": "# manage Ollama",
   "id": "4188b06b763c8f8f"
  },
  {
   "metadata": {
    "ExecuteTime": {
     "end_time": "2024-12-18T23:45:57.182996Z",
     "start_time": "2024-12-18T23:45:57.171027Z"
    }
   },
   "cell_type": "code",
   "source": [
    "ollamamia.ls(details=True, log=True)\n",
    "ollamamia.rm()"
   ],
   "id": "81bced5cff67cd8d",
   "outputs": [
    {
     "ename": "AttributeError",
     "evalue": "'Ollamamia' object has no attribute 'ls'",
     "output_type": "error",
     "traceback": [
      "\u001B[0;31m---------------------------------------------------------------------------\u001B[0m",
      "\u001B[0;31mAttributeError\u001B[0m                            Traceback (most recent call last)",
      "Cell \u001B[0;32mIn[11], line 1\u001B[0m\n\u001B[0;32m----> 1\u001B[0m ollamamia\u001B[38;5;241m.\u001B[39mls(details\u001B[38;5;241m=\u001B[39m\u001B[38;5;28;01mTrue\u001B[39;00m, log\u001B[38;5;241m=\u001B[39m\u001B[38;5;28;01mTrue\u001B[39;00m)\n\u001B[1;32m      2\u001B[0m ollamamia\u001B[38;5;241m.\u001B[39mrm()\n",
      "\u001B[0;31mAttributeError\u001B[0m: 'Ollamamia' object has no attribute 'ls'"
     ]
    }
   ],
   "execution_count": 11
  },
  {
   "metadata": {},
   "cell_type": "code",
   "outputs": [],
   "execution_count": null,
   "source": "ollamamia.stop()",
   "id": "c103b6fab8f815cc"
  },
  {
   "metadata": {},
   "cell_type": "markdown",
   "source": "# only in docker",
   "id": "20d44042e43a6eff"
  },
  {
   "metadata": {},
   "cell_type": "code",
   "outputs": [],
   "execution_count": null,
   "source": [
    "ollamamia.cmd()\n",
    "ollamamia.ollama_cmd()"
   ],
   "id": "d4dcb56635d6b89c"
  },
  {
   "metadata": {},
   "cell_type": "markdown",
   "source": "# help",
   "id": "38bbb57c6f913457"
  },
  {
   "metadata": {},
   "cell_type": "code",
   "outputs": [],
   "execution_count": null,
   "source": "ollamamia.Luminary()",
   "id": "da99d7d2447067e8"
  }
 ],
 "metadata": {
  "kernelspec": {
   "display_name": "Python 3",
   "language": "python",
   "name": "python3"
  },
  "language_info": {
   "codemirror_mode": {
    "name": "ipython",
    "version": 2
   },
   "file_extension": ".py",
   "mimetype": "text/x-python",
   "name": "python",
   "nbconvert_exporter": "python",
   "pygments_lexer": "ipython2",
   "version": "2.7.6"
  }
 },
 "nbformat": 4,
 "nbformat_minor": 5
}
