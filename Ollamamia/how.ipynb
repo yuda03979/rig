{
 "cells": [
  {
   "cell_type": "code",
   "id": "initial_id",
   "metadata": {
    "collapsed": true,
    "ExecuteTime": {
     "end_time": "2024-12-20T14:33:15.182812Z",
     "start_time": "2024-12-20T14:33:14.777992Z"
    }
   },
   "source": "from src.ollamamia import Ollamamia",
   "outputs": [],
   "execution_count": 1
  },
  {
   "metadata": {
    "ExecuteTime": {
     "end_time": "2024-12-20T14:33:15.200089Z",
     "start_time": "2024-12-20T14:33:15.184118Z"
    }
   },
   "cell_type": "code",
   "source": "ollamamia = Ollamamia(on_docker=True)",
   "id": "9bf6ef756a0b7d8c",
   "outputs": [],
   "execution_count": 2
  },
  {
   "metadata": {},
   "cell_type": "markdown",
   "source": "# manage models",
   "id": "4f2a08d003433d56"
  },
  {
   "metadata": {
    "ExecuteTime": {
     "end_time": "2024-12-20T14:33:15.879157Z",
     "start_time": "2024-12-20T14:33:15.871780Z"
    }
   },
   "cell_type": "code",
   "source": "ollamamia.funcs.ls(details=True)",
   "id": "58980b17ac40a859",
   "outputs": [
    {
     "data": {
      "text/plain": [
       "['snowflake-arctic-embed:137m', 'gemma2:2b']"
      ]
     },
     "execution_count": 3,
     "metadata": {},
     "output_type": "execute_result"
    }
   ],
   "execution_count": 3
  },
  {
   "metadata": {
    "ExecuteTime": {
     "end_time": "2024-12-20T14:33:16.180001Z",
     "start_time": "2024-12-20T14:33:16.177350Z"
    }
   },
   "cell_type": "code",
   "source": "# ollamamia.funcs.pull(\"gemma2:2b\")",
   "id": "b1dbb4142e87ecbd",
   "outputs": [],
   "execution_count": 4
  },
  {
   "metadata": {},
   "cell_type": "markdown",
   "source": "# infer",
   "id": "4f6e55a7359bcc35"
  },
  {
   "metadata": {
    "ExecuteTime": {
     "end_time": "2024-12-20T14:33:53.440378Z",
     "start_time": "2024-12-20T14:33:53.435286Z"
    }
   },
   "cell_type": "code",
   "source": [
    "query = \"\"\"rule_type is system failure\"\"\"\n",
    "\n",
    "# model = ollamamia.model.chat()\n",
    "model = ollamamia.model.generate(model_name=\"gemma2:2b\")          "
   ],
   "id": "3f83162ebb53bd79",
   "outputs": [],
   "execution_count": null
  },
  {
   "metadata": {},
   "cell_type": "code",
   "outputs": [
    {
     "data": {
      "text/plain": [
       "True"
      ]
     },
     "execution_count": 7,
     "metadata": {},
     "output_type": "execute_result"
    }
   ],
   "execution_count": 7,
   "source": [
    "params = ollamamia.params()\n",
    "params.options.temperature = 0.0\n",
    "params.format = \"json\"\n",
    "model <= params"
   ],
   "id": "fbbce2dd925f2533"
  },
  {
   "metadata": {
    "ExecuteTime": {
     "end_time": "2024-12-20T14:34:20.288880Z",
     "start_time": "2024-12-20T14:33:54.298636Z"
    }
   },
   "cell_type": "code",
   "source": [
    "infer = model << query  # support batching\n",
    "infer"
   ],
   "id": "8c644e7e5ccbe986",
   "outputs": [
    {
     "data": {
      "text/plain": [
       "'{\\n  \"rule_type\": \"system failure\",\\n  \"description\": \"A system has failed, resulting in a disruption of normal operations.\",\\n  \"conditions\": [\\n    {\\n      \"condition_type\": \"critical_failure\",\\n      \"description\": \"The system is experiencing a critical failure that cannot be resolved quickly or easily.\",\\n      \"severity\": \"high\"\\n    },\\n    {\\n      \"condition_type\": \"unavailability\",\\n      \"description\": \"The system is unavailable for use, either temporarily or permanently.\",\\n      \"duration\": \"immediate\" \\n    }\\n  ],\\n  \"actions\": [\\n    {\\n      \"action_type\": \"recovery_plan\",\\n      \"description\": \"Initiate the recovery plan to restore the system to operational status.\"\\n    },\\n    {\\n      \"action_type\": \"communication\",\\n      \"description\": \"Notify affected parties of the system failure and provide updates on the situation.\"\\n    }\\n  ]\\n}\\n\\n\\n \\n  \\n  \\n'"
      ]
     },
     "execution_count": 8,
     "metadata": {},
     "output_type": "execute_result"
    }
   ],
   "execution_count": 8
  },
  {
   "metadata": {
    "ExecuteTime": {
     "end_time": "2024-12-20T13:45:46.066188Z",
     "start_time": "2024-12-20T13:45:46.062609Z"
    }
   },
   "cell_type": "code",
   "source": "model.logs  # to see all the history",
   "id": "cb156269a842136c",
   "outputs": [
    {
     "data": {
      "text/plain": [
       "[]"
      ]
     },
     "execution_count": 15,
     "metadata": {},
     "output_type": "execute_result"
    }
   ],
   "execution_count": 15
  },
  {
   "metadata": {},
   "cell_type": "markdown",
   "source": "# tools",
   "id": "51557c2c63733604"
  },
  {
   "metadata": {
    "ExecuteTime": {
     "end_time": "2024-12-20T13:45:36.985570Z",
     "start_time": "2024-12-20T13:45:36.983721Z"
    }
   },
   "cell_type": "code",
   "source": "# ?",
   "id": "af412b86d073e185",
   "outputs": [],
   "execution_count": 7
  },
  {
   "metadata": {},
   "cell_type": "markdown",
   "source": "# cli chat",
   "id": "2a6bcad3bd26a077"
  },
  {
   "metadata": {
    "ExecuteTime": {
     "end_time": "2024-12-20T13:45:38.749610Z",
     "start_time": "2024-12-20T13:45:36.986235Z"
    }
   },
   "cell_type": "code",
   "source": "ollamamia.ChitChat(model_name=\"gemma2:2b\")",
   "id": "e2033077314328e1",
   "outputs": [
    {
     "name": "stdout",
     "output_type": "stream",
     "text": [
      "\n",
      "\n",
      ">>> \u001B[30msend your message \u001B[0m"
     ]
    }
   ],
   "execution_count": 8
  },
  {
   "metadata": {},
   "cell_type": "markdown",
   "source": "# manage Ollama",
   "id": "4188b06b763c8f8f"
  },
  {
   "metadata": {
    "ExecuteTime": {
     "end_time": "2024-12-20T13:45:38.983154Z",
     "start_time": "2024-12-20T13:45:38.750817Z"
    }
   },
   "cell_type": "code",
   "source": [
    "ollamamia.ls(details=True, log=True)\n",
    "ollamamia.rm()"
   ],
   "id": "81bced5cff67cd8d",
   "outputs": [
    {
     "ename": "AttributeError",
     "evalue": "'Ollamamia' object has no attribute 'ls'",
     "output_type": "error",
     "traceback": [
      "\u001B[0;31m---------------------------------------------------------------------------\u001B[0m",
      "\u001B[0;31mAttributeError\u001B[0m                            Traceback (most recent call last)",
      "Cell \u001B[0;32mIn[9], line 1\u001B[0m\n\u001B[0;32m----> 1\u001B[0m ollamamia\u001B[38;5;241m.\u001B[39mls(details\u001B[38;5;241m=\u001B[39m\u001B[38;5;28;01mTrue\u001B[39;00m, log\u001B[38;5;241m=\u001B[39m\u001B[38;5;28;01mTrue\u001B[39;00m)\n\u001B[1;32m      2\u001B[0m ollamamia\u001B[38;5;241m.\u001B[39mrm()\n",
      "\u001B[0;31mAttributeError\u001B[0m: 'Ollamamia' object has no attribute 'ls'"
     ]
    }
   ],
   "execution_count": 9
  },
  {
   "metadata": {},
   "cell_type": "code",
   "source": "ollamamia.stop()",
   "id": "c103b6fab8f815cc",
   "outputs": [],
   "execution_count": null
  },
  {
   "metadata": {},
   "cell_type": "markdown",
   "source": "# only in docker",
   "id": "20d44042e43a6eff"
  },
  {
   "metadata": {},
   "cell_type": "code",
   "source": [
    "ollamamia.cmd()\n",
    "ollamamia.ollama_cmd()"
   ],
   "id": "d4dcb56635d6b89c",
   "outputs": [],
   "execution_count": null
  },
  {
   "metadata": {},
   "cell_type": "markdown",
   "source": "# help",
   "id": "38bbb57c6f913457"
  },
  {
   "metadata": {},
   "cell_type": "code",
   "source": "ollamamia.Luminary()",
   "id": "da99d7d2447067e8",
   "outputs": [],
   "execution_count": null
  }
 ],
 "metadata": {
  "kernelspec": {
   "display_name": "Python 3",
   "language": "python",
   "name": "python3"
  },
  "language_info": {
   "codemirror_mode": {
    "name": "ipython",
    "version": 2
   },
   "file_extension": ".py",
   "mimetype": "text/x-python",
   "name": "python",
   "nbconvert_exporter": "python",
   "pygments_lexer": "ipython2",
   "version": "2.7.6"
  }
 },
 "nbformat": 4,
 "nbformat_minor": 5
}
