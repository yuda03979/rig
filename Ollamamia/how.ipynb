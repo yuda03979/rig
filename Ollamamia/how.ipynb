{
 "cells": [
  {
   "cell_type": "code",
   "id": "initial_id",
   "metadata": {
    "collapsed": true,
    "ExecuteTime": {
     "end_time": "2024-12-22T10:29:42.769062Z",
     "start_time": "2024-12-22T10:29:42.476560Z"
    }
   },
   "source": "from src.ollamamia import Ollamamia",
   "outputs": [],
   "execution_count": 2
  },
  {
   "metadata": {
    "ExecuteTime": {
     "end_time": "2024-12-22T10:29:51.392773Z",
     "start_time": "2024-12-22T10:29:51.379579Z"
    }
   },
   "cell_type": "code",
   "source": "ollamamia = Ollamamia(on_docker=False)",
   "id": "9bf6ef756a0b7d8c",
   "outputs": [],
   "execution_count": 4
  },
  {
   "metadata": {},
   "cell_type": "markdown",
   "source": "# manage models",
   "id": "4f2a08d003433d56"
  },
  {
   "metadata": {
    "ExecuteTime": {
     "end_time": "2024-12-22T10:29:53.546852Z",
     "start_time": "2024-12-22T10:29:53.533404Z"
    }
   },
   "cell_type": "code",
   "source": "ollamamia.funcs.ls(details=True)",
   "id": "58980b17ac40a859",
   "outputs": [
    {
     "data": {
      "text/plain": [
       "['snowflake-arctic-embed:137m',\n",
       " 'all-minilm:latest',\n",
       " 'llama3.2:1b',\n",
       " 'paraphrase-multilingual:latest',\n",
       " 'bge-m3:latest',\n",
       " 'bge-large:latest',\n",
       " 'snowflake-arctic-embed2:latest',\n",
       " 'snowflake-arctic-embed:33m',\n",
       " 'snowflake-arctic-embed:110m',\n",
       " 'snowflake-arctic-embed:latest',\n",
       " 'mxbai-embed-large:latest',\n",
       " 'nomic-embed-text:latest',\n",
       " 'gemma2:2b',\n",
       " 'gemma:latest',\n",
       " 'gemma-2b-it-gguf:latest']"
      ]
     },
     "execution_count": 5,
     "metadata": {},
     "output_type": "execute_result"
    }
   ],
   "execution_count": 5
  },
  {
   "metadata": {
    "ExecuteTime": {
     "end_time": "2024-12-20T14:33:16.180001Z",
     "start_time": "2024-12-20T14:33:16.177350Z"
    }
   },
   "cell_type": "code",
   "source": "# ollamamia.funcs.pull(\"gemma2:2b\")",
   "id": "b1dbb4142e87ecbd",
   "outputs": [],
   "execution_count": 4
  },
  {
   "metadata": {},
   "cell_type": "markdown",
   "source": "# infer",
   "id": "4f6e55a7359bcc35"
  },
  {
   "metadata": {
    "ExecuteTime": {
     "end_time": "2024-12-22T10:29:58.426717Z",
     "start_time": "2024-12-22T10:29:58.423526Z"
    }
   },
   "cell_type": "code",
   "source": [
    "query = \"\"\"rule_type is system failure\"\"\"\n",
    "\n",
    "# model = ollamamia.model.chat()\n",
    "model = ollamamia.model.generate(model_name=\"gemma2:2b\")          "
   ],
   "id": "3f83162ebb53bd79",
   "outputs": [],
   "execution_count": 6
  },
  {
   "metadata": {
    "ExecuteTime": {
     "end_time": "2024-12-22T10:30:04.369078Z",
     "start_time": "2024-12-22T10:30:04.366463Z"
    }
   },
   "cell_type": "code",
   "source": [
    "params = ollamamia.params\n",
    "params.options.temperature = 0.0\n",
    "params.format = \"json\"\n",
    "model <= params"
   ],
   "id": "fbbce2dd925f2533",
   "outputs": [
    {
     "data": {
      "text/plain": [
       "True"
      ]
     },
     "execution_count": 8,
     "metadata": {},
     "output_type": "execute_result"
    }
   ],
   "execution_count": 8
  },
  {
   "metadata": {
    "ExecuteTime": {
     "end_time": "2024-12-22T10:30:12.509334Z",
     "start_time": "2024-12-22T10:30:06.475003Z"
    }
   },
   "cell_type": "code",
   "source": [
    "infer = model << query  # support batching\n",
    "infer"
   ],
   "id": "8c644e7e5ccbe986",
   "outputs": [
    {
     "data": {
      "text/plain": [
       "'{\\n  \"rule_type\": \"system failure\",\\n  \"description\": \"A system has failed, resulting in a disruption of normal operations.\",\\n  \"conditions\": [\\n    {\\n      \"condition_type\": \"critical_failure\",\\n      \"description\": \"The system is experiencing a critical failure that cannot be resolved quickly.\",\\n      \"severity\": \"high\"\\n    },\\n    {\\n      \"condition_type\": \"unrecoverable_error\",\\n      \"description\": \"An unrecoverable error has occurred, leading to the system\\'s inability to function.\",\\n      \"severity\": \"critical\"\\n    }\\n  ],\\n  \"actions\": [\\n    {\\n      \"action_type\": \"initiate_recovery_plan\",\\n      \"description\": \"Initiate a recovery plan to restore the system to operational status.\"\\n    },\\n    {\\n      \"action_type\": \"notify_affected_parties\",\\n      \"description\": \"Notify relevant parties about the system failure and its potential impact on operations.\"\\n    },\\n    {\\n      \"action_type\": \"escalate_issue\",\\n      \"description\": \"Escalate the issue to higher management for further investigation and resolution.\"\\n    }\\n  ]\\n}\\n\\n\\n \\n  \\n  \\n'"
      ]
     },
     "execution_count": 9,
     "metadata": {},
     "output_type": "execute_result"
    }
   ],
   "execution_count": 9
  },
  {
   "metadata": {
    "ExecuteTime": {
     "end_time": "2024-12-20T13:45:46.066188Z",
     "start_time": "2024-12-20T13:45:46.062609Z"
    }
   },
   "cell_type": "code",
   "source": "model.logs  # to see all the history",
   "id": "cb156269a842136c",
   "outputs": [
    {
     "data": {
      "text/plain": [
       "[]"
      ]
     },
     "execution_count": 15,
     "metadata": {},
     "output_type": "execute_result"
    }
   ],
   "execution_count": 15
  },
  {
   "metadata": {},
   "cell_type": "markdown",
   "source": "# tools",
   "id": "51557c2c63733604"
  },
  {
   "metadata": {
    "ExecuteTime": {
     "end_time": "2024-12-20T13:45:36.985570Z",
     "start_time": "2024-12-20T13:45:36.983721Z"
    }
   },
   "cell_type": "code",
   "source": "# ?",
   "id": "af412b86d073e185",
   "outputs": [],
   "execution_count": 7
  },
  {
   "metadata": {},
   "cell_type": "markdown",
   "source": "# cli chat",
   "id": "2a6bcad3bd26a077"
  },
  {
   "metadata": {
    "ExecuteTime": {
     "end_time": "2024-12-20T13:45:38.749610Z",
     "start_time": "2024-12-20T13:45:36.986235Z"
    }
   },
   "cell_type": "code",
   "source": "ollamamia.ChitChat(model_name=\"gemma2:2b\")",
   "id": "e2033077314328e1",
   "outputs": [
    {
     "name": "stdout",
     "output_type": "stream",
     "text": [
      "\n",
      "\n",
      ">>> \u001B[30msend your message \u001B[0m"
     ]
    }
   ],
   "execution_count": 8
  },
  {
   "metadata": {},
   "cell_type": "markdown",
   "source": "# manage Ollama",
   "id": "4188b06b763c8f8f"
  },
  {
   "metadata": {
    "ExecuteTime": {
     "end_time": "2024-12-20T13:45:38.983154Z",
     "start_time": "2024-12-20T13:45:38.750817Z"
    }
   },
   "cell_type": "code",
   "source": [
    "ollamamia.ls(details=True, log=True)\n",
    "ollamamia.rm()"
   ],
   "id": "81bced5cff67cd8d",
   "outputs": [
    {
     "ename": "AttributeError",
     "evalue": "'Ollamamia' object has no attribute 'ls'",
     "output_type": "error",
     "traceback": [
      "\u001B[0;31m---------------------------------------------------------------------------\u001B[0m",
      "\u001B[0;31mAttributeError\u001B[0m                            Traceback (most recent call last)",
      "Cell \u001B[0;32mIn[9], line 1\u001B[0m\n\u001B[0;32m----> 1\u001B[0m ollamamia\u001B[38;5;241m.\u001B[39mls(details\u001B[38;5;241m=\u001B[39m\u001B[38;5;28;01mTrue\u001B[39;00m, log\u001B[38;5;241m=\u001B[39m\u001B[38;5;28;01mTrue\u001B[39;00m)\n\u001B[1;32m      2\u001B[0m ollamamia\u001B[38;5;241m.\u001B[39mrm()\n",
      "\u001B[0;31mAttributeError\u001B[0m: 'Ollamamia' object has no attribute 'ls'"
     ]
    }
   ],
   "execution_count": 9
  },
  {
   "metadata": {
    "ExecuteTime": {
     "end_time": "2024-12-22T10:57:49.137506Z",
     "start_time": "2024-12-22T10:57:49.134757Z"
    }
   },
   "cell_type": "code",
   "source": "ollamamia.stop()",
   "id": "c103b6fab8f815cc",
   "outputs": [],
   "execution_count": 10
  },
  {
   "metadata": {},
   "cell_type": "markdown",
   "source": "# only in docker",
   "id": "20d44042e43a6eff"
  },
  {
   "metadata": {},
   "cell_type": "code",
   "source": [
    "ollamamia.cmd()\n",
    "ollamamia.ollama_cmd()"
   ],
   "id": "d4dcb56635d6b89c",
   "outputs": [],
   "execution_count": null
  },
  {
   "metadata": {},
   "cell_type": "markdown",
   "source": "# help",
   "id": "38bbb57c6f913457"
  },
  {
   "metadata": {},
   "cell_type": "code",
   "source": "ollamamia.Luminary()",
   "id": "da99d7d2447067e8",
   "outputs": [],
   "execution_count": null
  }
 ],
 "metadata": {
  "kernelspec": {
   "display_name": "Python 3",
   "language": "python",
   "name": "python3"
  },
  "language_info": {
   "codemirror_mode": {
    "name": "ipython",
    "version": 2
   },
   "file_extension": ".py",
   "mimetype": "text/x-python",
   "name": "python",
   "nbconvert_exporter": "python",
   "pygments_lexer": "ipython2",
   "version": "2.7.6"
  }
 },
 "nbformat": 4,
 "nbformat_minor": 5
}
