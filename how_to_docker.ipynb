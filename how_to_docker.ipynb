{
 "cells": [
  {
   "metadata": {
    "ExecuteTime": {
     "end_time": "2024-12-26T14:24:57.735259Z",
     "start_time": "2024-12-26T14:24:57.727823Z"
    }
   },
   "cell_type": "code",
   "source": [
    "import requests\n",
    "import json\n",
    "\n",
    "# Base URL for the API\n",
    "BASE_URL = 'http://0.0.0.0:8000'\n",
    "\n",
    "def get_rule_instance(free_text):\n",
    "    \"\"\"\n",
    "    Get rule instance based on free text input\n",
    "    \n",
    "    :param free_text: Text to query for rule instance\n",
    "    :return: Response from the API\n",
    "    \"\"\"\n",
    "    url = f'{BASE_URL}/get_rule_instance'\n",
    "    params = {\n",
    "        'free_text': free_text\n",
    "    }\n",
    "    response = requests.post(url, params=params)\n",
    "    return response.json()\n",
    "\n",
    "def get_rule_types_names():\n",
    "    \"\"\"\n",
    "    Retrieve rule type names\n",
    "    \n",
    "    :return: Response from the API\n",
    "    \"\"\"\n",
    "    url = f'{BASE_URL}/get_rule_types_names'\n",
    "    response = requests.get(url)\n",
    "    return response.json()\n",
    "\n",
    "def tweak_rag_parameters(rag_difference=0.002, rag_threshold=0.5):\n",
    "    \"\"\"\n",
    "    Adjust RAG (Retrieval-Augmented Generation) parameters\n",
    "    \n",
    "    :param rag_difference: Difference in RAG parameters\n",
    "    :param rag_threshold: Threshold for RAG\n",
    "    :return: Response from the API\n",
    "    \"\"\"\n",
    "    url = f'{BASE_URL}/tweak_rag_parameters'\n",
    "    params = {\n",
    "        'rag_difference': rag_difference,\n",
    "        'rag_threshold': rag_threshold\n",
    "    }\n",
    "    response = requests.post(url, params=params)\n",
    "    return response.json()\n",
    "\n",
    "def feedback(rig_response: dict, good: bool):\n",
    "    \"\"\"\n",
    "    Send feedback to the API\n",
    "    \n",
    "    :param fb: Feedback boolean\n",
    "    :return: Response from the API\n",
    "    \"\"\"\n",
    "    url = f'{BASE_URL}/feedback'\n",
    "    params = {\n",
    "        'rig_response': rig_response,\n",
    "        'good': good\n",
    "    }\n",
    "    response = requests.post(url, params=params)\n",
    "    return response.json()\n",
    "\n",
    "\n",
    "def evaluate(\n",
    "    start_point=0,\n",
    "    end_point=2,  # None - all the data\n",
    "    sleep_time_each_10_iter=30,\n",
    "    batch_size=250\n",
    "):\n",
    "    url = f'{BASE_URL}/evaluate'\n",
    "    params = {\n",
    "        'start_point': start_point,\n",
    "        'end_point': end_point,  # None - all the data\n",
    "        'sleep_time_each_10_iter': sleep_time_each_10_iter,\n",
    "        'batch_size': batch_size\n",
    "    }\n",
    "    requests.post(url, params=params)\n",
    "    \n",
    "def set_rule_types():\n",
    "    url = f'{BASE_URL}/set_rule_types'\n",
    "    requests.post(url)\n"
   ],
   "id": "7e6124b81671af94",
   "outputs": [],
   "execution_count": 12
  },
  {
   "metadata": {},
   "cell_type": "markdown",
   "source": "# example usage",
   "id": "2c2bd61eb1318d31"
  },
  {
   "metadata": {
    "ExecuteTime": {
     "end_time": "2024-12-26T14:24:59.791661Z",
     "start_time": "2024-12-26T14:24:59.789127Z"
    }
   },
   "cell_type": "code",
   "source": "print(\"helllo\")",
   "id": "b8b0d974a267b7bc",
   "outputs": [
    {
     "name": "stdout",
     "output_type": "stream",
     "text": [
      "helllo\n"
     ]
    }
   ],
   "execution_count": 13
  },
  {
   "metadata": {},
   "cell_type": "markdown",
   "source": "### get_rule_instance",
   "id": "14122b4502ba422"
  },
  {
   "metadata": {
    "ExecuteTime": {
     "end_time": "2024-12-26T13:07:05.517919Z",
     "start_time": "2024-12-26T13:05:04.321365Z"
    }
   },
   "cell_type": "code",
   "source": [
    "free_text = \"A new instance needs to be created for carpentry intermediate level, um, kdealing with the skill set of woodworking and the level is intermediate.well, The understanding of blueprint reading is good. However.\"\n",
    "\n",
    "response = get_rule_instance(free_text)\n",
    "response"
   ],
   "id": "191e8e15aca6df41",
   "outputs": [
    {
     "data": {
      "text/plain": [
       "{'rule_instance': None,\n",
       " 'is_error': True,\n",
       " 'error_message': \"error! can't extract json from model response\",\n",
       " 'free_text': 'A new instance needs to be created for carpentry intermediate level, um, kdealing with the skill set of woodworking and the level is intermediate.well, The understanding of blueprint reading is good. However.',\n",
       " 'type_name': 'carpenter',\n",
       " 'rag_score': 0.8179906661442404,\n",
       " 'model_response': 'No}',\n",
       " 'examples': {'example_1': {'free_text': None},\n",
       "  'example_2': {'free_text': None}},\n",
       " 'schema': {'Woodworking skills': 'String',\n",
       "  'Blueprint reading': 'String',\n",
       "  'Precision measurement': 'String',\n",
       "  'Tool maintenance': 'String',\n",
       "  'Material knowledge': 'String',\n",
       "  'Furniture design': 'String',\n",
       "  'ruleInstanceName': 'string',\n",
       "  'severity': 'int'},\n",
       " 'time': '2024-12-26|13:07:05',\n",
       " 'inference_time': 121.17048120498657}"
      ]
     },
     "execution_count": 10,
     "metadata": {},
     "output_type": "execute_result"
    }
   ],
   "execution_count": 10
  },
  {
   "metadata": {},
   "cell_type": "markdown",
   "source": "### get_rule_types_names",
   "id": "ab5b4dae3a19210a"
  },
  {
   "metadata": {
    "ExecuteTime": {
     "end_time": "2024-12-26T07:08:11.387890Z",
     "start_time": "2024-12-26T07:08:11.380660Z"
    }
   },
   "cell_type": "code",
   "source": "get_rule_types_names()",
   "id": "10ad7caf9af7c918",
   "outputs": [
    {
     "data": {
      "text/plain": [
       "['bridge',\n",
       " 'equipment malfunction',\n",
       " 'tentacled_sea_cucumber',\n",
       " 'cavalry_charge',\n",
       " 'guerrilla_skirmish',\n",
       " 'sea_otter',\n",
       " 'morning_star',\n",
       " 'journalist',\n",
       " 'rapier',\n",
       " 'graphic_designer',\n",
       " 'puffin',\n",
       " 'data_analyst',\n",
       " 'teacher',\n",
       " 'hamster',\n",
       " 'katana',\n",
       " 'scientist',\n",
       " 'boomerang',\n",
       " 'koala',\n",
       " 'nurse',\n",
       " 'dentist',\n",
       " 'gondola',\n",
       " 'halberd',\n",
       " 'engineer',\n",
       " 'hospital',\n",
       " 'tarantula',\n",
       " 'architect',\n",
       " 'bastard_sword',\n",
       " 'apartment_building',\n",
       " 'beaver',\n",
       " 'flanking_maneuver',\n",
       " 'attack overview',\n",
       " 'komodo_dragon',\n",
       " 'molotov_cocktail',\n",
       " 'bull',\n",
       " 'fox',\n",
       " 'flail',\n",
       " 'firefighter',\n",
       " 'kayak',\n",
       " 'api throttling',\n",
       " 'ballista',\n",
       " 'farmer',\n",
       " 'fire control',\n",
       " 'evacuation_operation',\n",
       " 'betrayal risk',\n",
       " 'trench_assault',\n",
       " 'cow',\n",
       " 'chef',\n",
       " 'actor',\n",
       " 'atv',\n",
       " 'castle',\n",
       " 'multi_motor_trampoline',\n",
       " 'parrotfish',\n",
       " 'aerial_dogfight',\n",
       " 'vulture',\n",
       " 'goldfish',\n",
       " 'temperature threshold exceeded',\n",
       " 'disk space warning',\n",
       " 'radar error monitoring',\n",
       " 'paratrooper_drop',\n",
       " 'naval_bombardment',\n",
       " 'encryption flaw',\n",
       " 'satellite disruption',\n",
       " 'mole',\n",
       " 'cannon',\n",
       " 'scimitar',\n",
       " 'missile failure',\n",
       " 'shuriken',\n",
       " 'canoe',\n",
       " 'scythe',\n",
       " 'goliath frog',\n",
       " 'defection threat',\n",
       " 'cottage',\n",
       " 'conveyor',\n",
       " 'system failure',\n",
       " 'disloyal soldier',\n",
       " 'platoon report',\n",
       " 'corruption scandal',\n",
       " 'software developer',\n",
       " 'suspected person',\n",
       " 'password expiry',\n",
       " 'bomb failure',\n",
       " 'tank_advance',\n",
       " 'church',\n",
       " 'robot',\n",
       " 'gauntlet_knife',\n",
       " 'beetle',\n",
       " 'factory',\n",
       " 'airship_vehicle',\n",
       " 'artillery_strike',\n",
       " 'psychologist',\n",
       " 'covert agent',\n",
       " 'kangaroo',\n",
       " 'anglerfish',\n",
       " 'sabre',\n",
       " 'phoenix fish',\n",
       " 'siege',\n",
       " 'barista',\n",
       " 'supply shortage',\n",
       " 'pilot',\n",
       " 'hotel',\n",
       " 'leadership breakdown',\n",
       " 'lawyer',\n",
       " 'memory usage alert',\n",
       " 'museum',\n",
       " 'police_officer',\n",
       " 'photographer',\n",
       " 'command incompetence',\n",
       " 'bow',\n",
       " 'missile malfunction',\n",
       " 'poodle',\n",
       " 'plumber',\n",
       " 'bayonet_charge',\n",
       " 'net_gun',\n",
       " 'battlefield_retreat',\n",
       " 'kestrel',\n",
       " 'swan',\n",
       " 'electric_train',\n",
       " 'blowgun',\n",
       " 'ambulance',\n",
       " 'pangolin',\n",
       " 'chakram',\n",
       " 'platypus',\n",
       " 'rooster',\n",
       " 'wildcat',\n",
       " 'x4x4_off_road_car',\n",
       " 'launch failure',\n",
       " 'event_planner',\n",
       " 'trident',\n",
       " 'carpenter',\n",
       " 'rabbit',\n",
       " 'trolley',\n",
       " 'urban_public_transport_system',\n",
       " 'sniper_attack',\n",
       " 'axe',\n",
       " 'mechanic']"
      ]
     },
     "execution_count": 4,
     "metadata": {},
     "output_type": "execute_result"
    }
   ],
   "execution_count": 4
  },
  {
   "metadata": {},
   "cell_type": "markdown",
   "source": "### tweak_rag_parameters",
   "id": "f84d0673113ed63f"
  },
  {
   "metadata": {
    "ExecuteTime": {
     "end_time": "2024-12-26T07:08:02.912114Z",
     "start_time": "2024-12-26T07:08:02.902470Z"
    }
   },
   "cell_type": "code",
   "source": "tweak_rag_parameters(rag_difference=0.002, rag_threshold=0.5)",
   "id": "73c429bfcb16449a",
   "outputs": [
    {
     "data": {
      "text/plain": [
       "True"
      ]
     },
     "execution_count": 3,
     "metadata": {},
     "output_type": "execute_result"
    }
   ],
   "execution_count": 3
  },
  {
   "metadata": {},
   "cell_type": "markdown",
   "source": "### feedback",
   "id": "c28732ff4f735de3"
  },
  {
   "metadata": {
    "ExecuteTime": {
     "end_time": "2024-12-26T00:57:15.019142Z",
     "start_time": "2024-12-26T00:57:15.007389Z"
    }
   },
   "cell_type": "code",
   "source": "feedback(rig_response=response, good=True)",
   "id": "6044b57d40a8c6c6",
   "outputs": [
    {
     "data": {
      "text/plain": [
       "{'detail': [{'type': 'missing',\n",
       "   'loc': ['query', 'fb'],\n",
       "   'msg': 'Field required',\n",
       "   'input': None}]}"
      ]
     },
     "execution_count": 27,
     "metadata": {},
     "output_type": "execute_result"
    }
   ],
   "execution_count": 27
  },
  {
   "metadata": {},
   "cell_type": "markdown",
   "source": "# evaluation. it use its files.",
   "id": "a677562c4b0048b0"
  },
  {
   "metadata": {
    "ExecuteTime": {
     "end_time": "2024-12-26T14:42:08.141500Z",
     "start_time": "2024-12-26T14:32:25.690067Z"
    }
   },
   "cell_type": "code",
   "source": [
    "evaluate(\n",
    "    start_point=0,\n",
    "    end_point=10,  # None - all the data\n",
    "    sleep_time_each_10_iter=5,\n",
    "    batch_size=250\n",
    ")"
   ],
   "id": "ad00e99d33826845",
   "outputs": [],
   "execution_count": 16
  },
  {
   "metadata": {},
   "cell_type": "markdown",
   "source": "### if you added rule_type, you can reload again. notice it will reload all the rule types in the directory again!",
   "id": "f2c9b91bcc470176"
  },
  {
   "metadata": {
    "ExecuteTime": {
     "end_time": "2024-12-26T00:15:11.521394Z",
     "start_time": "2024-12-26T00:15:10.672886Z"
    }
   },
   "cell_type": "code",
   "source": "set_rule_types()",
   "id": "86b50c1543b1aa22",
   "outputs": [],
   "execution_count": 24
  }
 ],
 "metadata": {
  "kernelspec": {
   "display_name": "Python 3",
   "language": "python",
   "name": "python3"
  },
  "language_info": {
   "codemirror_mode": {
    "name": "ipython",
    "version": 2
   },
   "file_extension": ".py",
   "mimetype": "text/x-python",
   "name": "python",
   "nbconvert_exporter": "python",
   "pygments_lexer": "ipython2",
   "version": "2.7.6"
  }
 },
 "nbformat": 4,
 "nbformat_minor": 5
}
