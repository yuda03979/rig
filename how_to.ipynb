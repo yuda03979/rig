{
 "cells": [
  {
   "metadata": {},
   "cell_type": "markdown",
   "source": [
    "# first:\n",
    "- download ollama \n",
    "- run in terminal ollama serve. \n",
    "- if you don't have internet - load the models (README - and the last cell)"
   ],
   "id": "4a2d43f6deccd5b0"
  },
  {
   "cell_type": "code",
   "id": "initial_id",
   "metadata": {
    "collapsed": true,
    "ExecuteTime": {
     "end_time": "2024-12-30T12:52:36.348382Z",
     "start_time": "2024-12-30T12:52:34.480977Z"
    }
   },
   "source": "from RIG.rule_instance_generator import RuleInstanceGenerator",
   "outputs": [],
   "execution_count": 1
  },
  {
   "metadata": {
    "ExecuteTime": {
     "end_time": "2024-12-30T12:52:36.587107Z",
     "start_time": "2024-12-30T12:52:36.349407Z"
    }
   },
   "cell_type": "code",
   "source": "rig = RuleInstanceGenerator()",
   "id": "a8d89b711cd268a1",
   "outputs": [],
   "execution_count": 2
  },
  {
   "metadata": {
    "ExecuteTime": {
     "end_time": "2024-12-30T12:52:38.801444Z",
     "start_time": "2024-12-30T12:52:36.587913Z"
    }
   },
   "cell_type": "code",
   "source": "rig.add_rule_types_from_folder()",
   "id": "2b721a2c32794c50",
   "outputs": [
    {
     "name": "stdout",
     "output_type": "stream",
     "text": [
      "Loading Bridge.json\n",
      "Loading Tentacled_Sea_Cucumber.json\n",
      "Loading Cavalry_Charge.json\n",
      "Loading Guerrilla_Skirmish.json\n",
      "Loading Sea_Otter.json\n",
      "Loading Morning_Star.json\n",
      "Loading Journalist.json\n",
      "Loading Rapier.json\n",
      "Loading Graphic_Designer.json\n",
      "Loading Puffin.json\n",
      "Loading Data_Analyst.json\n",
      "Loading Teacher.json\n",
      "Loading Hamster.json\n",
      "Loading Katana.json\n",
      "Loading Scientist.json\n",
      "Loading Boomerang.json\n",
      "Loading Koala.json\n",
      "Loading Nurse.json\n",
      "Loading Dentist.json\n",
      "Loading Gondola.json\n",
      "Loading Halberd.json\n",
      "Loading Engineer.json\n",
      "Loading Hospital.json\n",
      "Loading Tarantula.json\n",
      "Loading Architect.json\n",
      "Loading Bastard_Sword.json\n",
      "Loading Apartment_Building.json\n",
      "Loading Beaver.json\n",
      "Loading Flanking_Maneuver.json\n",
      "Loading Komodo_Dragon.json\n",
      "Loading Molotov_Cocktail.json\n"
     ]
    },
    {
     "name": "stderr",
     "output_type": "stream",
     "text": [
      "\n",
      "KeyboardInterrupt\n",
      "\n"
     ]
    }
   ],
   "execution_count": 3
  },
  {
   "metadata": {
    "ExecuteTime": {
     "end_time": "2024-12-30T05:01:48.869498Z",
     "start_time": "2024-12-30T05:01:48.866932Z"
    }
   },
   "cell_type": "code",
   "source": [
    "# get list of existing rule types:\n",
    "len(rig.get_rule_types_names())"
   ],
   "id": "40f11096719ee8f8",
   "outputs": [
    {
     "data": {
      "text/plain": [
       "109"
      ]
     },
     "execution_count": 7,
     "metadata": {},
     "output_type": "execute_result"
    }
   ],
   "execution_count": 7
  },
  {
   "metadata": {},
   "cell_type": "markdown",
   "source": "## get rule instance from free text",
   "id": "af0758f5e833cca9"
  },
  {
   "metadata": {
    "ExecuteTime": {
     "end_time": "2024-12-28T18:06:24.747585Z",
     "start_time": "2024-12-28T18:06:17.262744Z"
    }
   },
   "cell_type": "code",
   "source": [
    "free_text = \"An instance of ruleInstanceName - Falcon Evaluation needs to be created, dealing with the severity level two. The scavenging efficiency of this falcon is, let's say, 30. However, the beak sharpness is much sharper, let's say something like eight. The falcon's vision acuity is good, and the wing span is, um, eighty. The level of thermal riding skill is intermediate. The bone digestion efficiency is much higher, at about eighty-five. And the feather maintenance? That's excellent.\"\n",
    "\n",
    "response = rig.get_rule_instance(free_text) # return dictionary"
   ],
   "id": "d41d9ff66ad84cda",
   "outputs": [],
   "execution_count": 5
  },
  {
   "metadata": {
    "ExecuteTime": {
     "end_time": "2024-12-28T18:06:24.750590Z",
     "start_time": "2024-12-28T18:06:24.748438Z"
    }
   },
   "cell_type": "code",
   "source": "response.keys()",
   "id": "291f52e6d13fea73",
   "outputs": [
    {
     "data": {
      "text/plain": [
       "dict_keys(['rule_instance', 'is_error', 'error_message', 'free_text', 'type_name', 'rag_score', 'model_response', 'examples', 'schema', 'time', 'inference_time'])"
      ]
     },
     "execution_count": 6,
     "metadata": {},
     "output_type": "execute_result"
    }
   ],
   "execution_count": 6
  },
  {
   "metadata": {
    "ExecuteTime": {
     "end_time": "2024-12-28T18:06:24.753793Z",
     "start_time": "2024-12-28T18:06:24.751233Z"
    }
   },
   "cell_type": "code",
   "source": "response[\"rule_instance\"] # the package response",
   "id": "6dbad012ab6f1195",
   "outputs": [
    {
     "data": {
      "text/plain": [
       "{'_id': '00000000-0000-0000-0000-000000000000',\n",
       " 'description': 'string',\n",
       " 'isActive': True,\n",
       " 'lastUpdateTime': '00/00/0000 00:00:00',\n",
       " 'params': {'Scavenging efficiency': 30,\n",
       "  'Flight altitude': 'null',\n",
       "  'Beak sharpness': 8,\n",
       "  'Vision acuity': 'good',\n",
       "  'Wing span': 80,\n",
       "  'Thermal riding skill': 'intermediate',\n",
       "  'Bone digestion': 85,\n",
       "  'Feather maintenance': 'excellent'},\n",
       " 'ruleInstanceName': 'falcon evaluation',\n",
       " 'severity': 2,\n",
       " 'ruleType': 'structured',\n",
       " 'ruleOwner': '',\n",
       " 'ruleTypeId': '1b5db158-d5de-47c6-90f6-25688ffece4b',\n",
       " 'eventDetails': [{'objectName': 'Vulture',\n",
       "   'objectDescription': None,\n",
       "   'timeWindowInMilliseconds': 0,\n",
       "   'useLatest': False}],\n",
       " 'additionalInformation': {},\n",
       " 'presetId': '00000000-0000-0000-0000-000000000000'}"
      ]
     },
     "execution_count": 7,
     "metadata": {},
     "output_type": "execute_result"
    }
   ],
   "execution_count": 7
  },
  {
   "metadata": {
    "ExecuteTime": {
     "end_time": "2024-12-16T11:28:14.674761Z",
     "start_time": "2024-12-16T11:28:14.672048Z"
    }
   },
   "cell_type": "code",
   "source": [
    "# giving us feedback on the response. it will help us to improve the project. it stores in .logs file, without internet connection.\n",
    "rig.feedback(rig_response=response, good=True)  # or 0.8, or what ever you can  "
   ],
   "id": "1fd6dbf5fae064c9",
   "outputs": [
    {
     "data": {
      "text/plain": [
       "'thank you :)'"
      ]
     },
     "execution_count": 8,
     "metadata": {},
     "output_type": "execute_result"
    }
   ],
   "execution_count": 8
  },
  {
   "metadata": {},
   "cell_type": "markdown",
   "source": "# now you can run the evaluation:",
   "id": "e347cadf3211cca9"
  },
  {
   "metadata": {
    "ExecuteTime": {
     "end_time": "2024-12-30T04:53:58.403652Z",
     "start_time": "2024-12-30T04:53:36.362266Z"
    }
   },
   "cell_type": "code",
   "source": [
    "rig.evaluate(\n",
    "    start_point=0,\n",
    "    end_point=2,  #  -1 or None for all the data\n",
    "    sleep_time_each_10_iter=10,\n",
    "    batch_size=800\n",
    ")"
   ],
   "id": "3a636acd65e09e7b",
   "outputs": [
    {
     "name": "stderr",
     "output_type": "stream",
     "text": [
      "100%|██████████| 2/2 [00:21<00:00, 10.89s/it]"
     ]
    },
    {
     "name": "stdout",
     "output_type": "stream",
     "text": [
      "\n",
      "Average Accuracy Metrics:\n",
      "binary_score: 100.00%\n",
      "binary_score_no_instance_name: 100.00%\n",
      "param_numerical_binary_score: 100.00%\n",
      "param_numerical_avg_score: 100.00%\n",
      "param_verbal_binary_score: 100.00%\n",
      "param_verbal_avg_score: 100.00%\n",
      "score_rule_instance_name: 100.00%\n",
      "classification score: 100.00%\n",
      "\n",
      "Average Accuracy Metrics:\n",
      "binary_score: 100.00%\n",
      "binary_score_no_instance_name: 100.00%\n",
      "param_numerical_binary_score: 100.00%\n",
      "param_numerical_avg_score: 100.00%\n",
      "param_verbal_binary_score: 100.00%\n",
      "param_verbal_avg_score: 100.00%\n",
      "score_rule_instance_name: 100.00%\n",
      "classification score: 100.00%\n"
     ]
    },
    {
     "name": "stderr",
     "output_type": "stream",
     "text": [
      "\n"
     ]
    }
   ],
   "execution_count": 3
  }
 ],
 "metadata": {
  "kernelspec": {
   "display_name": "Python 3",
   "language": "python",
   "name": "python3"
  },
  "language_info": {
   "codemirror_mode": {
    "name": "ipython",
    "version": 2
   },
   "file_extension": ".py",
   "mimetype": "text/x-python",
   "name": "python",
   "nbconvert_exporter": "python",
   "pygments_lexer": "ipython2",
   "version": "2.7.6"
  }
 },
 "nbformat": 4,
 "nbformat_minor": 5
}
