{
 "cells": [
  {
   "metadata": {},
   "cell_type": "markdown",
   "source": [
    "# first:\n",
    "- download ollama \n",
    "- run in terminal ollama serve. \n",
    "- if you don't have internet - load the models (README - and the last cell)"
   ],
   "id": "4a2d43f6deccd5b0"
  },
  {
   "cell_type": "code",
   "id": "initial_id",
   "metadata": {
    "collapsed": true,
    "ExecuteTime": {
     "end_time": "2024-12-29T11:47:06.838128Z",
     "start_time": "2024-12-29T11:47:04.953984Z"
    }
   },
   "source": "from RIG.rule_instance_generator import RuleInstanceGenerator",
   "outputs": [],
   "execution_count": 1
  },
  {
   "metadata": {
    "ExecuteTime": {
     "end_time": "2024-12-29T11:47:07.127458Z",
     "start_time": "2024-12-29T11:47:06.839132Z"
    }
   },
   "cell_type": "code",
   "source": "rig = RuleInstanceGenerator()",
   "id": "a8d89b711cd268a1",
   "outputs": [],
   "execution_count": 2
  },
  {
   "metadata": {
    "ExecuteTime": {
     "end_time": "2024-12-29T11:47:18.873821Z",
     "start_time": "2024-12-29T11:47:12.008255Z"
    }
   },
   "cell_type": "code",
   "source": "rig.add_rule_types_from_folder()",
   "id": "2b721a2c32794c50",
   "outputs": [
    {
     "name": "stdout",
     "output_type": "stream",
     "text": [
      "Loading Bridge.json\n",
      "Loading Tentacled_Sea_Cucumber.json\n",
      "Loading Cavalry_Charge.json\n",
      "Loading Guerrilla_Skirmish.json\n",
      "Loading Sea_Otter.json\n",
      "Loading Morning_Star.json\n",
      "Loading Journalist.json\n",
      "Loading Rapier.json\n",
      "Loading Graphic_Designer.json\n",
      "Loading Puffin.json\n",
      "Loading Data_Analyst.json\n",
      "Loading Teacher.json\n",
      "Loading Hamster.json\n",
      "Loading Katana.json\n",
      "Loading Scientist.json\n",
      "Loading Boomerang.json\n",
      "Loading Koala.json\n",
      "Loading Nurse.json\n",
      "Loading Dentist.json\n",
      "Loading Gondola.json\n",
      "Loading Halberd.json\n",
      "Loading Engineer.json\n",
      "Loading Hospital.json\n",
      "Loading Tarantula.json\n",
      "Loading Architect.json\n",
      "Loading Bastard_Sword.json\n",
      "Loading Apartment_Building.json\n",
      "Loading Beaver.json\n",
      "Loading Flanking_Maneuver.json\n",
      "Loading Komodo_Dragon.json\n",
      "Loading Molotov_Cocktail.json\n",
      "Loading Bull.json\n",
      "Loading Fox.json\n",
      "Loading Flail.json\n",
      "Loading Firefighter.json\n",
      "Loading Kayak.json\n",
      "Loading Ballista.json\n",
      "Loading Farmer.json\n",
      "Loading Evacuation_Operation.json\n",
      "Loading Trench_Assault.json\n",
      "Loading Cow.json\n",
      "Loading Chef.json\n",
      "Loading Actor.json\n",
      "Loading ATV.json\n",
      "Loading Castle.json\n",
      "Loading Multi_Motor_Trampoline.json\n",
      "Loading Parrotfish.json\n",
      "Loading Aerial_Dogfight.json\n",
      "Loading Vulture.json\n",
      "Loading Goldfish.json\n",
      "Loading Paratrooper_Drop.json\n",
      "Loading Naval_Bombardment.json\n",
      "Loading Mole.json\n",
      "Loading Cannon.json\n",
      "Loading Scimitar.json\n",
      "Loading Shuriken.json\n",
      "Loading Canoe.json\n",
      "Loading Scythe.json\n",
      "Loading Goliath_Frog.json\n",
      "Loading Cottage.json\n",
      "Loading Conveyor.json\n",
      "Loading Software_Developer.json\n",
      "Loading Tank_Advance.json\n",
      "Loading Church.json\n",
      "Loading Robot.json\n",
      "Loading Gauntlet_Knife.json\n",
      "Loading Beetle.json\n",
      "Loading Factory.json\n",
      "Loading Airship_Vehicle.json\n",
      "Loading Artillery_Strike.json\n",
      "Loading Psychologist.json\n",
      "Loading Kangaroo.json\n",
      "Loading Anglerfish.json\n",
      "Loading Sabre.json\n",
      "Loading Phoenix_Fish.json\n",
      "Loading Siege.json\n",
      "Loading Barista.json\n",
      "Loading Pilot.json\n",
      "Loading Hotel.json\n",
      "Loading Lawyer.json\n",
      "Loading Museum.json\n",
      "Loading Police_Officer.json\n",
      "Loading Photographer.json\n",
      "Loading Bow.json\n",
      "Loading Poodle.json\n",
      "Loading Plumber.json\n",
      "Loading Bayonet_Charge.json\n",
      "Loading Net_Gun.json\n",
      "Loading Battlefield_Retreat.json\n",
      "Loading Kestrel.json\n",
      "Loading Swan.json\n",
      "Loading Electric_Train.json\n",
      "Loading Blowgun.json\n",
      "Loading Ambulance.json\n",
      "Loading Pangolin.json\n",
      "Loading Chakram.json\n",
      "Loading Platypus.json\n",
      "Loading Rooster.json\n",
      "Loading Wildcat.json\n",
      "Loading x4X4_Off_Road_Car.json\n",
      "Loading Event_Planner.json\n",
      "Loading Trident.json\n",
      "Loading Carpenter.json\n",
      "Loading Rabbit.json\n",
      "Loading Trolley.json\n",
      "Loading Urban_Public_Transport_System.json\n",
      "Loading Sniper_Attack.json\n",
      "Loading Axe.json\n",
      "Loading Mechanic.json\n"
     ]
    },
    {
     "data": {
      "text/plain": [
       "True"
      ]
     },
     "execution_count": 3,
     "metadata": {},
     "output_type": "execute_result"
    }
   ],
   "execution_count": 3
  },
  {
   "metadata": {
    "ExecuteTime": {
     "end_time": "2024-12-28T18:06:17.262066Z",
     "start_time": "2024-12-28T18:06:17.258616Z"
    }
   },
   "cell_type": "code",
   "source": [
    "# get list of existing rule types:\n",
    "rig.get_rule_types_names()"
   ],
   "id": "40f11096719ee8f8",
   "outputs": [
    {
     "data": {
      "text/plain": [
       "['bridge',\n",
       " 'equipment malfunction',\n",
       " 'tentacled_sea_cucumber',\n",
       " 'cavalry_charge',\n",
       " 'guerrilla_skirmish',\n",
       " 'sea_otter',\n",
       " 'morning_star',\n",
       " 'journalist',\n",
       " 'rapier',\n",
       " 'graphic_designer',\n",
       " 'puffin',\n",
       " 'data_analyst',\n",
       " 'teacher',\n",
       " 'hamster',\n",
       " 'katana',\n",
       " 'scientist',\n",
       " 'boomerang',\n",
       " 'koala',\n",
       " 'nurse',\n",
       " 'dentist',\n",
       " 'gondola',\n",
       " 'halberd',\n",
       " 'engineer',\n",
       " 'hospital',\n",
       " 'tarantula',\n",
       " 'architect',\n",
       " 'bastard_sword',\n",
       " 'apartment_building',\n",
       " 'beaver',\n",
       " 'flanking_maneuver',\n",
       " 'attack overview',\n",
       " 'komodo_dragon',\n",
       " 'molotov_cocktail',\n",
       " 'bull',\n",
       " 'fox',\n",
       " 'flail',\n",
       " 'firefighter',\n",
       " 'kayak',\n",
       " 'api throttling',\n",
       " 'ballista',\n",
       " 'farmer',\n",
       " 'fire control',\n",
       " 'evacuation_operation',\n",
       " 'betrayal risk',\n",
       " 'trench_assault',\n",
       " 'cow',\n",
       " 'chef',\n",
       " 'actor',\n",
       " 'atv',\n",
       " 'castle',\n",
       " 'multi_motor_trampoline',\n",
       " 'parrotfish',\n",
       " 'aerial_dogfight',\n",
       " 'vulture',\n",
       " 'goldfish',\n",
       " 'temperature threshold exceeded',\n",
       " 'disk space warning',\n",
       " 'radar error monitoring',\n",
       " 'paratrooper_drop',\n",
       " 'naval_bombardment',\n",
       " 'encryption flaw',\n",
       " 'satellite disruption',\n",
       " 'mole',\n",
       " 'cannon',\n",
       " 'scimitar',\n",
       " 'missile failure',\n",
       " 'shuriken',\n",
       " 'canoe',\n",
       " 'scythe',\n",
       " 'goliath frog',\n",
       " 'defection threat',\n",
       " 'cottage',\n",
       " 'conveyor',\n",
       " 'system failure',\n",
       " 'disloyal soldier',\n",
       " 'platoon report',\n",
       " 'corruption scandal',\n",
       " 'software developer',\n",
       " 'suspected person',\n",
       " 'password expiry',\n",
       " 'bomb failure',\n",
       " 'tank_advance',\n",
       " 'church',\n",
       " 'robot',\n",
       " 'gauntlet_knife',\n",
       " 'beetle',\n",
       " 'factory',\n",
       " 'airship_vehicle',\n",
       " 'artillery_strike',\n",
       " 'psychologist',\n",
       " 'covert agent',\n",
       " 'kangaroo',\n",
       " 'anglerfish',\n",
       " 'sabre',\n",
       " 'phoenix fish',\n",
       " 'siege',\n",
       " 'barista',\n",
       " 'supply shortage',\n",
       " 'pilot',\n",
       " 'hotel',\n",
       " 'leadership breakdown',\n",
       " 'lawyer',\n",
       " 'memory usage alert',\n",
       " 'museum',\n",
       " 'police_officer',\n",
       " 'photographer',\n",
       " 'command incompetence',\n",
       " 'bow',\n",
       " 'missile malfunction',\n",
       " 'poodle',\n",
       " 'plumber',\n",
       " 'bayonet_charge',\n",
       " 'net_gun',\n",
       " 'battlefield_retreat',\n",
       " 'kestrel',\n",
       " 'swan',\n",
       " 'electric_train',\n",
       " 'blowgun',\n",
       " 'ambulance',\n",
       " 'pangolin',\n",
       " 'chakram',\n",
       " 'platypus',\n",
       " 'rooster',\n",
       " 'wildcat',\n",
       " 'x4x4_off_road_car',\n",
       " 'launch failure',\n",
       " 'event_planner',\n",
       " 'trident',\n",
       " 'carpenter',\n",
       " 'rabbit',\n",
       " 'trolley',\n",
       " 'urban_public_transport_system',\n",
       " 'sniper_attack',\n",
       " 'axe',\n",
       " 'mechanic']"
      ]
     },
     "execution_count": 4,
     "metadata": {},
     "output_type": "execute_result"
    }
   ],
   "execution_count": 4
  },
  {
   "metadata": {},
   "cell_type": "markdown",
   "source": "## get rule instance from free text",
   "id": "af0758f5e833cca9"
  },
  {
   "metadata": {
    "ExecuteTime": {
     "end_time": "2024-12-28T18:06:24.747585Z",
     "start_time": "2024-12-28T18:06:17.262744Z"
    }
   },
   "cell_type": "code",
   "source": [
    "free_text = \"An instance of ruleInstanceName - Falcon Evaluation needs to be created, dealing with the severity level two. The scavenging efficiency of this falcon is, let's say, 30. However, the beak sharpness is much sharper, let's say something like eight. The falcon's vision acuity is good, and the wing span is, um, eighty. The level of thermal riding skill is intermediate. The bone digestion efficiency is much higher, at about eighty-five. And the feather maintenance? That's excellent.\"\n",
    "\n",
    "response = rig.get_rule_instance(free_text) # return dictionary"
   ],
   "id": "d41d9ff66ad84cda",
   "outputs": [],
   "execution_count": 5
  },
  {
   "metadata": {
    "ExecuteTime": {
     "end_time": "2024-12-28T18:06:24.750590Z",
     "start_time": "2024-12-28T18:06:24.748438Z"
    }
   },
   "cell_type": "code",
   "source": "response.keys()",
   "id": "291f52e6d13fea73",
   "outputs": [
    {
     "data": {
      "text/plain": [
       "dict_keys(['rule_instance', 'is_error', 'error_message', 'free_text', 'type_name', 'rag_score', 'model_response', 'examples', 'schema', 'time', 'inference_time'])"
      ]
     },
     "execution_count": 6,
     "metadata": {},
     "output_type": "execute_result"
    }
   ],
   "execution_count": 6
  },
  {
   "metadata": {
    "ExecuteTime": {
     "end_time": "2024-12-28T18:06:24.753793Z",
     "start_time": "2024-12-28T18:06:24.751233Z"
    }
   },
   "cell_type": "code",
   "source": "response[\"rule_instance\"] # the package response",
   "id": "6dbad012ab6f1195",
   "outputs": [
    {
     "data": {
      "text/plain": [
       "{'_id': '00000000-0000-0000-0000-000000000000',\n",
       " 'description': 'string',\n",
       " 'isActive': True,\n",
       " 'lastUpdateTime': '00/00/0000 00:00:00',\n",
       " 'params': {'Scavenging efficiency': 30,\n",
       "  'Flight altitude': 'null',\n",
       "  'Beak sharpness': 8,\n",
       "  'Vision acuity': 'good',\n",
       "  'Wing span': 80,\n",
       "  'Thermal riding skill': 'intermediate',\n",
       "  'Bone digestion': 85,\n",
       "  'Feather maintenance': 'excellent'},\n",
       " 'ruleInstanceName': 'falcon evaluation',\n",
       " 'severity': 2,\n",
       " 'ruleType': 'structured',\n",
       " 'ruleOwner': '',\n",
       " 'ruleTypeId': '1b5db158-d5de-47c6-90f6-25688ffece4b',\n",
       " 'eventDetails': [{'objectName': 'Vulture',\n",
       "   'objectDescription': None,\n",
       "   'timeWindowInMilliseconds': 0,\n",
       "   'useLatest': False}],\n",
       " 'additionalInformation': {},\n",
       " 'presetId': '00000000-0000-0000-0000-000000000000'}"
      ]
     },
     "execution_count": 7,
     "metadata": {},
     "output_type": "execute_result"
    }
   ],
   "execution_count": 7
  },
  {
   "metadata": {
    "ExecuteTime": {
     "end_time": "2024-12-16T11:28:14.674761Z",
     "start_time": "2024-12-16T11:28:14.672048Z"
    }
   },
   "cell_type": "code",
   "source": [
    "# giving us feedback on the response. it will help us to improve the project. it stores in .logs file, without internet connection.\n",
    "rig.feedback(rig_response=response, good=True)  # or 0.8, or what ever you can  "
   ],
   "id": "1fd6dbf5fae064c9",
   "outputs": [
    {
     "data": {
      "text/plain": [
       "'thank you :)'"
      ]
     },
     "execution_count": 8,
     "metadata": {},
     "output_type": "execute_result"
    }
   ],
   "execution_count": 8
  },
  {
   "metadata": {},
   "cell_type": "markdown",
   "source": "# now you can run the evaluation:",
   "id": "e347cadf3211cca9"
  },
  {
   "metadata": {
    "ExecuteTime": {
     "end_time": "2024-12-29T11:47:46.057492Z",
     "start_time": "2024-12-29T11:47:45.057626Z"
    }
   },
   "cell_type": "code",
   "source": [
    "rig.evaluate(\n",
    "    start_point=0,\n",
    "    end_point=-1,  #  -1 or None for all the data\n",
    "    sleep_time_each_10_iter=10,\n",
    "    batch_size=800\n",
    ")"
   ],
   "id": "3a636acd65e09e7b",
   "outputs": [
    {
     "ename": "ValueError",
     "evalue": "malformed node or string on line 1: <ast.Name object at 0x32061a950>",
     "output_type": "error",
     "traceback": [
      "\u001B[0;31m---------------------------------------------------------------------------\u001B[0m",
      "\u001B[0;31mValueError\u001B[0m                                Traceback (most recent call last)",
      "Cell \u001B[0;32mIn[4], line 1\u001B[0m\n\u001B[0;32m----> 1\u001B[0m rig\u001B[38;5;241m.\u001B[39mevaluate(\n\u001B[1;32m      2\u001B[0m     start_point\u001B[38;5;241m=\u001B[39m\u001B[38;5;241m0\u001B[39m,\n\u001B[1;32m      3\u001B[0m     end_point\u001B[38;5;241m=\u001B[39m\u001B[38;5;241m-\u001B[39m\u001B[38;5;241m1\u001B[39m,  \u001B[38;5;66;03m#  -1 or None for all the data\u001B[39;00m\n\u001B[1;32m      4\u001B[0m     sleep_time_each_10_iter\u001B[38;5;241m=\u001B[39m\u001B[38;5;241m10\u001B[39m,\n\u001B[1;32m      5\u001B[0m     batch_size\u001B[38;5;241m=\u001B[39m\u001B[38;5;241m800\u001B[39m\n\u001B[1;32m      6\u001B[0m )\n",
      "File \u001B[0;32m~/PycharmProjects/RIG_v2/RIG/rule_instance_generator.py:178\u001B[0m, in \u001B[0;36mRuleInstanceGenerator.evaluate\u001B[0;34m(self, data_file_path, output_directory, start_point, end_point, sleep_time_each_10_iter, batch_size)\u001B[0m\n\u001B[1;32m    155\u001B[0m \u001B[38;5;28;01mdef\u001B[39;00m \u001B[38;5;21mevaluate\u001B[39m(\n\u001B[1;32m    156\u001B[0m     \u001B[38;5;28mself\u001B[39m,\n\u001B[1;32m    157\u001B[0m     data_file_path\u001B[38;5;241m=\u001B[39mGLOBALS\u001B[38;5;241m.\u001B[39mdf_eval_path,\n\u001B[0;32m   (...)\u001B[0m\n\u001B[1;32m    162\u001B[0m     batch_size\u001B[38;5;241m=\u001B[39m\u001B[38;5;241m250\u001B[39m,\n\u001B[1;32m    163\u001B[0m ):\n\u001B[1;32m    164\u001B[0m \u001B[38;5;250m    \u001B[39m\u001B[38;5;124;03m\"\"\"\u001B[39;00m\n\u001B[1;32m    165\u001B[0m \u001B[38;5;124;03m    Evaluate the system with a dataset.\u001B[39;00m\n\u001B[1;32m    166\u001B[0m \n\u001B[0;32m   (...)\u001B[0m\n\u001B[1;32m    176\u001B[0m \u001B[38;5;124;03m        None\u001B[39;00m\n\u001B[1;32m    177\u001B[0m \u001B[38;5;124;03m    \"\"\"\u001B[39;00m\n\u001B[0;32m--> 178\u001B[0m     evaluate_func(\n\u001B[1;32m    179\u001B[0m         \u001B[38;5;28mself\u001B[39m,\n\u001B[1;32m    180\u001B[0m         data_file_path\u001B[38;5;241m=\u001B[39mdata_file_path,\n\u001B[1;32m    181\u001B[0m         output_directory\u001B[38;5;241m=\u001B[39moutput_directory,\n\u001B[1;32m    182\u001B[0m         start_point\u001B[38;5;241m=\u001B[39mstart_point,\n\u001B[1;32m    183\u001B[0m         end_point\u001B[38;5;241m=\u001B[39mend_point,  \u001B[38;5;66;03m# -1 all the data (almost...)\u001B[39;00m\n\u001B[1;32m    184\u001B[0m         sleep_time_each_10\u001B[38;5;241m=\u001B[39msleep_time_each_10_iter,\n\u001B[1;32m    185\u001B[0m         batch_size\u001B[38;5;241m=\u001B[39mbatch_size\n\u001B[1;32m    186\u001B[0m     )\n",
      "File \u001B[0;32m~/PycharmProjects/RIG_v2/RIG/rig_evaluate.py:198\u001B[0m, in \u001B[0;36mevaluate_func\u001B[0;34m(self, data_file_path, output_directory, start_point, end_point, sleep_time_each_10, batch_size)\u001B[0m\n\u001B[1;32m    196\u001B[0m df_eval \u001B[38;5;241m=\u001B[39m pd\u001B[38;5;241m.\u001B[39mread_csv(data_file_path)\n\u001B[1;32m    197\u001B[0m \u001B[38;5;66;03m# Parse `excepted_response` and `free_text`\u001B[39;00m\n\u001B[0;32m--> 198\u001B[0m df_eval[\u001B[38;5;124m\"\u001B[39m\u001B[38;5;124mexpected_response\u001B[39m\u001B[38;5;124m\"\u001B[39m] \u001B[38;5;241m=\u001B[39m df_eval[\u001B[38;5;124m\"\u001B[39m\u001B[38;5;124mexpected_response\u001B[39m\u001B[38;5;124m\"\u001B[39m]\u001B[38;5;241m.\u001B[39mapply(\n\u001B[1;32m    199\u001B[0m     ast\u001B[38;5;241m.\u001B[39mliteral_eval)  \u001B[38;5;66;03m# Convert strings to dictionaries\u001B[39;00m\n\u001B[1;32m    200\u001B[0m df_eval[\u001B[38;5;124m\"\u001B[39m\u001B[38;5;124mfree_text\u001B[39m\u001B[38;5;124m\"\u001B[39m] \u001B[38;5;241m=\u001B[39m df_eval[\u001B[38;5;124m\"\u001B[39m\u001B[38;5;124mfree_text\u001B[39m\u001B[38;5;124m\"\u001B[39m]\u001B[38;5;241m.\u001B[39mapply(parse_free_text)  \u001B[38;5;66;03m# Handle plain strings and lists\u001B[39;00m\n\u001B[1;32m    202\u001B[0m \u001B[38;5;66;03m# Create eval_data_generation from the DataFrame\u001B[39;00m\n",
      "File \u001B[0;32m/opt/anaconda3/lib/python3.12/site-packages/pandas/core/series.py:4924\u001B[0m, in \u001B[0;36mSeries.apply\u001B[0;34m(self, func, convert_dtype, args, by_row, **kwargs)\u001B[0m\n\u001B[1;32m   4789\u001B[0m \u001B[38;5;28;01mdef\u001B[39;00m \u001B[38;5;21mapply\u001B[39m(\n\u001B[1;32m   4790\u001B[0m     \u001B[38;5;28mself\u001B[39m,\n\u001B[1;32m   4791\u001B[0m     func: AggFuncType,\n\u001B[0;32m   (...)\u001B[0m\n\u001B[1;32m   4796\u001B[0m     \u001B[38;5;241m*\u001B[39m\u001B[38;5;241m*\u001B[39mkwargs,\n\u001B[1;32m   4797\u001B[0m ) \u001B[38;5;241m-\u001B[39m\u001B[38;5;241m>\u001B[39m DataFrame \u001B[38;5;241m|\u001B[39m Series:\n\u001B[1;32m   4798\u001B[0m \u001B[38;5;250m    \u001B[39m\u001B[38;5;124;03m\"\"\"\u001B[39;00m\n\u001B[1;32m   4799\u001B[0m \u001B[38;5;124;03m    Invoke function on values of Series.\u001B[39;00m\n\u001B[1;32m   4800\u001B[0m \n\u001B[0;32m   (...)\u001B[0m\n\u001B[1;32m   4915\u001B[0m \u001B[38;5;124;03m    dtype: float64\u001B[39;00m\n\u001B[1;32m   4916\u001B[0m \u001B[38;5;124;03m    \"\"\"\u001B[39;00m\n\u001B[1;32m   4917\u001B[0m     \u001B[38;5;28;01mreturn\u001B[39;00m SeriesApply(\n\u001B[1;32m   4918\u001B[0m         \u001B[38;5;28mself\u001B[39m,\n\u001B[1;32m   4919\u001B[0m         func,\n\u001B[1;32m   4920\u001B[0m         convert_dtype\u001B[38;5;241m=\u001B[39mconvert_dtype,\n\u001B[1;32m   4921\u001B[0m         by_row\u001B[38;5;241m=\u001B[39mby_row,\n\u001B[1;32m   4922\u001B[0m         args\u001B[38;5;241m=\u001B[39margs,\n\u001B[1;32m   4923\u001B[0m         kwargs\u001B[38;5;241m=\u001B[39mkwargs,\n\u001B[0;32m-> 4924\u001B[0m     )\u001B[38;5;241m.\u001B[39mapply()\n",
      "File \u001B[0;32m/opt/anaconda3/lib/python3.12/site-packages/pandas/core/apply.py:1427\u001B[0m, in \u001B[0;36mSeriesApply.apply\u001B[0;34m(self)\u001B[0m\n\u001B[1;32m   1424\u001B[0m     \u001B[38;5;28;01mreturn\u001B[39;00m \u001B[38;5;28mself\u001B[39m\u001B[38;5;241m.\u001B[39mapply_compat()\n\u001B[1;32m   1426\u001B[0m \u001B[38;5;66;03m# self.func is Callable\u001B[39;00m\n\u001B[0;32m-> 1427\u001B[0m \u001B[38;5;28;01mreturn\u001B[39;00m \u001B[38;5;28mself\u001B[39m\u001B[38;5;241m.\u001B[39mapply_standard()\n",
      "File \u001B[0;32m/opt/anaconda3/lib/python3.12/site-packages/pandas/core/apply.py:1507\u001B[0m, in \u001B[0;36mSeriesApply.apply_standard\u001B[0;34m(self)\u001B[0m\n\u001B[1;32m   1501\u001B[0m \u001B[38;5;66;03m# row-wise access\u001B[39;00m\n\u001B[1;32m   1502\u001B[0m \u001B[38;5;66;03m# apply doesn't have a `na_action` keyword and for backward compat reasons\u001B[39;00m\n\u001B[1;32m   1503\u001B[0m \u001B[38;5;66;03m# we need to give `na_action=\"ignore\"` for categorical data.\u001B[39;00m\n\u001B[1;32m   1504\u001B[0m \u001B[38;5;66;03m# TODO: remove the `na_action=\"ignore\"` when that default has been changed in\u001B[39;00m\n\u001B[1;32m   1505\u001B[0m \u001B[38;5;66;03m#  Categorical (GH51645).\u001B[39;00m\n\u001B[1;32m   1506\u001B[0m action \u001B[38;5;241m=\u001B[39m \u001B[38;5;124m\"\u001B[39m\u001B[38;5;124mignore\u001B[39m\u001B[38;5;124m\"\u001B[39m \u001B[38;5;28;01mif\u001B[39;00m \u001B[38;5;28misinstance\u001B[39m(obj\u001B[38;5;241m.\u001B[39mdtype, CategoricalDtype) \u001B[38;5;28;01melse\u001B[39;00m \u001B[38;5;28;01mNone\u001B[39;00m\n\u001B[0;32m-> 1507\u001B[0m mapped \u001B[38;5;241m=\u001B[39m obj\u001B[38;5;241m.\u001B[39m_map_values(\n\u001B[1;32m   1508\u001B[0m     mapper\u001B[38;5;241m=\u001B[39mcurried, na_action\u001B[38;5;241m=\u001B[39maction, convert\u001B[38;5;241m=\u001B[39m\u001B[38;5;28mself\u001B[39m\u001B[38;5;241m.\u001B[39mconvert_dtype\n\u001B[1;32m   1509\u001B[0m )\n\u001B[1;32m   1511\u001B[0m \u001B[38;5;28;01mif\u001B[39;00m \u001B[38;5;28mlen\u001B[39m(mapped) \u001B[38;5;129;01mand\u001B[39;00m \u001B[38;5;28misinstance\u001B[39m(mapped[\u001B[38;5;241m0\u001B[39m], ABCSeries):\n\u001B[1;32m   1512\u001B[0m     \u001B[38;5;66;03m# GH#43986 Need to do list(mapped) in order to get treated as nested\u001B[39;00m\n\u001B[1;32m   1513\u001B[0m     \u001B[38;5;66;03m#  See also GH#25959 regarding EA support\u001B[39;00m\n\u001B[1;32m   1514\u001B[0m     \u001B[38;5;28;01mreturn\u001B[39;00m obj\u001B[38;5;241m.\u001B[39m_constructor_expanddim(\u001B[38;5;28mlist\u001B[39m(mapped), index\u001B[38;5;241m=\u001B[39mobj\u001B[38;5;241m.\u001B[39mindex)\n",
      "File \u001B[0;32m/opt/anaconda3/lib/python3.12/site-packages/pandas/core/base.py:921\u001B[0m, in \u001B[0;36mIndexOpsMixin._map_values\u001B[0;34m(self, mapper, na_action, convert)\u001B[0m\n\u001B[1;32m    918\u001B[0m \u001B[38;5;28;01mif\u001B[39;00m \u001B[38;5;28misinstance\u001B[39m(arr, ExtensionArray):\n\u001B[1;32m    919\u001B[0m     \u001B[38;5;28;01mreturn\u001B[39;00m arr\u001B[38;5;241m.\u001B[39mmap(mapper, na_action\u001B[38;5;241m=\u001B[39mna_action)\n\u001B[0;32m--> 921\u001B[0m \u001B[38;5;28;01mreturn\u001B[39;00m algorithms\u001B[38;5;241m.\u001B[39mmap_array(arr, mapper, na_action\u001B[38;5;241m=\u001B[39mna_action, convert\u001B[38;5;241m=\u001B[39mconvert)\n",
      "File \u001B[0;32m/opt/anaconda3/lib/python3.12/site-packages/pandas/core/algorithms.py:1743\u001B[0m, in \u001B[0;36mmap_array\u001B[0;34m(arr, mapper, na_action, convert)\u001B[0m\n\u001B[1;32m   1741\u001B[0m values \u001B[38;5;241m=\u001B[39m arr\u001B[38;5;241m.\u001B[39mastype(\u001B[38;5;28mobject\u001B[39m, copy\u001B[38;5;241m=\u001B[39m\u001B[38;5;28;01mFalse\u001B[39;00m)\n\u001B[1;32m   1742\u001B[0m \u001B[38;5;28;01mif\u001B[39;00m na_action \u001B[38;5;129;01mis\u001B[39;00m \u001B[38;5;28;01mNone\u001B[39;00m:\n\u001B[0;32m-> 1743\u001B[0m     \u001B[38;5;28;01mreturn\u001B[39;00m lib\u001B[38;5;241m.\u001B[39mmap_infer(values, mapper, convert\u001B[38;5;241m=\u001B[39mconvert)\n\u001B[1;32m   1744\u001B[0m \u001B[38;5;28;01melse\u001B[39;00m:\n\u001B[1;32m   1745\u001B[0m     \u001B[38;5;28;01mreturn\u001B[39;00m lib\u001B[38;5;241m.\u001B[39mmap_infer_mask(\n\u001B[1;32m   1746\u001B[0m         values, mapper, mask\u001B[38;5;241m=\u001B[39misna(values)\u001B[38;5;241m.\u001B[39mview(np\u001B[38;5;241m.\u001B[39muint8), convert\u001B[38;5;241m=\u001B[39mconvert\n\u001B[1;32m   1747\u001B[0m     )\n",
      "File \u001B[0;32mlib.pyx:2972\u001B[0m, in \u001B[0;36mpandas._libs.lib.map_infer\u001B[0;34m()\u001B[0m\n",
      "File \u001B[0;32m/opt/anaconda3/lib/python3.12/ast.py:112\u001B[0m, in \u001B[0;36mliteral_eval\u001B[0;34m(node_or_string)\u001B[0m\n\u001B[1;32m    110\u001B[0m                 \u001B[38;5;28;01mreturn\u001B[39;00m left \u001B[38;5;241m-\u001B[39m right\n\u001B[1;32m    111\u001B[0m     \u001B[38;5;28;01mreturn\u001B[39;00m _convert_signed_num(node)\n\u001B[0;32m--> 112\u001B[0m \u001B[38;5;28;01mreturn\u001B[39;00m _convert(node_or_string)\n",
      "File \u001B[0;32m/opt/anaconda3/lib/python3.12/ast.py:111\u001B[0m, in \u001B[0;36mliteral_eval.<locals>._convert\u001B[0;34m(node)\u001B[0m\n\u001B[1;32m    109\u001B[0m         \u001B[38;5;28;01melse\u001B[39;00m:\n\u001B[1;32m    110\u001B[0m             \u001B[38;5;28;01mreturn\u001B[39;00m left \u001B[38;5;241m-\u001B[39m right\n\u001B[0;32m--> 111\u001B[0m \u001B[38;5;28;01mreturn\u001B[39;00m _convert_signed_num(node)\n",
      "File \u001B[0;32m/opt/anaconda3/lib/python3.12/ast.py:85\u001B[0m, in \u001B[0;36mliteral_eval.<locals>._convert_signed_num\u001B[0;34m(node)\u001B[0m\n\u001B[1;32m     83\u001B[0m     \u001B[38;5;28;01melse\u001B[39;00m:\n\u001B[1;32m     84\u001B[0m         \u001B[38;5;28;01mreturn\u001B[39;00m \u001B[38;5;241m-\u001B[39m operand\n\u001B[0;32m---> 85\u001B[0m \u001B[38;5;28;01mreturn\u001B[39;00m _convert_num(node)\n",
      "File \u001B[0;32m/opt/anaconda3/lib/python3.12/ast.py:76\u001B[0m, in \u001B[0;36mliteral_eval.<locals>._convert_num\u001B[0;34m(node)\u001B[0m\n\u001B[1;32m     74\u001B[0m \u001B[38;5;28;01mdef\u001B[39;00m \u001B[38;5;21m_convert_num\u001B[39m(node):\n\u001B[1;32m     75\u001B[0m     \u001B[38;5;28;01mif\u001B[39;00m \u001B[38;5;129;01mnot\u001B[39;00m \u001B[38;5;28misinstance\u001B[39m(node, Constant) \u001B[38;5;129;01mor\u001B[39;00m \u001B[38;5;28mtype\u001B[39m(node\u001B[38;5;241m.\u001B[39mvalue) \u001B[38;5;129;01mnot\u001B[39;00m \u001B[38;5;129;01min\u001B[39;00m (\u001B[38;5;28mint\u001B[39m, \u001B[38;5;28mfloat\u001B[39m, \u001B[38;5;28mcomplex\u001B[39m):\n\u001B[0;32m---> 76\u001B[0m         _raise_malformed_node(node)\n\u001B[1;32m     77\u001B[0m     \u001B[38;5;28;01mreturn\u001B[39;00m node\u001B[38;5;241m.\u001B[39mvalue\n",
      "File \u001B[0;32m/opt/anaconda3/lib/python3.12/ast.py:73\u001B[0m, in \u001B[0;36mliteral_eval.<locals>._raise_malformed_node\u001B[0;34m(node)\u001B[0m\n\u001B[1;32m     71\u001B[0m \u001B[38;5;28;01mif\u001B[39;00m lno \u001B[38;5;241m:=\u001B[39m \u001B[38;5;28mgetattr\u001B[39m(node, \u001B[38;5;124m'\u001B[39m\u001B[38;5;124mlineno\u001B[39m\u001B[38;5;124m'\u001B[39m, \u001B[38;5;28;01mNone\u001B[39;00m):\n\u001B[1;32m     72\u001B[0m     msg \u001B[38;5;241m+\u001B[39m\u001B[38;5;241m=\u001B[39m \u001B[38;5;124mf\u001B[39m\u001B[38;5;124m'\u001B[39m\u001B[38;5;124m on line \u001B[39m\u001B[38;5;132;01m{\u001B[39;00mlno\u001B[38;5;132;01m}\u001B[39;00m\u001B[38;5;124m'\u001B[39m\n\u001B[0;32m---> 73\u001B[0m \u001B[38;5;28;01mraise\u001B[39;00m \u001B[38;5;167;01mValueError\u001B[39;00m(msg \u001B[38;5;241m+\u001B[39m \u001B[38;5;124mf\u001B[39m\u001B[38;5;124m'\u001B[39m\u001B[38;5;124m: \u001B[39m\u001B[38;5;132;01m{\u001B[39;00mnode\u001B[38;5;132;01m!r}\u001B[39;00m\u001B[38;5;124m'\u001B[39m)\n",
      "\u001B[0;31mValueError\u001B[0m: malformed node or string on line 1: <ast.Name object at 0x32061a950>"
     ]
    }
   ],
   "execution_count": 4
  },
  {
   "metadata": {},
   "cell_type": "markdown",
   "source": [
    "# make ollama models from gguf NOT docker \n",
    "* assuming you already set the correct directory (without rig project) - for development"
   ],
   "id": "51aa35d9a00c1a3a"
  },
  {
   "metadata": {
    "ExecuteTime": {
     "end_time": "2024-12-28T18:06:32.681576Z",
     "start_time": "2024-12-28T18:06:32.678681Z"
    }
   },
   "cell_type": "code",
   "source": [
    "import subprocess\n",
    "import os\n",
    "\n",
    "def create_models_from_gguf_NOT_docker():\n",
    "    \"\"\"\n",
    "        create the models on your computer\n",
    "        IMPORTANT!!! if you using windows, you should change in the modelfile the FROM section into a correct path.\n",
    "    \"\"\"\n",
    "    modelfile_location = \"/Users/yuda/PycharmProjects/RIG_v2/rig_modelfiles\"\n",
    "    gemma_model_name = \"gemma-2-2b-it-Q8_0:rig\"\n",
    "    rag_model_name = \"snowflake-arctic-embed-137m:rig\"\n",
    "    \n",
    "    commands = [\n",
    "        f\"ollama create {gemma_model_name} -f {os.path.join(modelfile_location, 'gemma-2-2b-it-Q8_0')}\",\n",
    "        f\"ollama create {rag_model_name} -f {os.path.join(modelfile_location, 'snowflake-arctic-embed-m-long-F16')}\"\n",
    "    ]\n",
    "    \n",
    "\n",
    "    for command in commands:\n",
    "        try:\n",
    "            print(f\"Running: {command}\")\n",
    "            result = subprocess.run(command, shell=True, check=True, text=True, capture_output=True)\n",
    "            print(result.stdout)\n",
    "        except subprocess.CalledProcessError as e:\n",
    "            print(f\"Error running {command}: {e.stderr}\")\n",
    "\n",
    "create_models_from_gguf_NOT_docker()"
   ],
   "id": "b6b53714710cdf43",
   "outputs": [],
   "execution_count": 8
  },
  {
   "metadata": {},
   "cell_type": "code",
   "outputs": [],
   "execution_count": null,
   "source": "",
   "id": "39a4774df8f1a76d"
  }
 ],
 "metadata": {
  "kernelspec": {
   "display_name": "Python 3",
   "language": "python",
   "name": "python3"
  },
  "language_info": {
   "codemirror_mode": {
    "name": "ipython",
    "version": 2
   },
   "file_extension": ".py",
   "mimetype": "text/x-python",
   "name": "python",
   "nbconvert_exporter": "python",
   "pygments_lexer": "ipython2",
   "version": "2.7.6"
  }
 },
 "nbformat": 4,
 "nbformat_minor": 5
}
