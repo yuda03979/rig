{
 "cells": [
  {
   "metadata": {},
   "cell_type": "markdown",
   "source": [
    "# first:\n",
    "- download ollama \n",
    "- run in terminal ollama serve. \n",
    "- if you don't have internet - load the models (README - and the last cell)"
   ],
   "id": "4a2d43f6deccd5b0"
  },
  {
   "cell_type": "code",
   "id": "initial_id",
   "metadata": {
    "collapsed": true,
    "ExecuteTime": {
     "end_time": "2024-12-31T15:52:58.028935Z",
     "start_time": "2024-12-31T15:52:55.465365Z"
    }
   },
   "source": "from RIG.rule_instance_generator import RuleInstanceGenerator",
   "outputs": [],
   "execution_count": 1
  },
  {
   "metadata": {
    "ExecuteTime": {
     "end_time": "2024-12-31T15:52:58.307721Z",
     "start_time": "2024-12-31T15:52:58.030064Z"
    }
   },
   "cell_type": "code",
   "source": "rig = RuleInstanceGenerator()",
   "id": "a8d89b711cd268a1",
   "outputs": [],
   "execution_count": 2
  },
  {
   "metadata": {
    "ExecuteTime": {
     "end_time": "2024-12-30T14:47:14.375010Z",
     "start_time": "2024-12-30T14:47:06.648273Z"
    }
   },
   "cell_type": "code",
   "source": "rig.add_rule_types_from_folder()",
   "id": "2b721a2c32794c50",
   "outputs": [
    {
     "name": "stdout",
     "output_type": "stream",
     "text": [
      "Loading Bridge.json\n",
      "Loading Tentacled_Sea_Cucumber.json\n",
      "Loading Cavalry_Charge.json\n",
      "Loading Guerrilla_Skirmish.json\n",
      "Loading Sea_Otter.json\n",
      "Loading Morning_Star.json\n",
      "Loading Journalist.json\n",
      "Loading Rapier.json\n",
      "Loading Graphic_Designer.json\n",
      "Loading Puffin.json\n",
      "Loading Data_Analyst.json\n",
      "Loading Teacher.json\n",
      "Loading Hamster.json\n",
      "Loading Katana.json\n",
      "Loading Scientist.json\n",
      "Loading Boomerang.json\n",
      "Loading Koala.json\n",
      "Loading Nurse.json\n",
      "Loading Dentist.json\n",
      "Loading Gondola.json\n",
      "Loading Halberd.json\n",
      "Loading Engineer.json\n",
      "Loading Hospital.json\n",
      "Loading Tarantula.json\n",
      "Loading Architect.json\n",
      "Loading Bastard_Sword.json\n",
      "Loading Apartment_Building.json\n",
      "Loading Beaver.json\n",
      "Loading Flanking_Maneuver.json\n",
      "Loading Komodo_Dragon.json\n",
      "Loading Molotov_Cocktail.json\n",
      "Loading Bull.json\n",
      "Loading Fox.json\n",
      "Loading Flail.json\n",
      "Loading Firefighter.json\n",
      "Loading Kayak.json\n",
      "Loading Ballista.json\n",
      "Loading Farmer.json\n",
      "Loading Evacuation_Operation.json\n",
      "Loading Trench_Assault.json\n",
      "Loading Cow.json\n",
      "Loading Chef.json\n",
      "Loading Actor.json\n",
      "Loading ATV.json\n",
      "Loading Castle.json\n",
      "Loading Multi_Motor_Trampoline.json\n",
      "Loading Parrotfish.json\n",
      "Loading Aerial_Dogfight.json\n",
      "Loading Vulture.json\n",
      "Loading Goldfish.json\n",
      "Loading Paratrooper_Drop.json\n",
      "Loading Naval_Bombardment.json\n",
      "Loading Mole.json\n",
      "Loading Cannon.json\n",
      "Loading Scimitar.json\n",
      "Loading Shuriken.json\n",
      "Loading Canoe.json\n",
      "Loading Scythe.json\n",
      "Loading Goliath_Frog.json\n",
      "Loading Cottage.json\n",
      "Loading Conveyor.json\n",
      "Loading Software_Developer.json\n",
      "Loading Tank_Advance.json\n",
      "Loading Church.json\n",
      "Loading Robot.json\n",
      "Loading Gauntlet_Knife.json\n",
      "Loading Beetle.json\n",
      "Loading Factory.json\n",
      "Loading Airship_Vehicle.json\n",
      "Loading Artillery_Strike.json\n",
      "Loading Psychologist.json\n",
      "Loading Kangaroo.json\n",
      "Loading Anglerfish.json\n",
      "Loading Sabre.json\n",
      "Loading Phoenix_Fish.json\n",
      "Loading Siege.json\n",
      "Loading Barista.json\n",
      "Loading Pilot.json\n",
      "Loading Hotel.json\n",
      "Loading Lawyer.json\n",
      "Loading Museum.json\n",
      "Loading Police_Officer.json\n",
      "Loading Photographer.json\n",
      "Loading Bow.json\n",
      "Loading Poodle.json\n",
      "Loading Plumber.json\n",
      "Loading Bayonet_Charge.json\n",
      "Loading Net_Gun.json\n",
      "Loading Battlefield_Retreat.json\n",
      "Loading Kestrel.json\n",
      "Loading Swan.json\n",
      "Loading Electric_Train.json\n",
      "Loading Blowgun.json\n",
      "Loading Ambulance.json\n",
      "Loading Pangolin.json\n",
      "Loading Chakram.json\n",
      "Loading Platypus.json\n",
      "Loading Rooster.json\n",
      "Loading Wildcat.json\n",
      "Loading x4X4_Off_Road_Car.json\n",
      "Loading Event_Planner.json\n",
      "Loading Trident.json\n",
      "Loading Carpenter.json\n",
      "Loading Rabbit.json\n",
      "Loading Trolley.json\n",
      "Loading Urban_Public_Transport_System.json\n",
      "Loading Sniper_Attack.json\n",
      "Loading Axe.json\n",
      "Loading Mechanic.json\n"
     ]
    },
    {
     "data": {
      "text/plain": [
       "True"
      ]
     },
     "execution_count": 3,
     "metadata": {},
     "output_type": "execute_result"
    }
   ],
   "execution_count": 3
  },
  {
   "metadata": {
    "ExecuteTime": {
     "end_time": "2024-12-30T14:47:14.378240Z",
     "start_time": "2024-12-30T14:47:14.375657Z"
    }
   },
   "cell_type": "code",
   "source": [
    "# get list of existing rule types:\n",
    "len(rig.get_rule_types_names())"
   ],
   "id": "40f11096719ee8f8",
   "outputs": [
    {
     "data": {
      "text/plain": [
       "109"
      ]
     },
     "execution_count": 4,
     "metadata": {},
     "output_type": "execute_result"
    }
   ],
   "execution_count": 4
  },
  {
   "metadata": {},
   "cell_type": "code",
   "outputs": [],
   "execution_count": null,
   "source": "rig.tweak_rag_parameters(rag_difference=0.002, rag_threshold=0.5)",
   "id": "de07b79d8614b256"
  },
  {
   "metadata": {},
   "cell_type": "markdown",
   "source": "## get rule instance from free text",
   "id": "af0758f5e833cca9"
  },
  {
   "metadata": {
    "ExecuteTime": {
     "end_time": "2024-12-31T15:06:06.999306Z",
     "start_time": "2024-12-31T15:06:00.728762Z"
    }
   },
   "cell_type": "code",
   "source": [
    "free_text = \"An instance of ruleInstanceName - Falcon Evaluation needs to be created, dealing with the severity level two. The scavenging efficiency of this falcon is, let's say, 30. However, the beak sharpness is much sharper, let's say something like eight. The falcon's vision acuity is good, and the wing span is, um, eighty. The level of thermal riding skill is intermediate. The bone digestion efficiency is much higher, at about eighty-five. And the feather maintenance? That's excellent.\"\n",
    "\n",
    "response = rig.get_rule_instance(free_text) # return dictionary"
   ],
   "id": "d41d9ff66ad84cda",
   "outputs": [
    {
     "name": "stdout",
     "output_type": "stream",
     "text": [
      "Model output: {'score': 1\n",
      "Model output: <class 'dict'>\n"
     ]
    }
   ],
   "execution_count": 4
  },
  {
   "metadata": {
    "ExecuteTime": {
     "end_time": "2024-12-31T14:01:58.831779Z",
     "start_time": "2024-12-31T14:01:58.825519Z"
    }
   },
   "cell_type": "code",
   "source": "response",
   "id": "8272c662c671476c",
   "outputs": [
    {
     "data": {
      "text/plain": [
       "{'rule_instance': {'_id': '00000000-0000-0000-0000-000000000000',\n",
       "  'description': 'string',\n",
       "  'isActive': True,\n",
       "  'lastUpdateTime': '00/00/0000 00:00:00',\n",
       "  'params': {'Scavenging efficiency': 30,\n",
       "   'Flight altitude': 'null',\n",
       "   'Beak sharpness': 8,\n",
       "   'Vision acuity': 'good',\n",
       "   'Wing span': 80,\n",
       "   'Thermal riding skill': 'intermediate',\n",
       "   'Bone digestion': 85,\n",
       "   'Feather maintenance': 'excellent'},\n",
       "  'ruleInstanceName': 'falcon evaluation',\n",
       "  'severity': 2,\n",
       "  'ruleType': 'structured',\n",
       "  'ruleOwner': '',\n",
       "  'ruleTypeId': '1b5db158-d5de-47c6-90f6-25688ffece4b',\n",
       "  'eventDetails': [{'objectName': 'Vulture',\n",
       "    'objectDescription': None,\n",
       "    'timeWindowInMilliseconds': 0,\n",
       "    'useLatest': False}],\n",
       "  'additionalInformation': {},\n",
       "  'presetId': '00000000-0000-0000-0000-000000000000'},\n",
       " 'is_error': False,\n",
       " 'error_message': '',\n",
       " 'free_text': \"An instance of ruleInstanceName - Falcon Evaluation needs to be created, dealing with the severity level two. The scavenging efficiency of this falcon is, let's say, 30. However, the beak sharpness is much sharper, let's say something like eight. The falcon's vision acuity is good, and the wing span is, um, eighty. The level of thermal riding skill is intermediate. The bone digestion efficiency is much higher, at about eighty-five. And the feather maintenance? That's excellent.\",\n",
       " 'type_name': 'vulture',\n",
       " 'rag_score': 480.2054719648114,\n",
       " 'model_response': \"```json\\n{'ruleInstanceName': 'falcon evaluation', 'severity': '2', 'Scavenging efficiency': '30', 'Flight altitude': 'null', 'Beak sharpness': '8', 'Vision acuity': 'good', 'Wing span': '80', 'Thermal riding skill': 'intermediate', 'Bone digestion': '85', 'Feather maintenance': 'excellent'}\",\n",
       " 'examples': {'example_1': {'distance': 18.94595592554312,\n",
       "   'free_text': '[\"An instance of Hawk Monitoring needs to be created, dealing with the ruleInstanceName Hawk Monitoring Instance. The severity of the event is four. The Flight agility of the Hawk was pretty good. The Beak sharpness was just, um, six. However, the Wing fluttering speed was much more rapid, let\\'s say something like one hundred and eighty. The defense of the nest is intermediate, and the Hunting dive speed is, umm, around one hundred and twenty. The Perch stability of the Hawk is medium.\"]',\n",
       "   'response': \"{'ruleInstanceName': 'hawk monitoring instance', 'severity': '4', 'Flight agility': 'good', 'Prey spotting ability': 'null', 'Beak sharpness': '6', 'Wing fluttering speed': '180', 'Nest defense': 'intermediate', 'Hunting dive speed': '120', 'Perch stability': 'medium'}\",\n",
       "   'response_id': 'KestrelD2Q5',\n",
       "   'type_name': 'Kestrel'},\n",
       "  'example_2': {'distance': 632.5484305547091,\n",
       "   'free_text': \"An instance of ruleInstanceName - Falcon Evaluation needs to be created, dealing with the severity level two. The scavenging efficiency of this falcon is, let's say, 30. However, the beak sharpness is much sharper, let's say something like eight. The falcon's vision acuity is good, and the wing span is, um, eighty. The level of thermal riding skill is intermediate. The bone digestion efficiency is much higher, at about eighty-five. And the feather maintenance? That's excellent.\",\n",
       "   'response': \"```json\\n{'ruleInstanceName': 'falcon evaluation', 'severity': '2', 'Scavenging efficiency': '30', 'Flight altitude': 'null', 'Beak sharpness': '8', 'Vision acuity': 'good', 'Wing span': '80', 'Thermal riding skill': 'intermediate', 'Bone digestion': '85', 'Feather maintenance': 'excellent'}\",\n",
       "   'response_id': '',\n",
       "   'type_name': 'vulture'}},\n",
       " 'schema': {'Scavenging efficiency': 'Int',\n",
       "  'Flight altitude': 'String',\n",
       "  'Beak sharpness': 'Int',\n",
       "  'Vision acuity': 'string',\n",
       "  'Wing span': 'Int',\n",
       "  'Thermal riding skill': 'string',\n",
       "  'Bone digestion': 'Int',\n",
       "  'Feather maintenance': 'String',\n",
       "  'ruleInstanceName': 'string',\n",
       "  'severity': 'int'},\n",
       " 'validation_score': 1,\n",
       " 'time': '2024-12-31|16:01:55',\n",
       " 'inference_time': 2.6295619010925293}"
      ]
     },
     "execution_count": 4,
     "metadata": {},
     "output_type": "execute_result"
    }
   ],
   "execution_count": 4
  },
  {
   "metadata": {
    "ExecuteTime": {
     "end_time": "2024-12-31T13:59:47.823058Z",
     "start_time": "2024-12-31T13:59:47.819180Z"
    }
   },
   "cell_type": "code",
   "source": "response.keys()",
   "id": "291f52e6d13fea73",
   "outputs": [
    {
     "data": {
      "text/plain": [
       "dict_keys(['rule_instance', 'is_error', 'error_message', 'free_text', 'type_name', 'rag_score', 'model_response', 'examples', 'schema', 'validation_score', 'time', 'inference_time'])"
      ]
     },
     "execution_count": 5,
     "metadata": {},
     "output_type": "execute_result"
    }
   ],
   "execution_count": 5
  },
  {
   "metadata": {
    "ExecuteTime": {
     "end_time": "2024-12-31T12:43:20.108959Z",
     "start_time": "2024-12-31T12:43:20.104638Z"
    }
   },
   "cell_type": "code",
   "source": "response[\"rule_instance\"] # the package response",
   "id": "6dbad012ab6f1195",
   "outputs": [
    {
     "data": {
      "text/plain": [
       "{'_id': '00000000-0000-0000-0000-000000000000',\n",
       " 'description': 'string',\n",
       " 'isActive': True,\n",
       " 'lastUpdateTime': '00/00/0000 00:00:00',\n",
       " 'params': {'Scavenging efficiency': 30,\n",
       "  'Flight altitude': 'null',\n",
       "  'Beak sharpness': 8,\n",
       "  'Vision acuity': 'good',\n",
       "  'Wing span': 80,\n",
       "  'Thermal riding skill': 'intermediate',\n",
       "  'Bone digestion': 85,\n",
       "  'Feather maintenance': 'excellent'},\n",
       " 'ruleInstanceName': 'falcon evaluation',\n",
       " 'severity': 2,\n",
       " 'ruleType': 'structured',\n",
       " 'ruleOwner': '',\n",
       " 'ruleTypeId': '1b5db158-d5de-47c6-90f6-25688ffece4b',\n",
       " 'eventDetails': [{'objectName': 'Vulture',\n",
       "   'objectDescription': None,\n",
       "   'timeWindowInMilliseconds': 0,\n",
       "   'useLatest': False}],\n",
       " 'additionalInformation': {},\n",
       " 'presetId': '00000000-0000-0000-0000-000000000000'}"
      ]
     },
     "execution_count": 5,
     "metadata": {},
     "output_type": "execute_result"
    }
   ],
   "execution_count": 5
  },
  {
   "metadata": {
    "ExecuteTime": {
     "end_time": "2024-12-30T14:47:20.373079Z",
     "start_time": "2024-12-30T14:47:20.324658Z"
    }
   },
   "cell_type": "code",
   "source": [
    "# giving us feedback on the response. it will help us to improve the project. it stores in .logs file, without internet connection.\n",
    "rig.feedback(rig_response=response, good=True)  # or 0.8, or what ever you can  "
   ],
   "id": "1fd6dbf5fae064c9",
   "outputs": [
    {
     "data": {
      "text/plain": [
       "'Thank you :)'"
      ]
     },
     "execution_count": 8,
     "metadata": {},
     "output_type": "execute_result"
    }
   ],
   "execution_count": 8
  },
  {
   "metadata": {},
   "cell_type": "markdown",
   "source": "# now you can run the evaluation:",
   "id": "e347cadf3211cca9"
  },
  {
   "metadata": {
    "ExecuteTime": {
     "end_time": "2024-12-31T17:36:13.812628Z",
     "start_time": "2024-12-31T17:36:10.908107Z"
    }
   },
   "cell_type": "code",
   "source": [
    "from RIG.rule_instance_generator import RuleInstanceGenerator\n",
    "rig = RuleInstanceGenerator()"
   ],
   "id": "261113b402da6920",
   "outputs": [],
   "execution_count": 1
  },
  {
   "metadata": {
    "ExecuteTime": {
     "end_time": "2024-12-31T17:37:26.945505Z",
     "start_time": "2024-12-31T17:36:13.813783Z"
    }
   },
   "cell_type": "code",
   "source": [
    "rig.evaluate(\n",
    "    start_point=90,\n",
    "    end_point=100,  #  -1 or None for all the data\n",
    "    sleep_time_each_10_iter=2,\n",
    "    batch_size=500\n",
    ")"
   ],
   "id": "3a636acd65e09e7b",
   "outputs": [
    {
     "name": "stderr",
     "output_type": "stream",
     "text": [
      " 10%|█         | 1/10 [00:09<01:27,  9.72s/it]"
     ]
    },
    {
     "name": "stdout",
     "output_type": "stream",
     "text": [
      "Model output: {'score': 0\n",
      "Model output: <class 'dict'>\n"
     ]
    },
    {
     "name": "stderr",
     "output_type": "stream",
     "text": [
      " 20%|██        | 2/10 [00:16<01:03,  7.92s/it]"
     ]
    },
    {
     "name": "stdout",
     "output_type": "stream",
     "text": [
      "Model output: {'score': 0\n",
      "Model output: <class 'dict'>\n"
     ]
    },
    {
     "name": "stderr",
     "output_type": "stream",
     "text": [
      " 30%|███       | 3/10 [00:24<00:54,  7.79s/it]"
     ]
    },
    {
     "name": "stdout",
     "output_type": "stream",
     "text": [
      "Model output: {'score': 0\n",
      "Model output: <class 'dict'>\n"
     ]
    },
    {
     "name": "stderr",
     "output_type": "stream",
     "text": [
      " 40%|████      | 4/10 [00:30<00:42,  7.12s/it]"
     ]
    },
    {
     "name": "stdout",
     "output_type": "stream",
     "text": [
      "Model output: {'score': 1\n",
      "Model output: <class 'dict'>\n"
     ]
    },
    {
     "name": "stderr",
     "output_type": "stream",
     "text": [
      " 50%|█████     | 5/10 [00:37<00:35,  7.07s/it]"
     ]
    },
    {
     "name": "stdout",
     "output_type": "stream",
     "text": [
      "Model output: {'score': 0\n",
      "Model output: <class 'dict'>\n"
     ]
    },
    {
     "name": "stderr",
     "output_type": "stream",
     "text": [
      " 60%|██████    | 6/10 [00:43<00:27,  6.96s/it]"
     ]
    },
    {
     "name": "stdout",
     "output_type": "stream",
     "text": [
      "Model output: {'score': 1\n",
      "Model output: <class 'dict'>\n"
     ]
    },
    {
     "name": "stderr",
     "output_type": "stream",
     "text": [
      " 70%|███████   | 7/10 [00:51<00:21,  7.23s/it]"
     ]
    },
    {
     "name": "stdout",
     "output_type": "stream",
     "text": [
      "Model output: {'score': 1\n",
      "Model output: <class 'dict'>\n"
     ]
    },
    {
     "name": "stderr",
     "output_type": "stream",
     "text": [
      " 80%|████████  | 8/10 [00:58<00:14,  7.09s/it]"
     ]
    },
    {
     "name": "stdout",
     "output_type": "stream",
     "text": [
      "Model output: {'score': 1\n",
      "Model output: <class 'dict'>\n"
     ]
    },
    {
     "name": "stderr",
     "output_type": "stream",
     "text": [
      " 90%|█████████ | 9/10 [01:05<00:07,  7.00s/it]"
     ]
    },
    {
     "name": "stdout",
     "output_type": "stream",
     "text": [
      "Model output: {'score': 1\n",
      "Model output: <class 'dict'>\n"
     ]
    },
    {
     "name": "stderr",
     "output_type": "stream",
     "text": [
      "100%|██████████| 10/10 [01:12<00:00,  7.29s/it]"
     ]
    },
    {
     "name": "stdout",
     "output_type": "stream",
     "text": [
      "Model output: {'score': 1\n",
      "Model output: <class 'dict'>\n",
      "\n",
      "Average Accuracy Metrics:\n",
      "binary_score: 90.00%\n",
      "binary_score_no_instance_name: 90.00%\n",
      "param_numerical_binary_score: 100.00%\n",
      "param_numerical_avg_score: 100.00%\n",
      "param_verbal_binary_score: 90.00%\n",
      "param_verbal_avg_score: 98.33%\n",
      "score_rule_instance_name: 100.00%\n",
      "classification score: 100.00%\n",
      "\n",
      "Average Accuracy Metrics:\n",
      "binary_score: 90.00%\n",
      "binary_score_no_instance_name: 90.00%\n",
      "param_numerical_binary_score: 100.00%\n",
      "param_numerical_avg_score: 100.00%\n",
      "param_verbal_binary_score: 90.00%\n",
      "param_verbal_avg_score: 98.33%\n",
      "score_rule_instance_name: 100.00%\n",
      "classification score: 100.00%\n"
     ]
    },
    {
     "name": "stderr",
     "output_type": "stream",
     "text": [
      "\n"
     ]
    }
   ],
   "execution_count": 2
  },
  {
   "metadata": {
    "ExecuteTime": {
     "end_time": "2024-12-30T14:47:37.353776Z",
     "start_time": "2024-12-30T14:47:37.352318Z"
    }
   },
   "cell_type": "code",
   "source": "",
   "id": "5882112bdfd4dc0f",
   "outputs": [],
   "execution_count": 9
  }
 ],
 "metadata": {
  "kernelspec": {
   "display_name": "Python 3",
   "language": "python",
   "name": "python3"
  },
  "language_info": {
   "codemirror_mode": {
    "name": "ipython",
    "version": 2
   },
   "file_extension": ".py",
   "mimetype": "text/x-python",
   "name": "python",
   "nbconvert_exporter": "python",
   "pygments_lexer": "ipython2",
   "version": "2.7.6"
  }
 },
 "nbformat": 4,
 "nbformat_minor": 5
}
