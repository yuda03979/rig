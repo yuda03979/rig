{
 "cells": [
  {
   "metadata": {},
   "cell_type": "markdown",
   "source": "# download ollama, and run in terminal ollama serve. if you don't have internet - load the models (README)",
   "id": "4a2d43f6deccd5b0"
  },
  {
   "cell_type": "code",
   "id": "initial_id",
   "metadata": {
    "collapsed": true,
    "ExecuteTime": {
     "end_time": "2024-12-26T21:07:13.828289Z",
     "start_time": "2024-12-26T21:07:10.359543Z"
    }
   },
   "source": "from RIG.rule_instance_generator import RuleInstanceGenerator",
   "outputs": [],
   "execution_count": 1
  },
  {
   "metadata": {
    "ExecuteTime": {
     "end_time": "2024-12-26T21:07:14.029841Z",
     "start_time": "2024-12-26T21:07:13.829368Z"
    }
   },
   "cell_type": "code",
   "source": "rig = RuleInstanceGenerator()",
   "id": "a8d89b711cd268a1",
   "outputs": [],
   "execution_count": 2
  },
  {
   "metadata": {
    "ExecuteTime": {
     "end_time": "2024-12-26T15:52:40.139669Z",
     "start_time": "2024-12-26T15:52:30.403272Z"
    }
   },
   "cell_type": "code",
   "source": "rig.add_rule_types_from_folder()",
   "id": "2b721a2c32794c50",
   "outputs": [
    {
     "name": "stdout",
     "output_type": "stream",
     "text": [
      "load Bridge.json\n",
      "load equipment_malfunction.json\n",
      "load Tentacled_Sea_Cucumber.json\n",
      "load Cavalry_Charge.json\n",
      "load Guerrilla_Skirmish.json\n",
      "load Sea_Otter.json\n",
      "load Morning_Star.json\n",
      "load Journalist.json\n",
      "load Rapier.json\n",
      "load Graphic_Designer.json\n",
      "load Puffin.json\n",
      "load Data_Analyst.json\n",
      "load Teacher.json\n",
      "load Hamster.json\n",
      "load Katana.json\n",
      "load Scientist.json\n",
      "load Boomerang.json\n",
      "load Koala.json\n",
      "load Nurse.json\n",
      "load Dentist.json\n",
      "load Gondola.json\n",
      "load Halberd.json\n",
      "load Engineer.json\n",
      "load Hospital.json\n",
      "load Tarantula.json\n",
      "load Architect.json\n",
      "load Bastard_Sword.json\n",
      "load Apartment_Building.json\n",
      "load Beaver.json\n",
      "load Flanking_Maneuver.json\n",
      "load attack_overview.json\n",
      "load Komodo_Dragon.json\n",
      "load Molotov_Cocktail.json\n",
      "load Bull.json\n",
      "load Fox.json\n",
      "load Flail.json\n",
      "load Firefighter.json\n",
      "load Kayak.json\n",
      "load api_rate_limit_reached.json\n",
      "load Ballista.json\n",
      "load Farmer.json\n",
      "load fire_control.json\n",
      "load Evacuation_Operation.json\n",
      "load betrayal_risk.json\n",
      "load Trench_Assault.json\n",
      "load Cow.json\n",
      "load Chef.json\n",
      "load Actor.json\n",
      "load ATV.json\n",
      "load Castle.json\n",
      "load Multi_Motor_Trampoline.json\n",
      "load Parrotfish.json\n",
      "load Aerial_Dogfight.json\n",
      "load Vulture.json\n",
      "load Goldfish.json\n",
      "load temperature_threshold_exceeded.json\n",
      "load disk_space_warning.json\n",
      "load radar_error_monitoring.json\n",
      "load Paratrooper_Drop.json\n",
      "load Naval_Bombardment.json\n",
      "load encryption_flaw.json\n",
      "load satellite_disruption.json\n",
      "load Mole.json\n",
      "load Cannon.json\n",
      "load Scimitar.json\n",
      "load missile_failure.json\n",
      "load Shuriken.json\n",
      "load Canoe.json\n",
      "load Scythe.json\n",
      "load Goliath_Frog.json\n",
      "load defection_threat.json\n",
      "load Cottage.json\n",
      "load Conveyor.json\n",
      "load system_failure.json\n",
      "load disloyal_soldier.json\n",
      "load platoon_report.json\n",
      "load corruption_scandal.json\n",
      "load Software_Developer.json\n",
      "load suspected_person.json\n",
      "load password_expiry.json\n",
      "load bomb_failure.json\n",
      "load Tank_Advance.json\n",
      "load Church.json\n",
      "load Robot.json\n",
      "load Gauntlet_Knife.json\n",
      "load Beetle.json\n",
      "load Factory.json\n",
      "load Airship_Vehicle.json\n",
      "load Artillery_Strike.json\n",
      "load Psychologist.json\n",
      "load covert_agent.json\n",
      "load Kangaroo.json\n",
      "load Anglerfish.json\n",
      "load Sabre.json\n",
      "load Phoenix_Fish.json\n",
      "load Siege.json\n",
      "load Barista.json\n",
      "load supply_shortage.json\n",
      "load Pilot.json\n",
      "load Hotel.json\n",
      "load leadership_breakdown.json\n",
      "load Lawyer.json\n",
      "load memory_usage_high.json\n",
      "load Museum.json\n",
      "load Police_Officer.json\n",
      "load Photographer.json\n",
      "load command_incompetence.json\n",
      "load Bow.json\n",
      "load missile_malfunction.json\n",
      "load Poodle.json\n",
      "load Plumber.json\n",
      "load Bayonet_Charge.json\n",
      "load Net_Gun.json\n",
      "load Battlefield_Retreat.json\n",
      "load Kestrel.json\n",
      "load Swan.json\n",
      "load Electric_Train.json\n",
      "load Blowgun.json\n",
      "load Ambulance.json\n",
      "load Pangolin.json\n",
      "load Chakram.json\n",
      "load Platypus.json\n",
      "load Rooster.json\n",
      "load Wildcat.json\n",
      "load x4X4_Off_Road_Car.json\n",
      "load launch_failure.json\n",
      "load Event_Planner.json\n",
      "load Trident.json\n",
      "load Carpenter.json\n",
      "load Rabbit.json\n",
      "load Trolley.json\n",
      "load Urban_Public_Transport_System.json\n",
      "load Sniper_Attack.json\n",
      "load Axe.json\n",
      "load Mechanic.json\n"
     ]
    },
    {
     "data": {
      "text/plain": [
       "True"
      ]
     },
     "execution_count": 3,
     "metadata": {},
     "output_type": "execute_result"
    }
   ],
   "execution_count": 3
  },
  {
   "metadata": {
    "ExecuteTime": {
     "end_time": "2024-12-26T10:36:03.368691Z",
     "start_time": "2024-12-26T10:36:03.364663Z"
    }
   },
   "cell_type": "code",
   "source": [
    "# get list of existing rule types:\n",
    "rig.get_rule_types_names()"
   ],
   "id": "40f11096719ee8f8",
   "outputs": [
    {
     "data": {
      "text/plain": [
       "['bridge',\n",
       " 'equipment malfunction',\n",
       " 'tentacled_sea_cucumber',\n",
       " 'cavalry_charge',\n",
       " 'guerrilla_skirmish',\n",
       " 'sea_otter',\n",
       " 'morning_star',\n",
       " 'journalist',\n",
       " 'rapier',\n",
       " 'graphic_designer',\n",
       " 'puffin',\n",
       " 'data_analyst',\n",
       " 'teacher',\n",
       " 'hamster',\n",
       " 'katana',\n",
       " 'scientist',\n",
       " 'boomerang',\n",
       " 'koala',\n",
       " 'nurse',\n",
       " 'dentist',\n",
       " 'gondola',\n",
       " 'halberd',\n",
       " 'engineer',\n",
       " 'hospital',\n",
       " 'tarantula',\n",
       " 'architect',\n",
       " 'bastard_sword',\n",
       " 'apartment_building',\n",
       " 'beaver',\n",
       " 'flanking_maneuver',\n",
       " 'attack overview',\n",
       " 'komodo_dragon',\n",
       " 'molotov_cocktail',\n",
       " 'bull',\n",
       " 'fox',\n",
       " 'flail',\n",
       " 'firefighter',\n",
       " 'kayak',\n",
       " 'api throttling',\n",
       " 'ballista',\n",
       " 'farmer',\n",
       " 'fire control',\n",
       " 'evacuation_operation',\n",
       " 'betrayal risk',\n",
       " 'trench_assault',\n",
       " 'cow',\n",
       " 'chef',\n",
       " 'actor',\n",
       " 'atv',\n",
       " 'castle',\n",
       " 'multi_motor_trampoline',\n",
       " 'parrotfish',\n",
       " 'aerial_dogfight',\n",
       " 'vulture',\n",
       " 'goldfish',\n",
       " 'temperature threshold exceeded',\n",
       " 'disk space warning',\n",
       " 'radar error monitoring',\n",
       " 'paratrooper_drop',\n",
       " 'naval_bombardment',\n",
       " 'encryption flaw',\n",
       " 'satellite disruption',\n",
       " 'mole',\n",
       " 'cannon',\n",
       " 'scimitar',\n",
       " 'missile failure',\n",
       " 'shuriken',\n",
       " 'canoe',\n",
       " 'scythe',\n",
       " 'goliath frog',\n",
       " 'defection threat',\n",
       " 'cottage',\n",
       " 'conveyor',\n",
       " 'system failure',\n",
       " 'disloyal soldier',\n",
       " 'platoon report',\n",
       " 'corruption scandal',\n",
       " 'software developer',\n",
       " 'suspected person',\n",
       " 'password expiry',\n",
       " 'bomb failure',\n",
       " 'tank_advance',\n",
       " 'church',\n",
       " 'robot',\n",
       " 'gauntlet_knife',\n",
       " 'beetle',\n",
       " 'factory',\n",
       " 'airship_vehicle',\n",
       " 'artillery_strike',\n",
       " 'psychologist',\n",
       " 'covert agent',\n",
       " 'kangaroo',\n",
       " 'anglerfish',\n",
       " 'sabre',\n",
       " 'phoenix fish',\n",
       " 'siege',\n",
       " 'barista',\n",
       " 'supply shortage',\n",
       " 'pilot',\n",
       " 'hotel',\n",
       " 'leadership breakdown',\n",
       " 'lawyer',\n",
       " 'memory usage alert',\n",
       " 'museum',\n",
       " 'police_officer',\n",
       " 'photographer',\n",
       " 'command incompetence',\n",
       " 'bow',\n",
       " 'missile malfunction',\n",
       " 'poodle',\n",
       " 'plumber',\n",
       " 'bayonet_charge',\n",
       " 'net_gun',\n",
       " 'battlefield_retreat',\n",
       " 'kestrel',\n",
       " 'swan',\n",
       " 'electric_train',\n",
       " 'blowgun',\n",
       " 'ambulance',\n",
       " 'pangolin',\n",
       " 'chakram',\n",
       " 'platypus',\n",
       " 'rooster',\n",
       " 'wildcat',\n",
       " 'x4x4_off_road_car',\n",
       " 'launch failure',\n",
       " 'event_planner',\n",
       " 'trident',\n",
       " 'carpenter',\n",
       " 'rabbit',\n",
       " 'trolley',\n",
       " 'urban_public_transport_system',\n",
       " 'sniper_attack',\n",
       " 'axe',\n",
       " 'mechanic']"
      ]
     },
     "execution_count": 7,
     "metadata": {},
     "output_type": "execute_result"
    }
   ],
   "execution_count": 7
  },
  {
   "metadata": {},
   "cell_type": "markdown",
   "source": "## get rule instance from free text",
   "id": "af0758f5e833cca9"
  },
  {
   "metadata": {
    "ExecuteTime": {
     "end_time": "2024-12-26T10:35:33.340990Z",
     "start_time": "2024-12-26T10:35:33.339038Z"
    }
   },
   "cell_type": "code",
   "source": "",
   "id": "3d3c84c8bf63a9c3",
   "outputs": [
    {
     "name": "stdout",
     "output_type": "stream",
     "text": [
      "hello\n"
     ]
    }
   ],
   "execution_count": 5
  },
  {
   "metadata": {
    "ExecuteTime": {
     "end_time": "2024-12-26T14:57:34.949421Z",
     "start_time": "2024-12-26T14:57:30.649691Z"
    }
   },
   "cell_type": "code",
   "source": [
    "free_text = \"An instance of ruleInstanceName - Falcon Evaluation needs to be created, dealing with the severity level two. The scavenging efficiency of this falcon is, let's say, seventy. However, the beak sharpness is much sharper, let's say something like eight. The falcon's vision acuity is good, and the wing span is, um, eighty. The level of thermal riding skill is intermediate. The bone digestion efficiency is much higher, at about eighty-five. And the feather maintenance? That's excellent.\"\n",
    "\n",
    "response = rig.get_rule_instance(free_text) # return dictionary"
   ],
   "id": "d41d9ff66ad84cda",
   "outputs": [
    {
     "name": "stdout",
     "output_type": "stream",
     "text": [
      "difference 0.09169362405269865\n",
      "closest_distance 0.8130064092983944\n",
      "vulture\n"
     ]
    }
   ],
   "execution_count": 3
  },
  {
   "metadata": {
    "ExecuteTime": {
     "end_time": "2024-12-26T10:45:00.398485Z",
     "start_time": "2024-12-26T10:45:00.392334Z"
    }
   },
   "cell_type": "code",
   "source": "response.keys()",
   "id": "291f52e6d13fea73",
   "outputs": [
    {
     "data": {
      "text/plain": [
       "dict_keys(['rule_instance', 'is_error', 'error_message', 'free_text', 'type_name', 'rag_score', 'model_response', 'examples', 'schema', 'time', 'inference_time'])"
      ]
     },
     "execution_count": 4,
     "metadata": {},
     "output_type": "execute_result"
    }
   ],
   "execution_count": 4
  },
  {
   "metadata": {
    "ExecuteTime": {
     "end_time": "2024-12-26T14:58:52.302079Z",
     "start_time": "2024-12-26T14:58:52.295862Z"
    }
   },
   "cell_type": "code",
   "source": "response[\"rule_instance\"] # the package response",
   "id": "6dbad012ab6f1195",
   "outputs": [
    {
     "data": {
      "text/plain": [
       "{'_id': '00000000-0000-0000-0000-000000000000',\n",
       " 'description': 'string',\n",
       " 'isActive': True,\n",
       " 'lastUpdateTime': '00/00/0000 00:00:00',\n",
       " 'params': {'Scavenging efficiency': 70,\n",
       "  'Flight altitude': 'null',\n",
       "  'Beak sharpness': 8,\n",
       "  'Vision acuity': 'good',\n",
       "  'Wing span': 80,\n",
       "  'Thermal riding skill': 'intermediate',\n",
       "  'Bone digestion': 85,\n",
       "  'Feather maintenance': 'excellent'},\n",
       " 'ruleInstanceName': 'falcon evaluation',\n",
       " 'severity': 2,\n",
       " 'ruleType': 'structured',\n",
       " 'ruleOwner': '',\n",
       " 'ruleTypeId': '1b5db158-d5de-47c6-90f6-25688ffece4b',\n",
       " 'eventDetails': [{'objectName': 'Vulture',\n",
       "   'objectDescription': None,\n",
       "   'timeWindowInMilliseconds': 0,\n",
       "   'useLatest': False}],\n",
       " 'additionalInformation': {},\n",
       " 'presetId': '00000000-0000-0000-0000-000000000000'}"
      ]
     },
     "execution_count": 4,
     "metadata": {},
     "output_type": "execute_result"
    }
   ],
   "execution_count": 4
  },
  {
   "metadata": {
    "ExecuteTime": {
     "end_time": "2024-12-16T11:28:14.674761Z",
     "start_time": "2024-12-16T11:28:14.672048Z"
    }
   },
   "cell_type": "code",
   "source": [
    "# giving us feedback on the response. it will help us to improve the project. it stores in .logs file, without internet connection.\n",
    "rig.feedback(rig_response=response, good=True)  # or 0.8, or what ever you can  "
   ],
   "id": "1fd6dbf5fae064c9",
   "outputs": [
    {
     "data": {
      "text/plain": [
       "'thank you :)'"
      ]
     },
     "execution_count": 8,
     "metadata": {},
     "output_type": "execute_result"
    }
   ],
   "execution_count": 8
  },
  {
   "metadata": {},
   "cell_type": "markdown",
   "source": "# now you can run the evaluation:",
   "id": "e347cadf3211cca9"
  },
  {
   "metadata": {
    "jupyter": {
     "is_executing": true
    },
    "ExecuteTime": {
     "start_time": "2024-12-26T21:07:17.356174Z"
    }
   },
   "cell_type": "code",
   "source": [
    "rig.evaluate(\n",
    "    start_point=0,\n",
    "    end_point=-1,  # None - all the data\n",
    "    sleep_time_each_10_iter=15,\n",
    "    batch_size=10\n",
    ")"
   ],
   "id": "3a636acd65e09e7b",
   "outputs": [
    {
     "name": "stderr",
     "output_type": "stream",
     "text": [
      "  0%|          | 10/2723 [00:42<2:07:07,  2.81s/it]"
     ]
    },
    {
     "name": "stdout",
     "output_type": "stream",
     "text": [
      "Writing results after processing 10 rows...\n",
      "\n",
      "Average Accuracy Metrics:\n",
      "binary_score: 100.00%\n",
      "binary_score_no_instance_name: 100.00%\n",
      "param_numerical_binary_score: 100.00%\n",
      "param_numerical_avg_score: 100.00%\n",
      "param_verbal_binary_score: 100.00%\n",
      "param_verbal_avg_score: 100.00%\n",
      "score_rule_instance_name: 100.00%\n",
      "classification score: 100.00%\n",
      "\n",
      "Average Accuracy Metrics:\n",
      "binary_score: 100.00%\n",
      "binary_score_no_instance_name: 100.00%\n",
      "param_numerical_binary_score: 100.00%\n",
      "param_numerical_avg_score: 100.00%\n",
      "param_verbal_binary_score: 100.00%\n",
      "param_verbal_avg_score: 100.00%\n",
      "score_rule_instance_name: 100.00%\n",
      "classification score: 100.00%\n"
     ]
    },
    {
     "name": "stderr",
     "output_type": "stream",
     "text": [
      "  0%|          | 12/2723 [01:02<4:33:06,  6.04s/it]"
     ]
    }
   ],
   "execution_count": null
  },
  {
   "metadata": {},
   "cell_type": "code",
   "outputs": [],
   "execution_count": null,
   "source": "",
   "id": "b6b53714710cdf43"
  }
 ],
 "metadata": {
  "kernelspec": {
   "display_name": "Python 3",
   "language": "python",
   "name": "python3"
  },
  "language_info": {
   "codemirror_mode": {
    "name": "ipython",
    "version": 2
   },
   "file_extension": ".py",
   "mimetype": "text/x-python",
   "name": "python",
   "nbconvert_exporter": "python",
   "pygments_lexer": "ipython2",
   "version": "2.7.6"
  }
 },
 "nbformat": 4,
 "nbformat_minor": 5
}
