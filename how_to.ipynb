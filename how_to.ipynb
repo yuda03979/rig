{
 "cells": [
  {
   "metadata": {},
   "cell_type": "markdown",
   "source": "# download ollama, and run in terminal ollama serve. if you don't have internet - load the models (README)",
   "id": "4a2d43f6deccd5b0"
  },
  {
   "cell_type": "code",
   "id": "initial_id",
   "metadata": {
    "collapsed": true,
    "ExecuteTime": {
     "end_time": "2024-12-26T14:49:01.791664Z",
     "start_time": "2024-12-26T14:48:58.374500Z"
    }
   },
   "source": "from RIG.rule_instance_generator import RuleInstanceGenerator",
   "outputs": [],
   "execution_count": 1
  },
  {
   "metadata": {
    "ExecuteTime": {
     "end_time": "2024-12-26T14:49:01.993469Z",
     "start_time": "2024-12-26T14:49:01.792651Z"
    }
   },
   "cell_type": "code",
   "source": "rig = RuleInstanceGenerator()",
   "id": "a8d89b711cd268a1",
   "outputs": [],
   "execution_count": 2
  },
  {
   "metadata": {
    "ExecuteTime": {
     "end_time": "2024-12-26T10:36:19.635701Z",
     "start_time": "2024-12-26T10:36:10.004030Z"
    }
   },
   "cell_type": "code",
   "source": "rig.add_rule_types_from_folder()",
   "id": "2b721a2c32794c50",
   "outputs": [
    {
     "name": "stdout",
     "output_type": "stream",
     "text": [
      "load Bridge.json\n",
      "load equipment_malfunction.json\n",
      "load Tentacled_Sea_Cucumber.json\n",
      "load Cavalry_Charge.json\n",
      "load Guerrilla_Skirmish.json\n",
      "load Sea_Otter.json\n",
      "load Morning_Star.json\n",
      "load Journalist.json\n",
      "load Rapier.json\n",
      "load Graphic_Designer.json\n",
      "load Puffin.json\n",
      "load Data_Analyst.json\n",
      "load Teacher.json\n",
      "load Hamster.json\n",
      "load Katana.json\n",
      "load Scientist.json\n",
      "load Boomerang.json\n",
      "load Koala.json\n",
      "load Nurse.json\n",
      "load Dentist.json\n",
      "load Gondola.json\n",
      "load Halberd.json\n",
      "load Engineer.json\n",
      "load Hospital.json\n",
      "load Tarantula.json\n",
      "load Architect.json\n",
      "load Bastard_Sword.json\n",
      "load Apartment_Building.json\n",
      "load Beaver.json\n",
      "load Flanking_Maneuver.json\n",
      "load attack_overview.json\n",
      "load Komodo_Dragon.json\n",
      "load Molotov_Cocktail.json\n",
      "load Bull.json\n",
      "load Fox.json\n",
      "load Flail.json\n",
      "load Firefighter.json\n",
      "load Kayak.json\n",
      "load api_rate_limit_reached.json\n",
      "load Ballista.json\n",
      "load Farmer.json\n",
      "load fire_control.json\n",
      "load Evacuation_Operation.json\n",
      "load betrayal_risk.json\n",
      "load Trench_Assault.json\n",
      "load Cow.json\n",
      "load Chef.json\n",
      "load Actor.json\n",
      "load ATV.json\n",
      "load Castle.json\n",
      "load Multi_Motor_Trampoline.json\n",
      "load Parrotfish.json\n",
      "load Aerial_Dogfight.json\n",
      "load Vulture.json\n",
      "load Goldfish.json\n",
      "load temperature_threshold_exceeded.json\n",
      "load disk_space_warning.json\n",
      "load radar_error_monitoring.json\n",
      "load Paratrooper_Drop.json\n",
      "load Naval_Bombardment.json\n",
      "load encryption_flaw.json\n",
      "load satellite_disruption.json\n",
      "load Mole.json\n",
      "load Cannon.json\n",
      "load Scimitar.json\n",
      "load missile_failure.json\n",
      "load Shuriken.json\n",
      "load Canoe.json\n",
      "load Scythe.json\n",
      "load Goliath_Frog.json\n",
      "load defection_threat.json\n",
      "load Cottage.json\n",
      "load Conveyor.json\n",
      "load system_failure.json\n",
      "load disloyal_soldier.json\n",
      "load platoon_report.json\n",
      "load corruption_scandal.json\n",
      "load Software_Developer.json\n",
      "load suspected_person.json\n",
      "load password_expiry.json\n",
      "load bomb_failure.json\n",
      "load Tank_Advance.json\n",
      "load Church.json\n",
      "load Robot.json\n",
      "load Gauntlet_Knife.json\n",
      "load Beetle.json\n",
      "load Factory.json\n",
      "load Airship_Vehicle.json\n",
      "load Artillery_Strike.json\n",
      "load Psychologist.json\n",
      "load covert_agent.json\n",
      "load Kangaroo.json\n",
      "load Anglerfish.json\n",
      "load Sabre.json\n",
      "load Phoenix_Fish.json\n",
      "load Siege.json\n",
      "load Barista.json\n",
      "load supply_shortage.json\n",
      "load Pilot.json\n",
      "load Hotel.json\n",
      "load leadership_breakdown.json\n",
      "load Lawyer.json\n",
      "load memory_usage_high.json\n",
      "load Museum.json\n",
      "load Police_Officer.json\n",
      "load Photographer.json\n",
      "load command_incompetence.json\n",
      "load Bow.json\n",
      "load missile_malfunction.json\n",
      "load Poodle.json\n",
      "load Plumber.json\n",
      "load Bayonet_Charge.json\n",
      "load Net_Gun.json\n",
      "load Battlefield_Retreat.json\n",
      "load Kestrel.json\n",
      "load Swan.json\n",
      "load Electric_Train.json\n",
      "load Blowgun.json\n",
      "load Ambulance.json\n",
      "load Pangolin.json\n",
      "load Chakram.json\n",
      "load Platypus.json\n",
      "load Rooster.json\n",
      "load Wildcat.json\n",
      "load x4X4_Off_Road_Car.json\n",
      "load launch_failure.json\n",
      "load Event_Planner.json\n",
      "load Trident.json\n",
      "load Carpenter.json\n",
      "load Rabbit.json\n",
      "load Trolley.json\n",
      "load Urban_Public_Transport_System.json\n",
      "load Sniper_Attack.json\n",
      "load Axe.json\n",
      "load Mechanic.json\n",
      "rule_types_loaded: ['Bridge.json', 'equipment_malfunction.json', 'Tentacled_Sea_Cucumber.json', 'Cavalry_Charge.json', 'Guerrilla_Skirmish.json', 'Sea_Otter.json', 'Morning_Star.json', 'Journalist.json', 'Rapier.json', 'Graphic_Designer.json', 'Puffin.json', 'Data_Analyst.json', 'Teacher.json', 'Hamster.json', 'Katana.json', 'Scientist.json', 'Boomerang.json', 'Koala.json', 'Nurse.json', 'Dentist.json', 'Gondola.json', 'Halberd.json', 'Engineer.json', 'Hospital.json', 'Tarantula.json', 'Architect.json', 'Bastard_Sword.json', 'Apartment_Building.json', 'Beaver.json', 'Flanking_Maneuver.json', 'attack_overview.json', 'Komodo_Dragon.json', 'Molotov_Cocktail.json', 'Bull.json', 'Fox.json', 'Flail.json', 'Firefighter.json', 'Kayak.json', 'api_rate_limit_reached.json', 'Ballista.json', 'Farmer.json', 'fire_control.json', 'Evacuation_Operation.json', 'betrayal_risk.json', 'Trench_Assault.json', 'Cow.json', 'Chef.json', 'Actor.json', 'ATV.json', 'Castle.json', 'Multi_Motor_Trampoline.json', 'Parrotfish.json', 'Aerial_Dogfight.json', 'Vulture.json', 'Goldfish.json', 'temperature_threshold_exceeded.json', 'disk_space_warning.json', 'radar_error_monitoring.json', 'Paratrooper_Drop.json', 'Naval_Bombardment.json', 'encryption_flaw.json', 'satellite_disruption.json', 'Mole.json', 'Cannon.json', 'Scimitar.json', 'missile_failure.json', 'Shuriken.json', 'Canoe.json', 'Scythe.json', 'Goliath_Frog.json', 'defection_threat.json', 'Cottage.json', 'Conveyor.json', 'system_failure.json', 'disloyal_soldier.json', 'platoon_report.json', 'corruption_scandal.json', 'Software_Developer.json', 'suspected_person.json', 'password_expiry.json', 'bomb_failure.json', 'Tank_Advance.json', 'Church.json', 'Robot.json', 'Gauntlet_Knife.json', 'Beetle.json', 'Factory.json', 'Airship_Vehicle.json', 'Artillery_Strike.json', 'Psychologist.json', 'covert_agent.json', 'Kangaroo.json', 'Anglerfish.json', 'Sabre.json', 'Phoenix_Fish.json', 'Siege.json', 'Barista.json', 'supply_shortage.json', 'Pilot.json', 'Hotel.json', 'leadership_breakdown.json', 'Lawyer.json', 'memory_usage_high.json', 'Museum.json', 'Police_Officer.json', 'Photographer.json', 'command_incompetence.json', 'Bow.json', 'missile_malfunction.json', 'Poodle.json', 'Plumber.json', 'Bayonet_Charge.json', 'Net_Gun.json', 'Battlefield_Retreat.json', 'Kestrel.json', 'Swan.json', 'Electric_Train.json', 'Blowgun.json', 'Ambulance.json', 'Pangolin.json', 'Chakram.json', 'Platypus.json', 'Rooster.json', 'Wildcat.json', 'x4X4_Off_Road_Car.json', 'launch_failure.json', 'Event_Planner.json', 'Trident.json', 'Carpenter.json', 'Rabbit.json', 'Trolley.json', 'Urban_Public_Transport_System.json', 'Sniper_Attack.json', 'Axe.json', 'Mechanic.json']\n"
     ]
    },
    {
     "data": {
      "text/plain": [
       "\"rule_types_loaded: ['Bridge.json', 'equipment_malfunction.json', 'Tentacled_Sea_Cucumber.json', 'Cavalry_Charge.json', 'Guerrilla_Skirmish.json', 'Sea_Otter.json', 'Morning_Star.json', 'Journalist.json', 'Rapier.json', 'Graphic_Designer.json', 'Puffin.json', 'Data_Analyst.json', 'Teacher.json', 'Hamster.json', 'Katana.json', 'Scientist.json', 'Boomerang.json', 'Koala.json', 'Nurse.json', 'Dentist.json', 'Gondola.json', 'Halberd.json', 'Engineer.json', 'Hospital.json', 'Tarantula.json', 'Architect.json', 'Bastard_Sword.json', 'Apartment_Building.json', 'Beaver.json', 'Flanking_Maneuver.json', 'attack_overview.json', 'Komodo_Dragon.json', 'Molotov_Cocktail.json', 'Bull.json', 'Fox.json', 'Flail.json', 'Firefighter.json', 'Kayak.json', 'api_rate_limit_reached.json', 'Ballista.json', 'Farmer.json', 'fire_control.json', 'Evacuation_Operation.json', 'betrayal_risk.json', 'Trench_Assault.json', 'Cow.json', 'Chef.json', 'Actor.json', 'ATV.json', 'Castle.json', 'Multi_Motor_Trampoline.json', 'Parrotfish.json', 'Aerial_Dogfight.json', 'Vulture.json', 'Goldfish.json', 'temperature_threshold_exceeded.json', 'disk_space_warning.json', 'radar_error_monitoring.json', 'Paratrooper_Drop.json', 'Naval_Bombardment.json', 'encryption_flaw.json', 'satellite_disruption.json', 'Mole.json', 'Cannon.json', 'Scimitar.json', 'missile_failure.json', 'Shuriken.json', 'Canoe.json', 'Scythe.json', 'Goliath_Frog.json', 'defection_threat.json', 'Cottage.json', 'Conveyor.json', 'system_failure.json', 'disloyal_soldier.json', 'platoon_report.json', 'corruption_scandal.json', 'Software_Developer.json', 'suspected_person.json', 'password_expiry.json', 'bomb_failure.json', 'Tank_Advance.json', 'Church.json', 'Robot.json', 'Gauntlet_Knife.json', 'Beetle.json', 'Factory.json', 'Airship_Vehicle.json', 'Artillery_Strike.json', 'Psychologist.json', 'covert_agent.json', 'Kangaroo.json', 'Anglerfish.json', 'Sabre.json', 'Phoenix_Fish.json', 'Siege.json', 'Barista.json', 'supply_shortage.json', 'Pilot.json', 'Hotel.json', 'leadership_breakdown.json', 'Lawyer.json', 'memory_usage_high.json', 'Museum.json', 'Police_Officer.json', 'Photographer.json', 'command_incompetence.json', 'Bow.json', 'missile_malfunction.json', 'Poodle.json', 'Plumber.json', 'Bayonet_Charge.json', 'Net_Gun.json', 'Battlefield_Retreat.json', 'Kestrel.json', 'Swan.json', 'Electric_Train.json', 'Blowgun.json', 'Ambulance.json', 'Pangolin.json', 'Chakram.json', 'Platypus.json', 'Rooster.json', 'Wildcat.json', 'x4X4_Off_Road_Car.json', 'launch_failure.json', 'Event_Planner.json', 'Trident.json', 'Carpenter.json', 'Rabbit.json', 'Trolley.json', 'Urban_Public_Transport_System.json', 'Sniper_Attack.json', 'Axe.json', 'Mechanic.json']\""
      ]
     },
     "execution_count": 8,
     "metadata": {},
     "output_type": "execute_result"
    }
   ],
   "execution_count": 8
  },
  {
   "metadata": {
    "ExecuteTime": {
     "end_time": "2024-12-26T10:36:03.368691Z",
     "start_time": "2024-12-26T10:36:03.364663Z"
    }
   },
   "cell_type": "code",
   "source": [
    "# get list of existing rule types:\n",
    "rig.get_rule_types_names()"
   ],
   "id": "40f11096719ee8f8",
   "outputs": [
    {
     "data": {
      "text/plain": [
       "['bridge',\n",
       " 'equipment malfunction',\n",
       " 'tentacled_sea_cucumber',\n",
       " 'cavalry_charge',\n",
       " 'guerrilla_skirmish',\n",
       " 'sea_otter',\n",
       " 'morning_star',\n",
       " 'journalist',\n",
       " 'rapier',\n",
       " 'graphic_designer',\n",
       " 'puffin',\n",
       " 'data_analyst',\n",
       " 'teacher',\n",
       " 'hamster',\n",
       " 'katana',\n",
       " 'scientist',\n",
       " 'boomerang',\n",
       " 'koala',\n",
       " 'nurse',\n",
       " 'dentist',\n",
       " 'gondola',\n",
       " 'halberd',\n",
       " 'engineer',\n",
       " 'hospital',\n",
       " 'tarantula',\n",
       " 'architect',\n",
       " 'bastard_sword',\n",
       " 'apartment_building',\n",
       " 'beaver',\n",
       " 'flanking_maneuver',\n",
       " 'attack overview',\n",
       " 'komodo_dragon',\n",
       " 'molotov_cocktail',\n",
       " 'bull',\n",
       " 'fox',\n",
       " 'flail',\n",
       " 'firefighter',\n",
       " 'kayak',\n",
       " 'api throttling',\n",
       " 'ballista',\n",
       " 'farmer',\n",
       " 'fire control',\n",
       " 'evacuation_operation',\n",
       " 'betrayal risk',\n",
       " 'trench_assault',\n",
       " 'cow',\n",
       " 'chef',\n",
       " 'actor',\n",
       " 'atv',\n",
       " 'castle',\n",
       " 'multi_motor_trampoline',\n",
       " 'parrotfish',\n",
       " 'aerial_dogfight',\n",
       " 'vulture',\n",
       " 'goldfish',\n",
       " 'temperature threshold exceeded',\n",
       " 'disk space warning',\n",
       " 'radar error monitoring',\n",
       " 'paratrooper_drop',\n",
       " 'naval_bombardment',\n",
       " 'encryption flaw',\n",
       " 'satellite disruption',\n",
       " 'mole',\n",
       " 'cannon',\n",
       " 'scimitar',\n",
       " 'missile failure',\n",
       " 'shuriken',\n",
       " 'canoe',\n",
       " 'scythe',\n",
       " 'goliath frog',\n",
       " 'defection threat',\n",
       " 'cottage',\n",
       " 'conveyor',\n",
       " 'system failure',\n",
       " 'disloyal soldier',\n",
       " 'platoon report',\n",
       " 'corruption scandal',\n",
       " 'software developer',\n",
       " 'suspected person',\n",
       " 'password expiry',\n",
       " 'bomb failure',\n",
       " 'tank_advance',\n",
       " 'church',\n",
       " 'robot',\n",
       " 'gauntlet_knife',\n",
       " 'beetle',\n",
       " 'factory',\n",
       " 'airship_vehicle',\n",
       " 'artillery_strike',\n",
       " 'psychologist',\n",
       " 'covert agent',\n",
       " 'kangaroo',\n",
       " 'anglerfish',\n",
       " 'sabre',\n",
       " 'phoenix fish',\n",
       " 'siege',\n",
       " 'barista',\n",
       " 'supply shortage',\n",
       " 'pilot',\n",
       " 'hotel',\n",
       " 'leadership breakdown',\n",
       " 'lawyer',\n",
       " 'memory usage alert',\n",
       " 'museum',\n",
       " 'police_officer',\n",
       " 'photographer',\n",
       " 'command incompetence',\n",
       " 'bow',\n",
       " 'missile malfunction',\n",
       " 'poodle',\n",
       " 'plumber',\n",
       " 'bayonet_charge',\n",
       " 'net_gun',\n",
       " 'battlefield_retreat',\n",
       " 'kestrel',\n",
       " 'swan',\n",
       " 'electric_train',\n",
       " 'blowgun',\n",
       " 'ambulance',\n",
       " 'pangolin',\n",
       " 'chakram',\n",
       " 'platypus',\n",
       " 'rooster',\n",
       " 'wildcat',\n",
       " 'x4x4_off_road_car',\n",
       " 'launch failure',\n",
       " 'event_planner',\n",
       " 'trident',\n",
       " 'carpenter',\n",
       " 'rabbit',\n",
       " 'trolley',\n",
       " 'urban_public_transport_system',\n",
       " 'sniper_attack',\n",
       " 'axe',\n",
       " 'mechanic']"
      ]
     },
     "execution_count": 7,
     "metadata": {},
     "output_type": "execute_result"
    }
   ],
   "execution_count": 7
  },
  {
   "metadata": {},
   "cell_type": "markdown",
   "source": "## get rule instance from free text",
   "id": "af0758f5e833cca9"
  },
  {
   "metadata": {
    "ExecuteTime": {
     "end_time": "2024-12-26T10:35:33.340990Z",
     "start_time": "2024-12-26T10:35:33.339038Z"
    }
   },
   "cell_type": "code",
   "source": "",
   "id": "3d3c84c8bf63a9c3",
   "outputs": [
    {
     "name": "stdout",
     "output_type": "stream",
     "text": [
      "hello\n"
     ]
    }
   ],
   "execution_count": 5
  },
  {
   "metadata": {
    "ExecuteTime": {
     "end_time": "2024-12-26T10:44:55.577361Z",
     "start_time": "2024-12-26T10:44:55.286845Z"
    }
   },
   "cell_type": "code",
   "source": [
    "free_text = \"An instance of ruleInstanceName - Falcon Evaluation needs to be created, dealing with the severity level two. The scavenging efficiency of this falcon is, let's say, seventy. However, the beak sharpness is much sharper, let's say something like eight. The falcon's vision acuity is good, and the wing span is, um, eighty. The level of thermal riding skill is intermediate. The bone digestion efficiency is much higher, at about eighty-five. And the feather maintenance? That's excellent.\"\n",
    "\n",
    "response = rig.get_rule_instance(free_text) # return dictionary"
   ],
   "id": "d41d9ff66ad84cda",
   "outputs": [
    {
     "name": "stdout",
     "output_type": "stream",
     "text": [
      "difference 0.09169362405269865\n",
      "closest_distance 0.8130064092983944\n",
      "vulture\n",
      "id = None\n",
      "Log file is empty or does not exist.\n"
     ]
    }
   ],
   "execution_count": 3
  },
  {
   "metadata": {
    "ExecuteTime": {
     "end_time": "2024-12-26T10:45:00.398485Z",
     "start_time": "2024-12-26T10:45:00.392334Z"
    }
   },
   "cell_type": "code",
   "source": "response.keys()",
   "id": "291f52e6d13fea73",
   "outputs": [
    {
     "data": {
      "text/plain": [
       "dict_keys(['rule_instance', 'is_error', 'error_message', 'free_text', 'type_name', 'rag_score', 'model_response', 'examples', 'schema', 'time', 'inference_time'])"
      ]
     },
     "execution_count": 4,
     "metadata": {},
     "output_type": "execute_result"
    }
   ],
   "execution_count": 4
  },
  {
   "metadata": {
    "ExecuteTime": {
     "end_time": "2024-12-26T10:45:01.319709Z",
     "start_time": "2024-12-26T10:45:01.316429Z"
    }
   },
   "cell_type": "code",
   "source": "response[\"rule_instance\"] # the package response",
   "id": "6dbad012ab6f1195",
   "outputs": [],
   "execution_count": 5
  },
  {
   "metadata": {
    "ExecuteTime": {
     "end_time": "2024-12-16T11:28:14.674761Z",
     "start_time": "2024-12-16T11:28:14.672048Z"
    }
   },
   "cell_type": "code",
   "source": [
    "# giving us feedback on the response. it will help us to improve the project. it stores in .logs file, without internet connection.\n",
    "rig.feedback(rig_response=response, good=True)  # or 0.8, or what ever you can  "
   ],
   "id": "1fd6dbf5fae064c9",
   "outputs": [
    {
     "data": {
      "text/plain": [
       "'thank you :)'"
      ]
     },
     "execution_count": 8,
     "metadata": {},
     "output_type": "execute_result"
    }
   ],
   "execution_count": 8
  },
  {
   "metadata": {},
   "cell_type": "markdown",
   "source": "# now you can run the evaluation:",
   "id": "e347cadf3211cca9"
  },
  {
   "metadata": {
    "jupyter": {
     "is_executing": true
    },
    "ExecuteTime": {
     "start_time": "2024-12-26T14:49:09.729703Z"
    }
   },
   "cell_type": "code",
   "source": [
    "rig.evaluate(\n",
    "    start_point=20,\n",
    "    end_point=50,  # None - all the data\n",
    "    sleep_time_each_10_iter=5,\n",
    "    batch_size=250\n",
    ")"
   ],
   "id": "3a636acd65e09e7b",
   "outputs": [
    {
     "name": "stderr",
     "output_type": "stream",
     "text": [
      "  0%|          | 0/30 [00:00<?, ?it/s]"
     ]
    },
    {
     "name": "stdout",
     "output_type": "stream",
     "text": [
      "Processing free_text: We need to set up an instance of Vulture Audit dealing with the severity of five. The scavenging efficiency of this bird is, um, ninety-five. However, the beak sharpness is even more, let's say something like nine. The bird flies at very high altitude and its vision acuity is excellent. The wingspan is three hundred, however, there's no data on its thermal riding skill. The bone digestion is ninety-nine, but the feather maintenance is poor.\n",
      "difference 0.1096630686117177\n",
      "closest_distance 0.8091697377564468\n",
      "vulture\n"
     ]
    },
    {
     "name": "stderr",
     "output_type": "stream",
     "text": [
      "  3%|▎         | 1/30 [00:09<04:25,  9.16s/it]"
     ]
    },
    {
     "name": "stdout",
     "output_type": "stream",
     "text": [
      "Processing free_text: We need to create an instance of Vulture Audit. This instance concerns a vulture with a scavenging efficiency as high as, well, ninety-five. The creature's flight altitude is very high, and the sharpness of its beak is nine. On top of it, the vision acuity of our vulture is excellent. With a wing span of a whopping three hundred, its thermal riding skill is yet to be determined. The bone digestion of this bird is just shy of a hundred, at ninety-nine. However, its feather maintenance is, unfortunately, poor. The severity of this audit is five.\n",
      "difference 0.11625481799387583\n",
      "closest_distance 0.8174690145057031\n",
      "vulture\n"
     ]
    },
    {
     "name": "stderr",
     "output_type": "stream",
     "text": [
      "  7%|▋         | 2/30 [00:12<02:32,  5.45s/it]"
     ]
    },
    {
     "name": "stdout",
     "output_type": "stream",
     "text": [
      "Processing free_text: An instance of Vulture Audit needs to be created, dealing with the severity level of five. The vulture's scavenging efficiency is really high, almost like ninety-five percent. It flies at a very high altitude with a beak sharpness of nine. Its vision acuity is excellent, and the wing span is something like three hundred. However, the thermal riding skill isn't mentioned. The bone digestion of the vulture is almost perfect, like ninety-nine percent. But the feather maintenance is poor.\n",
      "difference 0.12560773576318163\n",
      "closest_distance 0.7830538211877324\n",
      "vulture\n"
     ]
    },
    {
     "name": "stderr",
     "output_type": "stream",
     "text": [
      " 10%|█         | 3/30 [00:14<01:53,  4.20s/it]"
     ]
    },
    {
     "name": "stdout",
     "output_type": "stream",
     "text": [
      "Processing free_text: An instance of vulture audit needs to be formed, involving the ruleInstanceName vulture audit. The severity of the observation is just about five. However, the Scavenging efficiency is higher, let's say something like ninety-five. The Flight altitude of the vulture is very high, and the Beak sharpness is nine. The Vision acuity of the vulture is excellent, and the Wing span is three hundred. Though the Thermal riding skill is null, the Bone digestion is ninety-nine. The Feather maintenance of the vulture is poor.\n",
      "difference 0.1148460183813661\n",
      "closest_distance 0.8082946908020238\n",
      "vulture\n"
     ]
    },
    {
     "name": "stderr",
     "output_type": "stream",
     "text": [
      " 13%|█▎        | 4/30 [00:17<01:33,  3.61s/it]"
     ]
    },
    {
     "name": "stdout",
     "output_type": "stream",
     "text": [
      "Processing free_text: An instance of Vulture Audit needs to be created, dealing with the severity factor of five. The scavenging efficiency recorded was high, nearly ninety-five. However, the flight altitude was much higher, let's say something like very high. The beak sharpness was a strong nine and the vision acuity was excellent. The wing span of the bird was a massive three hundred, but the thermal riding skill was not recorded. The bone digestion was almost perfect, a whopping ninety-nine, yet the feather maintenance was poor.\n",
      "difference 0.11652063246783295\n",
      "closest_distance 0.8446636764547311\n",
      "vulture\n"
     ]
    },
    {
     "name": "stderr",
     "output_type": "stream",
     "text": [
      " 17%|█▋        | 5/30 [00:20<01:22,  3.28s/it]"
     ]
    },
    {
     "name": "stdout",
     "output_type": "stream",
     "text": [
      "Processing free_text: An instance of Rooster Profile - Rooster 1 needs to be created, tackling the rule instance name of Rooster 1. The severity of the rooster's behavior was, well, five. However, the crowing volume was much louder, let's say something like ninety five. The shine of its feathers is glossy, and the pecking order role is dominant. The aggressiveness of the rooster is eight. The egg fertilization rate is, um, not mentioned. The rooster's daybreak sensing ability is excellent, and its territorial calls are frequent.\n",
      "difference 0.15011038437908952\n",
      "closest_distance 0.8389950688747547\n",
      "rooster\n"
     ]
    },
    {
     "name": "stderr",
     "output_type": "stream",
     "text": [
      " 20%|██        | 6/30 [00:22<01:14,  3.11s/it]"
     ]
    },
    {
     "name": "stdout",
     "output_type": "stream",
     "text": [
      "Processing free_text: We need to create an instance for rooster 1, dealing with the behavior of a rooster. The volume of crowing is, um, ninety-five. The feathers are pretty shiny, let's say something like glossy. The role in the pecking order is dominant, and the level of aggressiveness is eight. The rate of egg fertilization is null, but the daybreak sensing is excellent. As for territorial calls, they are frequent.\n",
      "difference 0.144535270190831\n",
      "closest_distance 0.8678960320058771\n",
      "rooster\n"
     ]
    },
    {
     "name": "stderr",
     "output_type": "stream",
     "text": [
      " 23%|██▎       | 7/30 [00:25<01:08,  2.99s/it]"
     ]
    },
    {
     "name": "stdout",
     "output_type": "stream",
     "text": [
      "Processing free_text: Let's create a new instance for a rooster, we'll call it rooster 1. The severity of this rooster's traits is five. The crowing volume for this rooster is, um, ninety five. Its feathers are quite glossy, giving it a dominant role in the pecking order. With an aggressiveness level of eight, the eggs it fertilizes are, well, none. The good news is, its daybreak sensing is excellent and it makes territorial calls frequently.\n",
      "difference 0.16710952840990378\n",
      "closest_distance 0.8020060554866797\n",
      "rooster\n"
     ]
    },
    {
     "name": "stderr",
     "output_type": "stream",
     "text": [
      " 27%|██▋       | 8/30 [00:28<01:03,  2.90s/it]"
     ]
    },
    {
     "name": "stdout",
     "output_type": "stream",
     "text": [
      "Processing free_text: An instance named rooster 1 needs to be documented, dealing with the severity level of five. The crowing volume of this rooster is quite high, let's say something like ninety-five. However, the feather shine is much more impressive, it's glossy. The role in the pecking order is dominant and the level of aggressiveness is eight. There's no data on egg fertilization rate. The ability to sense daybreak is excellent and the frequency of territorial calls is frequent.\n",
      "difference 0.14921549013711288\n",
      "closest_distance 0.8621639070516656\n",
      "rooster\n"
     ]
    },
    {
     "name": "stderr",
     "output_type": "stream",
     "text": [
      " 30%|███       | 9/30 [00:30<00:58,  2.81s/it]"
     ]
    },
    {
     "name": "stdout",
     "output_type": "stream",
     "text": [
      "Processing free_text: We've got a rooster here, name's rooster 1, that we need to document. This fella is a loud one, crowing volume is somewhere around ninety-five. His feathers, oh they're glossy, shine like a new penny. And he's no pushover either, takes the dominant role in the pecking order. Throws his weight around too, an aggressiveness of about eight I'd say. Can't say much about his egg fertilization rate though, that's a null. His daybreak sensing is excellent. And his territorial calls? Frequent. Oh, and the severity of this case, that's a five.\n",
      "difference 0.12185833651124711\n",
      "closest_distance 0.8680531265961283\n",
      "rooster\n"
     ]
    },
    {
     "name": "stderr",
     "output_type": "stream",
     "text": [
      " 33%|███▎      | 10/30 [00:33<00:55,  2.79s/it]"
     ]
    },
    {
     "name": "stdout",
     "output_type": "stream",
     "text": [
      "Processing free_text: We have to set up an instance for rooster 2. He's been crowing at about seventy-five decibels. His feathers aren't shiny, no shine at all. He's not the boss of the flock, he's more of a subordinate. This rooster has an aggression level of five and manages to fertilize about eighty percent of the eggs. His daybreak sensing ability is good, not great but good. He makes territorial calls occasionally. All this is quite serious, the severity level is four.\n",
      "difference 0.13431966534826467\n",
      "closest_distance 0.8312915034164904\n",
      "rooster\n"
     ]
    },
    {
     "name": "stderr",
     "output_type": "stream",
     "text": [
      " 37%|███▋      | 11/30 [00:41<01:22,  4.36s/it]"
     ]
    },
    {
     "name": "stdout",
     "output_type": "stream",
     "text": [
      "Processing free_text: We need to create a profile for Rooster 2, who is not the loudest on the farm with a crowing volume of seventy-five. Although it has a severity level of four, it's not the most aggressive bird around with an aggressiveness score of just five. As for its place in the pecking order, it's a subordinate. Don't expect the brightest feathers from this one, but its egg fertilization rate is quite high at eighty. Its territorial calls? Occasional. And its daybreak sensing ability is good.\n",
      "difference 0.14260748634188658\n",
      "closest_distance 0.8201142778798338\n",
      "rooster\n"
     ]
    },
    {
     "name": "stderr",
     "output_type": "stream",
     "text": [
      " 40%|████      | 12/30 [00:44<01:09,  3.86s/it]"
     ]
    },
    {
     "name": "stdout",
     "output_type": "stream",
     "text": [
      "Processing free_text: We need to create a new instance for a rooster, let's call it rooster 2. The severity of the case is four. It has a crowing volume of about seventy-five. The feather shine is, well, null. The role in the pecking order is subordinate. However, the aggressiveness is pretty high, I'd say about five. The egg fertilization rate is up to eighty, not bad at all. Daybreak sensing is good. As for territorial calls, it's just occasional.\n",
      "difference 0.1421065857756587\n",
      "closest_distance 0.8716525509682569\n",
      "rooster\n"
     ]
    },
    {
     "name": "stderr",
     "output_type": "stream",
     "text": [
      " 43%|████▎     | 13/30 [00:47<00:59,  3.52s/it]"
     ]
    },
    {
     "name": "stdout",
     "output_type": "stream",
     "text": [
      "Processing free_text: We gotta make a new instance, call it rooster 2, right. And we're dealing with, um, a severity of four. The crowing volume of this fella is something like seventy-five. But, the feather shine, well, that's null. Now, this guy's role in the pecking order is subordinate, you following? The bird's aggressiveness is around a five. The egg fertilization rate, man, that's eighty. Daybreak sensing of this guy is good, and his territorial calls, they're occasional.\n",
      "difference 0.13522343072902732\n",
      "closest_distance 0.8705281699488248\n",
      "rooster\n"
     ]
    },
    {
     "name": "stderr",
     "output_type": "stream",
     "text": [
      " 47%|████▋     | 14/30 [00:49<00:52,  3.30s/it]"
     ]
    },
    {
     "name": "stdout",
     "output_type": "stream",
     "text": [
      "Processing free_text: A new instance of rooster, let's call it rooster 2, needs to be created. This rooster is quite loud, with a crowing volume of around seventy-five. Its role in the pecking order is, well, subordinate and its level of aggressiveness is just about five. However, in terms of egg fertilization rate, it's doing pretty well with a rate of eighty. It's got good daybreak sensing but, um, its feather shine is not available at the moment. Its territorial calls are only occasional, and the severity of this case is four.\n",
      "difference 0.15621685172939714\n",
      "closest_distance 0.8455142300996821\n",
      "rooster\n"
     ]
    },
    {
     "name": "stderr",
     "output_type": "stream",
     "text": [
      " 50%|█████     | 15/30 [00:52<00:47,  3.17s/it]"
     ]
    },
    {
     "name": "stdout",
     "output_type": "stream",
     "text": [
      "Processing free_text: A new instance of a rooster, let's call it rooster 3 needs to be created. This rooster's crowing volume is pretty loud, about eighty-five. Its feathers are more on the matte side, not too shiny. In the pecking order, this rooster plays a neutral role. We can't measure its aggressiveness because it's null, but its egg fertilization rate is quite high, almost ninety. This rooster has average daybreak sensing, not too good, not too bad. And the territorial calls? They're rare. Oh, and the severity level of this rooster is three.\n",
      "difference 0.15111583711531518\n",
      "closest_distance 0.840110723450965\n",
      "rooster\n"
     ]
    },
    {
     "name": "stderr",
     "output_type": "stream",
     "text": [
      " 53%|█████▎    | 16/30 [00:55<00:41,  2.96s/it]"
     ]
    },
    {
     "name": "stdout",
     "output_type": "stream",
     "text": [
      "Processing free_text: A profile of Rooster 3 needs to be created, dealing with the breed of rooster. The crowing volume of this rooster is pretty high, um, eighty-five. However, its feather shine is much more dull, let's say something like matte. The pecking order role of this rooster is neutral, and the severity of its behavior is three. It's not aggressive, but it's got an egg fertilization rate of ninety. As for sensing the break of day, this rooster is just average. And oh, its territorial calls are pretty rare.\n",
      "difference 0.17125739758176906\n",
      "closest_distance 0.7773258384471828\n",
      "rooster\n"
     ]
    },
    {
     "name": "stderr",
     "output_type": "stream",
     "text": [
      " 57%|█████▋    | 17/30 [00:57<00:36,  2.84s/it]"
     ]
    },
    {
     "name": "stdout",
     "output_type": "stream",
     "text": [
      "Processing free_text: We need to generate an instance of Rooster 3, dealing with the rooster's characteristics. The crowing volume of the rooster is pretty loud, around eighty-five. However, this rooster has a matte feather shine. The role in the pecking order is neutral, and the egg fertilization rate is high, about ninety. The rooster's ability to sense daybreak is average and it doesn't make territorial calls often, they're quite rare. The severity of its characteristics is three.\n",
      "difference 0.1700840133406003\n",
      "closest_distance 0.8166340055016736\n",
      "rooster\n"
     ]
    },
    {
     "name": "stderr",
     "output_type": "stream",
     "text": [
      " 60%|██████    | 18/30 [01:00<00:33,  2.79s/it]"
     ]
    },
    {
     "name": "stdout",
     "output_type": "stream",
     "text": [
      "Processing free_text: We need to create an instance of rooster, let's call it rooster 3. The crowing volume of this fellow is high, something like eighty-five decibels. The feathers aren't glossy but have a matte finish. This guy's role in the pecking order is neutral, neither dominant nor subordinate. As for aggressiveness, well, we don't have any data on that. The egg fertilization rate is impressive, with a success rate of ninety percent. This rooster's ability to sense daybreak is, um, average. And the territorial calls? They're quite rare. Oh, and the severity of this issue is three.\n",
      "difference 0.1527882728391099\n",
      "closest_distance 0.8654723361558665\n",
      "rooster\n"
     ]
    },
    {
     "name": "stderr",
     "output_type": "stream",
     "text": [
      " 63%|██████▎   | 19/30 [01:03<00:30,  2.78s/it]"
     ]
    },
    {
     "name": "stdout",
     "output_type": "stream",
     "text": [
      "Processing free_text: We're dealing with an instance of a rooster, let's call it rooster 3. The crowing volume of this fella is, um, eighty-five. Doesn't shine much though, the feather shine is something like matte. Now, this bird is a bit of a wallflower, has a pecking order role of neutral. Can't really say much about its aggressiveness, it's null. But, boy oh boy, the egg fertilization rate is high, around ninety. The daybreak sensing is average, not much of an early bird. And those territorial calls, they're pretty rare. Oh and the severity, that's three.\n",
      "difference 0.14562740932424545\n",
      "closest_distance 0.8621444435664545\n",
      "rooster\n"
     ]
    },
    {
     "name": "stderr",
     "output_type": "stream",
     "text": [
      " 67%|██████▋   | 20/30 [01:05<00:27,  2.71s/it]"
     ]
    },
    {
     "name": "stdout",
     "output_type": "stream",
     "text": [
      "Processing free_text: An instance with the name rooster 4 needs to be created, dealing with a severity level of two. The Crowing volume is, um, not mentioned. However, the Feather shine is quite noticeable, let's say something like glossy. The role in the Pecking order is dominant, and the Aggressiveness rating is seven. Egg fertilization rate is something like eighty five percent. The Daybreak sensing is, well, below average, and the frequency of Territorial calls is frequent.\n",
      "difference 0.14429155077734745\n",
      "closest_distance 0.8800121766187048\n",
      "rooster\n"
     ]
    },
    {
     "name": "stderr",
     "output_type": "stream",
     "text": [
      " 70%|███████   | 21/30 [01:13<00:37,  4.21s/it]"
     ]
    },
    {
     "name": "stdout",
     "output_type": "stream",
     "text": [
      "Processing free_text: A new instance of ruleInstanceName - Rooster 4 must be formulated, concerning the bird named Rooster 4. The crowing volume, ah, is not specified. However, the feather shine is much glossier, let's tag it as glossy. The role in pecking order is dominant, and the level of aggressiveness is a solid seven. The egg fertilization rate is quite high, around eighty-five. The daybreak sensing is, um, below average, and the frequency of territorial calls is frequent. The severity of these traits is two.\n",
      "difference 0.1579797424086301\n",
      "closest_distance 0.8565701701349836\n",
      "rooster\n"
     ]
    },
    {
     "name": "stderr",
     "output_type": "stream",
     "text": [
      " 73%|███████▎  | 22/30 [01:15<00:28,  3.62s/it]"
     ]
    },
    {
     "name": "stdout",
     "output_type": "stream",
     "text": [
      "Processing free_text: A case for rooster 4 needs to be logged, dealing with the nature of chicken behaviour. The severity of this case is, um, two. The pecking order role is dominant, showing a high level of assertiveness, let's say something like seven. The feather shine is glossy, and the egg fertilization rate is eighty five. However, the crowing volume is, well, null. The daybreak sensing is below average, and the frequency of territorial calls is frequent.\n",
      "difference 0.14429904870759647\n",
      "closest_distance 0.8394867344298805\n",
      "rooster\n"
     ]
    },
    {
     "name": "stderr",
     "output_type": "stream",
     "text": [
      " 77%|███████▋  | 23/30 [01:18<00:23,  3.34s/it]"
     ]
    },
    {
     "name": "stdout",
     "output_type": "stream",
     "text": [
      "Processing free_text: An instance of ruleInstanceName in rooster 4 needs to be addressed, dealing with the severity level two. The crowing volume of the rooster is not applicable. However, the feather shine is quite noticeable, let's say something like glossy. The pecking order role is dominant, and the level of aggressiveness is seven. The egg fertilization rate is eighty-five, and the daybreak sensing is below average. Finally, the frequency of territorial calls is frequent.\n",
      "difference 0.16350854676661308\n",
      "closest_distance 0.8590743187865433\n",
      "rooster\n"
     ]
    }
   ],
   "execution_count": null
  },
  {
   "metadata": {},
   "cell_type": "code",
   "outputs": [],
   "execution_count": null,
   "source": "",
   "id": "b6b53714710cdf43"
  }
 ],
 "metadata": {
  "kernelspec": {
   "display_name": "Python 3",
   "language": "python",
   "name": "python3"
  },
  "language_info": {
   "codemirror_mode": {
    "name": "ipython",
    "version": 2
   },
   "file_extension": ".py",
   "mimetype": "text/x-python",
   "name": "python",
   "nbconvert_exporter": "python",
   "pygments_lexer": "ipython2",
   "version": "2.7.6"
  }
 },
 "nbformat": 4,
 "nbformat_minor": 5
}
