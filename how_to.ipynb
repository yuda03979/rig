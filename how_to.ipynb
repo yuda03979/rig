{
 "cells": [
  {
   "metadata": {
    "ExecuteTime": {
     "end_time": "2024-12-25T12:34:20.294136Z",
     "start_time": "2024-12-25T12:34:17.927841Z"
    }
   },
   "cell_type": "code",
   "source": "from RIG import RuleInstanceGenerator",
   "id": "1530efbec086d4a",
   "outputs": [
    {
     "name": "stderr",
     "output_type": "stream",
     "text": [
      "ERROR:root:Warning: RULE_TYPES_DIRECTORY is invalid or does not exist: \n"
     ]
    }
   ],
   "execution_count": 1
  },
  {
   "metadata": {
    "ExecuteTime": {
     "end_time": "2024-12-25T12:34:20.531920Z",
     "start_time": "2024-12-25T12:34:20.295187Z"
    }
   },
   "cell_type": "code",
   "source": "rig = RuleInstanceGenerator()",
   "id": "a8d89b711cd268a1",
   "outputs": [],
   "execution_count": 2
  },
  {
   "metadata": {},
   "cell_type": "markdown",
   "source": "## get rule instance from free text",
   "id": "af0758f5e833cca9"
  },
  {
   "metadata": {
    "ExecuteTime": {
     "end_time": "2024-12-25T11:36:00.413970Z",
     "start_time": "2024-12-25T11:36:00.412263Z"
    }
   },
   "cell_type": "code",
   "source": "# rig.add_rule_types_from_folder(\"/Users/yuda/Desktop/RIG_v1/evaluation/data/rule_types\")",
   "id": "5aef9d0c4a9e55b8",
   "outputs": [],
   "execution_count": 6
  },
  {
   "metadata": {
    "ExecuteTime": {
     "end_time": "2024-12-25T12:34:28.226173Z",
     "start_time": "2024-12-25T12:34:24.212860Z"
    }
   },
   "cell_type": "code",
   "source": [
    "free_text =     \"A new instance needs to be created for carpentry intermediate level, dealing with the skill set of woodworking and the level is intermediate. The understanding of blueprint reading is good. However, the precision measurement used is something more common, let's say something like feet. The maintenance of tools is done on a regular basis, and the knowledge of material includes wood, plywood, mdf. The design skills in furniture aren't available, and the severity of this instance is two.\"\n",
    "\n",
    "\n",
    "response = rig.get_rule_instance(free_text) # return dictionary"
   ],
   "id": "d41d9ff66ad84cda",
   "outputs": [
    {
     "name": "stdout",
     "output_type": "stream",
     "text": [
      "carpenter\n",
      "id = None\n",
      "Log file is empty or does not exist.\n",
      "prompt = \n",
      "    ### Rules:\n",
      "1. Only use fields explicitly listed in the schema below.\n",
      "2. Do not add or infer fields. Fields missing in the schema or text should be set to \"null\".\n",
      "3. Carefully map field names from the schema to the text, even if the phrasing differs.\n",
      "4. Treat words like \"without\", \"unknown\" as \"null\", while \"standard\" \"low\" etc. will return the value.\n",
      "5. Output must match the schema exactly.\n",
      "\n",
      "        ***Be sure to follow these rules***\n",
      "\n",
      "    ### Schema:\n",
      "    {'Woodworking skills': 'String', 'Blueprint reading': 'String', 'Precision measurement': 'String', 'Tool maintenance': 'String', 'Material knowledge': 'String', 'Furniture design': 'String', 'ruleInstanceName': 'string', 'severity': 'int'}\n",
      "\n",
      "    ### Examples:\n",
      "    \n",
      "\n",
      "### Example 1 :\n",
      "Free text:\n",
      "\"Add a report for 'Shell Delay'. Equipment Malfunction case. Type: shell. Site is not important. Malfunction at level five, urgency four. Desc: Detonation delayed in poland Severity i think 3.\"\n",
      "Schema:\n",
      "{\n",
      "    \"type\": \"string\",\n",
      "    \"site\": \"string\",\n",
      "    \"malfunctionLevel\": \"int\",\n",
      "    \"urgency\": \"int\",\n",
      "    \"description\": \" string\",\n",
      "    \"ruleInstanceName\": \"string\",\n",
      "    \"severity\": \"int\"\n",
      "}\n",
      "Output:\n",
      "{\n",
      "    \"type\": \"shell\",\n",
      "    \"site\": \"empty\",\n",
      "    \"malfunctionLevel\": 5,\n",
      "    \"urgency\": 4,\n",
      "    \"description\": \"Detonation delayed in poland\",\n",
      "    \"ruleInstanceName\": \"Equipment Malfunction - Shell Delay\",\n",
      "    \"severity\": 3\n",
      "}\n",
      "\n",
      "\n",
      "### Example 3 (Example for handling empty values):\n",
      "Free text:\n",
      "\"Please generate a Weather Alert - other for area code 2001. Alert type is Thunderstorm. Intensity: severe. Urgency: high. Ignore the forecast source for now. The duration of this case, I'd say, is around two. severity is empty or unclear\"\n",
      "Schema:\n",
      "{\n",
      "    \"alertType\": \"string\",\n",
      "    \"areaCode\": \"int\",\n",
      "    \"intensity\": \"string\",\n",
      "    \"urgency\": \"string\",\n",
      "    \"forecastSource\": \"string\",\n",
      "    \"duration\": \"int\",\n",
      "    \"ruleInstanceName\": \"string\",\n",
      "    \"severity\": \"int\"\n",
      "}\n",
      "Output:\n",
      "{\n",
      "    \"alertType\": \"Thunderstorm\",\n",
      "    \"areaCode\": 2001,\n",
      "    \"intensity\": \"severe\",\n",
      "    \"urgency\": \"high\",\n",
      "    \"forecastSource\": \"null\",\n",
      "    \"duration\": 2,\n",
      "    \"ruleInstanceName\": \"Weather Alert - other\",\n",
      "    \"severity\": \"null\"\n",
      "}\n",
      "\n",
      "        \n",
      "    ---\n",
      "\n",
      "    ### Context (do not use for filling fields, only as reference for the schema):\n",
      "    {'Woodworking skills_description': \"Allowed answers: 'Beginner', 'Intermediate', 'Advanced'\", 'Blueprint reading_description': '', 'Precision measurement_description': \"Allowed answers: 'Inches', 'Feet', 'Millimeters', 'Centimeters'\", 'Tool maintenance_description': '', 'Material knowledge_description': '', 'Furniture design_description': '', 'ruleInstanceName_description': 'about what the message and to what it related in the db.', 'severity_description': 'level of importance, criticality, or risk.', 'event details': {'global description': '', 'object name': 'Carpenter'}}\n",
      "\n",
      "    ---\n",
      "    ### Task:\n",
      "    - Free text: A new instance needs to be created for carpentry intermediate level, dealing with the skill set of woodworking and the level is intermediate. The understanding of blueprint reading is good. However, the precision measurement used is something more common, let's say something like feet. The maintenance of tools is done on a regular basis, and the knowledge of material includes wood, plywood, mdf. The design skills in furniture aren't available, and the severity of this instance is two.\n",
      "    - Output:\n",
      "    \n",
      "Logged question and answer: A new instance needs to be created for carpentry intermediate level, dealing with the skill set of woodworking and the level is intermediate. The understanding of blueprint reading is good. However, the precision measurement used is something more common, let's say something like feet. The maintenance of tools is done on a regular basis, and the knowledge of material includes wood, plywood, mdf. The design skills in furniture aren't available, and the severity of this instance is two.\n"
     ]
    }
   ],
   "execution_count": 3
  },
  {
   "metadata": {
    "ExecuteTime": {
     "end_time": "2024-12-25T11:36:01.935665Z",
     "start_time": "2024-12-25T11:36:01.932375Z"
    }
   },
   "cell_type": "code",
   "source": "response.keys()",
   "id": "291f52e6d13fea73",
   "outputs": [
    {
     "data": {
      "text/plain": [
       "dict_keys(['rule_instance', 'is_error', 'error_message', 'free_text', 'type_name', 'rag_score', 'model_response', 'examples', 'schema', 'time', 'inference_time'])"
      ]
     },
     "execution_count": 8,
     "metadata": {},
     "output_type": "execute_result"
    }
   ],
   "execution_count": 8
  },
  {
   "metadata": {
    "ExecuteTime": {
     "end_time": "2024-12-25T11:36:01.939128Z",
     "start_time": "2024-12-25T11:36:01.936411Z"
    }
   },
   "cell_type": "code",
   "source": "response # the package response\n",
   "id": "6dbad012ab6f1195",
   "outputs": [
    {
     "data": {
      "text/plain": [
       "{'rule_instance': {'_id': '00000000-0000-0000-0000-000000000000',\n",
       "  'description': 'string',\n",
       "  'isActive': True,\n",
       "  'lastUpdateTime': '00/00/0000 00:00:00',\n",
       "  'params': {'Woodworking skills': 'Intermediate',\n",
       "   'Blueprint reading': 'Good',\n",
       "   'Precision measurement': 'Feet',\n",
       "   'Tool maintenance': 'Regular',\n",
       "   'Material knowledge': 'Wood, Plywood, MDF',\n",
       "   'Furniture design': 'null'},\n",
       "  'ruleInstanceName': 'Carpentry Intermediate',\n",
       "  'severity': 2,\n",
       "  'ruleType': 'structured',\n",
       "  'ruleOwner': '',\n",
       "  'ruleTypeId': 'a5738ce0-b687-4be4-b0a5-588d95b8163e',\n",
       "  'eventDetails': [{'objectName': 'Carpenter',\n",
       "    'objectDescription': None,\n",
       "    'timeWindowInMilliseconds': 0,\n",
       "    'useLatest': False}],\n",
       "  'additionalInformation': {},\n",
       "  'presetId': '00000000-0000-0000-0000-000000000000'},\n",
       " 'is_error': False,\n",
       " 'error_message': '',\n",
       " 'free_text': \"A new instance needs to be created for carpentry intermediate level, dealing with the skill set of woodworking and the level is intermediate. The understanding of blueprint reading is good. However, the precision measurement used is something more common, let's say something like feet. The maintenance of tools is done on a regular basis, and the knowledge of material includes wood, plywood, mdf. The design skills in furniture aren't available, and the severity of this instance is two.\",\n",
       " 'type_name': 'carpenter',\n",
       " 'rag_score': 0.798179439292721,\n",
       " 'model_response': '{\\n    \"Woodworking skills\": \"Intermediate\",\\n    \"Blueprint reading\": \"Good\",\\n    \"Precision measurement\": \"Feet\",\\n    \"Tool maintenance\": \"Regular\",\\n    \"Material knowledge\": \"Wood, Plywood, MDF\",\\n    \"Furniture design\": \"null\",\\n    \"ruleInstanceName\": \"Carpentry Intermediate\",\\n    \"severity\": 2\\n} \\n',\n",
       " 'examples': {'example_1': {'free_text': None},\n",
       "  'example_2': {'free_text': None}},\n",
       " 'schema': {'Woodworking skills': 'String',\n",
       "  'Blueprint reading': 'String',\n",
       "  'Precision measurement': 'String',\n",
       "  'Tool maintenance': 'String',\n",
       "  'Material knowledge': 'String',\n",
       "  'Furniture design': 'String',\n",
       "  'ruleInstanceName': 'string',\n",
       "  'severity': 'int'},\n",
       " 'time': '2024-12-25|13:36:01',\n",
       " 'inference_time': 1.5138099193572998}"
      ]
     },
     "execution_count": 9,
     "metadata": {},
     "output_type": "execute_result"
    }
   ],
   "execution_count": 9
  },
  {
   "metadata": {
    "ExecuteTime": {
     "end_time": "2024-12-25T11:00:09.284593Z",
     "start_time": "2024-12-25T11:00:09.281932Z"
    }
   },
   "cell_type": "code",
   "source": [
    "# giving us feedback on the response. it will help us to improve the project. it stores in .logs file, without internet connection.\n",
    "rig.feedback(True)  # or 0.8, or what ever you can  "
   ],
   "id": "1fd6dbf5fae064c9",
   "outputs": [
    {
     "data": {
      "text/plain": [
       "'thank you :)'"
      ]
     },
     "execution_count": 9,
     "metadata": {},
     "output_type": "execute_result"
    }
   ],
   "execution_count": 9
  },
  {
   "metadata": {},
   "cell_type": "markdown",
   "source": "# now you can run the evaluation:",
   "id": "e347cadf3211cca9"
  },
  {
   "metadata": {
    "ExecuteTime": {
     "end_time": "2024-12-25T11:00:09.286671Z",
     "start_time": "2024-12-25T11:00:09.285188Z"
    }
   },
   "cell_type": "code",
   "source": "",
   "id": "aa070c2dc54cda06",
   "outputs": [],
   "execution_count": 9
  },
  {
   "metadata": {
    "ExecuteTime": {
     "end_time": "2024-12-25T11:39:59.638124Z",
     "start_time": "2024-12-25T11:39:59.437554Z"
    }
   },
   "cell_type": "code",
   "source": [
    "rig.evaluate(\n",
    "    data_file_path=\"/Users/yuda/Desktop/RIG_v1/evaluation/data/data_yuda.csv\",\n",
    "    output_directory=\"/Users/yuda/Desktop/RIG_v1/evaluation/output\",\n",
    "    start_point = 0,\n",
    "    end_point = 5, # None = all the data\n",
    "    sleep_time_each_10_iter = 30\n",
    ")"
   ],
   "id": "3a636acd65e09e7b",
   "outputs": [
    {
     "name": "stderr",
     "output_type": "stream",
     "text": [
      "100%|██████████| 5/5 [00:00<00:00, 28074.32it/s]"
     ]
    },
    {
     "name": "stdout",
     "output_type": "stream",
     "text": [
      "0\n",
      "1\n",
      "2\n",
      "3\n",
      "4\n",
      "without classification mistakes: \n",
      "\n",
      "Average Accuracy Metrics:\n",
      "binary_score: nan%\n",
      "binary_score_no_instance_name: nan%\n",
      "param_numerical_binary_score: nan%\n",
      "param_numerical_avg_score: nan%\n",
      "param_verbal_binary_score: nan%\n",
      "param_verbal_avg_score: nan%\n",
      "score_rule_instance_name: nan%\n",
      "classification score: nan%\n",
      "with all the data: \n",
      "\n",
      "Average Accuracy Metrics:\n",
      "binary_score: 0.00%\n",
      "binary_score_no_instance_name: 0.00%\n",
      "param_numerical_binary_score: 0.00%\n",
      "param_numerical_avg_score: 0.00%\n",
      "param_verbal_binary_score: 0.00%\n",
      "param_verbal_avg_score: 0.00%\n",
      "score_rule_instance_name: 0.00%\n",
      "classification score: 0.00%\n"
     ]
    },
    {
     "name": "stderr",
     "output_type": "stream",
     "text": [
      "\n"
     ]
    }
   ],
   "execution_count": 3
  }
 ],
 "metadata": {
  "kernelspec": {
   "display_name": "Python 3",
   "language": "python",
   "name": "python3"
  },
  "language_info": {
   "codemirror_mode": {
    "name": "ipython",
    "version": 2
   },
   "file_extension": ".py",
   "mimetype": "text/x-python",
   "name": "python",
   "nbconvert_exporter": "python",
   "pygments_lexer": "ipython2",
   "version": "2.7.6"
  }
 },
 "nbformat": 4,
 "nbformat_minor": 5
}
