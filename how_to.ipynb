{
 "cells": [
  {
   "metadata": {},
   "cell_type": "markdown",
   "source": "# download ollama, and run in terminal ollama serve. if you don't have internet - load the models (README)",
   "id": "4a2d43f6deccd5b0"
  },
  {
   "cell_type": "code",
   "id": "initial_id",
   "metadata": {
    "collapsed": true,
    "ExecuteTime": {
     "end_time": "2024-12-26T15:52:30.167330Z",
     "start_time": "2024-12-26T15:52:26.443333Z"
    }
   },
   "source": "from RIG.rule_instance_generator import RuleInstanceGenerator",
   "outputs": [],
   "execution_count": 1
  },
  {
   "metadata": {
    "ExecuteTime": {
     "end_time": "2024-12-26T15:52:30.402397Z",
     "start_time": "2024-12-26T15:52:30.168317Z"
    }
   },
   "cell_type": "code",
   "source": "rig = RuleInstanceGenerator()",
   "id": "a8d89b711cd268a1",
   "outputs": [],
   "execution_count": 2
  },
  {
   "metadata": {
    "ExecuteTime": {
     "end_time": "2024-12-26T15:52:40.139669Z",
     "start_time": "2024-12-26T15:52:30.403272Z"
    }
   },
   "cell_type": "code",
   "source": "rig.add_rule_types_from_folder()",
   "id": "2b721a2c32794c50",
   "outputs": [
    {
     "name": "stdout",
     "output_type": "stream",
     "text": [
      "load Bridge.json\n",
      "load equipment_malfunction.json\n",
      "load Tentacled_Sea_Cucumber.json\n",
      "load Cavalry_Charge.json\n",
      "load Guerrilla_Skirmish.json\n",
      "load Sea_Otter.json\n",
      "load Morning_Star.json\n",
      "load Journalist.json\n",
      "load Rapier.json\n",
      "load Graphic_Designer.json\n",
      "load Puffin.json\n",
      "load Data_Analyst.json\n",
      "load Teacher.json\n",
      "load Hamster.json\n",
      "load Katana.json\n",
      "load Scientist.json\n",
      "load Boomerang.json\n",
      "load Koala.json\n",
      "load Nurse.json\n",
      "load Dentist.json\n",
      "load Gondola.json\n",
      "load Halberd.json\n",
      "load Engineer.json\n",
      "load Hospital.json\n",
      "load Tarantula.json\n",
      "load Architect.json\n",
      "load Bastard_Sword.json\n",
      "load Apartment_Building.json\n",
      "load Beaver.json\n",
      "load Flanking_Maneuver.json\n",
      "load attack_overview.json\n",
      "load Komodo_Dragon.json\n",
      "load Molotov_Cocktail.json\n",
      "load Bull.json\n",
      "load Fox.json\n",
      "load Flail.json\n",
      "load Firefighter.json\n",
      "load Kayak.json\n",
      "load api_rate_limit_reached.json\n",
      "load Ballista.json\n",
      "load Farmer.json\n",
      "load fire_control.json\n",
      "load Evacuation_Operation.json\n",
      "load betrayal_risk.json\n",
      "load Trench_Assault.json\n",
      "load Cow.json\n",
      "load Chef.json\n",
      "load Actor.json\n",
      "load ATV.json\n",
      "load Castle.json\n",
      "load Multi_Motor_Trampoline.json\n",
      "load Parrotfish.json\n",
      "load Aerial_Dogfight.json\n",
      "load Vulture.json\n",
      "load Goldfish.json\n",
      "load temperature_threshold_exceeded.json\n",
      "load disk_space_warning.json\n",
      "load radar_error_monitoring.json\n",
      "load Paratrooper_Drop.json\n",
      "load Naval_Bombardment.json\n",
      "load encryption_flaw.json\n",
      "load satellite_disruption.json\n",
      "load Mole.json\n",
      "load Cannon.json\n",
      "load Scimitar.json\n",
      "load missile_failure.json\n",
      "load Shuriken.json\n",
      "load Canoe.json\n",
      "load Scythe.json\n",
      "load Goliath_Frog.json\n",
      "load defection_threat.json\n",
      "load Cottage.json\n",
      "load Conveyor.json\n",
      "load system_failure.json\n",
      "load disloyal_soldier.json\n",
      "load platoon_report.json\n",
      "load corruption_scandal.json\n",
      "load Software_Developer.json\n",
      "load suspected_person.json\n",
      "load password_expiry.json\n",
      "load bomb_failure.json\n",
      "load Tank_Advance.json\n",
      "load Church.json\n",
      "load Robot.json\n",
      "load Gauntlet_Knife.json\n",
      "load Beetle.json\n",
      "load Factory.json\n",
      "load Airship_Vehicle.json\n",
      "load Artillery_Strike.json\n",
      "load Psychologist.json\n",
      "load covert_agent.json\n",
      "load Kangaroo.json\n",
      "load Anglerfish.json\n",
      "load Sabre.json\n",
      "load Phoenix_Fish.json\n",
      "load Siege.json\n",
      "load Barista.json\n",
      "load supply_shortage.json\n",
      "load Pilot.json\n",
      "load Hotel.json\n",
      "load leadership_breakdown.json\n",
      "load Lawyer.json\n",
      "load memory_usage_high.json\n",
      "load Museum.json\n",
      "load Police_Officer.json\n",
      "load Photographer.json\n",
      "load command_incompetence.json\n",
      "load Bow.json\n",
      "load missile_malfunction.json\n",
      "load Poodle.json\n",
      "load Plumber.json\n",
      "load Bayonet_Charge.json\n",
      "load Net_Gun.json\n",
      "load Battlefield_Retreat.json\n",
      "load Kestrel.json\n",
      "load Swan.json\n",
      "load Electric_Train.json\n",
      "load Blowgun.json\n",
      "load Ambulance.json\n",
      "load Pangolin.json\n",
      "load Chakram.json\n",
      "load Platypus.json\n",
      "load Rooster.json\n",
      "load Wildcat.json\n",
      "load x4X4_Off_Road_Car.json\n",
      "load launch_failure.json\n",
      "load Event_Planner.json\n",
      "load Trident.json\n",
      "load Carpenter.json\n",
      "load Rabbit.json\n",
      "load Trolley.json\n",
      "load Urban_Public_Transport_System.json\n",
      "load Sniper_Attack.json\n",
      "load Axe.json\n",
      "load Mechanic.json\n"
     ]
    },
    {
     "data": {
      "text/plain": [
       "True"
      ]
     },
     "execution_count": 3,
     "metadata": {},
     "output_type": "execute_result"
    }
   ],
   "execution_count": 3
  },
  {
   "metadata": {
    "ExecuteTime": {
     "end_time": "2024-12-26T10:36:03.368691Z",
     "start_time": "2024-12-26T10:36:03.364663Z"
    }
   },
   "cell_type": "code",
   "source": [
    "# get list of existing rule types:\n",
    "rig.get_rule_types_names()"
   ],
   "id": "40f11096719ee8f8",
   "outputs": [
    {
     "data": {
      "text/plain": [
       "['bridge',\n",
       " 'equipment malfunction',\n",
       " 'tentacled_sea_cucumber',\n",
       " 'cavalry_charge',\n",
       " 'guerrilla_skirmish',\n",
       " 'sea_otter',\n",
       " 'morning_star',\n",
       " 'journalist',\n",
       " 'rapier',\n",
       " 'graphic_designer',\n",
       " 'puffin',\n",
       " 'data_analyst',\n",
       " 'teacher',\n",
       " 'hamster',\n",
       " 'katana',\n",
       " 'scientist',\n",
       " 'boomerang',\n",
       " 'koala',\n",
       " 'nurse',\n",
       " 'dentist',\n",
       " 'gondola',\n",
       " 'halberd',\n",
       " 'engineer',\n",
       " 'hospital',\n",
       " 'tarantula',\n",
       " 'architect',\n",
       " 'bastard_sword',\n",
       " 'apartment_building',\n",
       " 'beaver',\n",
       " 'flanking_maneuver',\n",
       " 'attack overview',\n",
       " 'komodo_dragon',\n",
       " 'molotov_cocktail',\n",
       " 'bull',\n",
       " 'fox',\n",
       " 'flail',\n",
       " 'firefighter',\n",
       " 'kayak',\n",
       " 'api throttling',\n",
       " 'ballista',\n",
       " 'farmer',\n",
       " 'fire control',\n",
       " 'evacuation_operation',\n",
       " 'betrayal risk',\n",
       " 'trench_assault',\n",
       " 'cow',\n",
       " 'chef',\n",
       " 'actor',\n",
       " 'atv',\n",
       " 'castle',\n",
       " 'multi_motor_trampoline',\n",
       " 'parrotfish',\n",
       " 'aerial_dogfight',\n",
       " 'vulture',\n",
       " 'goldfish',\n",
       " 'temperature threshold exceeded',\n",
       " 'disk space warning',\n",
       " 'radar error monitoring',\n",
       " 'paratrooper_drop',\n",
       " 'naval_bombardment',\n",
       " 'encryption flaw',\n",
       " 'satellite disruption',\n",
       " 'mole',\n",
       " 'cannon',\n",
       " 'scimitar',\n",
       " 'missile failure',\n",
       " 'shuriken',\n",
       " 'canoe',\n",
       " 'scythe',\n",
       " 'goliath frog',\n",
       " 'defection threat',\n",
       " 'cottage',\n",
       " 'conveyor',\n",
       " 'system failure',\n",
       " 'disloyal soldier',\n",
       " 'platoon report',\n",
       " 'corruption scandal',\n",
       " 'software developer',\n",
       " 'suspected person',\n",
       " 'password expiry',\n",
       " 'bomb failure',\n",
       " 'tank_advance',\n",
       " 'church',\n",
       " 'robot',\n",
       " 'gauntlet_knife',\n",
       " 'beetle',\n",
       " 'factory',\n",
       " 'airship_vehicle',\n",
       " 'artillery_strike',\n",
       " 'psychologist',\n",
       " 'covert agent',\n",
       " 'kangaroo',\n",
       " 'anglerfish',\n",
       " 'sabre',\n",
       " 'phoenix fish',\n",
       " 'siege',\n",
       " 'barista',\n",
       " 'supply shortage',\n",
       " 'pilot',\n",
       " 'hotel',\n",
       " 'leadership breakdown',\n",
       " 'lawyer',\n",
       " 'memory usage alert',\n",
       " 'museum',\n",
       " 'police_officer',\n",
       " 'photographer',\n",
       " 'command incompetence',\n",
       " 'bow',\n",
       " 'missile malfunction',\n",
       " 'poodle',\n",
       " 'plumber',\n",
       " 'bayonet_charge',\n",
       " 'net_gun',\n",
       " 'battlefield_retreat',\n",
       " 'kestrel',\n",
       " 'swan',\n",
       " 'electric_train',\n",
       " 'blowgun',\n",
       " 'ambulance',\n",
       " 'pangolin',\n",
       " 'chakram',\n",
       " 'platypus',\n",
       " 'rooster',\n",
       " 'wildcat',\n",
       " 'x4x4_off_road_car',\n",
       " 'launch failure',\n",
       " 'event_planner',\n",
       " 'trident',\n",
       " 'carpenter',\n",
       " 'rabbit',\n",
       " 'trolley',\n",
       " 'urban_public_transport_system',\n",
       " 'sniper_attack',\n",
       " 'axe',\n",
       " 'mechanic']"
      ]
     },
     "execution_count": 7,
     "metadata": {},
     "output_type": "execute_result"
    }
   ],
   "execution_count": 7
  },
  {
   "metadata": {},
   "cell_type": "markdown",
   "source": "## get rule instance from free text",
   "id": "af0758f5e833cca9"
  },
  {
   "metadata": {
    "ExecuteTime": {
     "end_time": "2024-12-26T10:35:33.340990Z",
     "start_time": "2024-12-26T10:35:33.339038Z"
    }
   },
   "cell_type": "code",
   "source": "",
   "id": "3d3c84c8bf63a9c3",
   "outputs": [
    {
     "name": "stdout",
     "output_type": "stream",
     "text": [
      "hello\n"
     ]
    }
   ],
   "execution_count": 5
  },
  {
   "metadata": {
    "ExecuteTime": {
     "end_time": "2024-12-26T14:57:34.949421Z",
     "start_time": "2024-12-26T14:57:30.649691Z"
    }
   },
   "cell_type": "code",
   "source": [
    "free_text = \"An instance of ruleInstanceName - Falcon Evaluation needs to be created, dealing with the severity level two. The scavenging efficiency of this falcon is, let's say, seventy. However, the beak sharpness is much sharper, let's say something like eight. The falcon's vision acuity is good, and the wing span is, um, eighty. The level of thermal riding skill is intermediate. The bone digestion efficiency is much higher, at about eighty-five. And the feather maintenance? That's excellent.\"\n",
    "\n",
    "response = rig.get_rule_instance(free_text) # return dictionary"
   ],
   "id": "d41d9ff66ad84cda",
   "outputs": [
    {
     "name": "stdout",
     "output_type": "stream",
     "text": [
      "difference 0.09169362405269865\n",
      "closest_distance 0.8130064092983944\n",
      "vulture\n"
     ]
    }
   ],
   "execution_count": 3
  },
  {
   "metadata": {
    "ExecuteTime": {
     "end_time": "2024-12-26T10:45:00.398485Z",
     "start_time": "2024-12-26T10:45:00.392334Z"
    }
   },
   "cell_type": "code",
   "source": "response.keys()",
   "id": "291f52e6d13fea73",
   "outputs": [
    {
     "data": {
      "text/plain": [
       "dict_keys(['rule_instance', 'is_error', 'error_message', 'free_text', 'type_name', 'rag_score', 'model_response', 'examples', 'schema', 'time', 'inference_time'])"
      ]
     },
     "execution_count": 4,
     "metadata": {},
     "output_type": "execute_result"
    }
   ],
   "execution_count": 4
  },
  {
   "metadata": {
    "ExecuteTime": {
     "end_time": "2024-12-26T14:58:52.302079Z",
     "start_time": "2024-12-26T14:58:52.295862Z"
    }
   },
   "cell_type": "code",
   "source": "response[\"rule_instance\"] # the package response",
   "id": "6dbad012ab6f1195",
   "outputs": [
    {
     "data": {
      "text/plain": [
       "{'_id': '00000000-0000-0000-0000-000000000000',\n",
       " 'description': 'string',\n",
       " 'isActive': True,\n",
       " 'lastUpdateTime': '00/00/0000 00:00:00',\n",
       " 'params': {'Scavenging efficiency': 70,\n",
       "  'Flight altitude': 'null',\n",
       "  'Beak sharpness': 8,\n",
       "  'Vision acuity': 'good',\n",
       "  'Wing span': 80,\n",
       "  'Thermal riding skill': 'intermediate',\n",
       "  'Bone digestion': 85,\n",
       "  'Feather maintenance': 'excellent'},\n",
       " 'ruleInstanceName': 'falcon evaluation',\n",
       " 'severity': 2,\n",
       " 'ruleType': 'structured',\n",
       " 'ruleOwner': '',\n",
       " 'ruleTypeId': '1b5db158-d5de-47c6-90f6-25688ffece4b',\n",
       " 'eventDetails': [{'objectName': 'Vulture',\n",
       "   'objectDescription': None,\n",
       "   'timeWindowInMilliseconds': 0,\n",
       "   'useLatest': False}],\n",
       " 'additionalInformation': {},\n",
       " 'presetId': '00000000-0000-0000-0000-000000000000'}"
      ]
     },
     "execution_count": 4,
     "metadata": {},
     "output_type": "execute_result"
    }
   ],
   "execution_count": 4
  },
  {
   "metadata": {
    "ExecuteTime": {
     "end_time": "2024-12-16T11:28:14.674761Z",
     "start_time": "2024-12-16T11:28:14.672048Z"
    }
   },
   "cell_type": "code",
   "source": [
    "# giving us feedback on the response. it will help us to improve the project. it stores in .logs file, without internet connection.\n",
    "rig.feedback(rig_response=response, good=True)  # or 0.8, or what ever you can  "
   ],
   "id": "1fd6dbf5fae064c9",
   "outputs": [
    {
     "data": {
      "text/plain": [
       "'thank you :)'"
      ]
     },
     "execution_count": 8,
     "metadata": {},
     "output_type": "execute_result"
    }
   ],
   "execution_count": 8
  },
  {
   "metadata": {},
   "cell_type": "markdown",
   "source": "# now you can run the evaluation:",
   "id": "e347cadf3211cca9"
  },
  {
   "metadata": {
    "ExecuteTime": {
     "end_time": "2024-12-26T19:03:32.220470Z",
     "start_time": "2024-12-26T15:53:53.146603Z"
    }
   },
   "cell_type": "code",
   "source": [
    "rig.evaluate(\n",
    "    start_point=0,\n",
    "    end_point=-1,  # None - all the data\n",
    "    sleep_time_each_10_iter=15,\n",
    "    batch_size=250\n",
    ")"
   ],
   "id": "3a636acd65e09e7b",
   "outputs": [
    {
     "name": "stderr",
     "output_type": "stream",
     "text": [
      "  9%|▉         | 250/2723 [17:37<1:54:30,  2.78s/it]"
     ]
    },
    {
     "name": "stdout",
     "output_type": "stream",
     "text": [
      "Writing results after processing 250 rows...\n",
      "\n",
      "Average Accuracy Metrics:\n",
      "binary_score: 84.84%\n",
      "binary_score_no_instance_name: 87.30%\n",
      "param_numerical_binary_score: 96.31%\n",
      "param_numerical_avg_score: 98.80%\n",
      "param_verbal_binary_score: 85.66%\n",
      "param_verbal_avg_score: 97.93%\n",
      "score_rule_instance_name: 97.54%\n",
      "classification score: 100.00%\n",
      "\n",
      "Average Accuracy Metrics:\n",
      "binary_score: 82.80%\n",
      "binary_score_no_instance_name: 85.20%\n",
      "param_numerical_binary_score: 96.40%\n",
      "param_numerical_avg_score: 98.83%\n",
      "param_verbal_binary_score: 83.60%\n",
      "param_verbal_avg_score: 97.48%\n",
      "score_rule_instance_name: 97.60%\n",
      "classification score: 97.60%\n"
     ]
    },
    {
     "name": "stderr",
     "output_type": "stream",
     "text": [
      " 18%|█▊        | 500/2723 [35:36<1:51:29,  3.01s/it]"
     ]
    },
    {
     "name": "stdout",
     "output_type": "stream",
     "text": [
      "Writing results after processing 500 rows...\n",
      "\n",
      "Average Accuracy Metrics:\n",
      "binary_score: 85.43%\n",
      "binary_score_no_instance_name: 86.84%\n",
      "param_numerical_binary_score: 97.57%\n",
      "param_numerical_avg_score: 99.29%\n",
      "param_verbal_binary_score: 85.02%\n",
      "param_verbal_avg_score: 97.58%\n",
      "score_rule_instance_name: 98.38%\n",
      "classification score: 100.00%\n",
      "\n",
      "Average Accuracy Metrics:\n",
      "binary_score: 84.40%\n",
      "binary_score_no_instance_name: 85.80%\n",
      "param_numerical_binary_score: 97.60%\n",
      "param_numerical_avg_score: 99.30%\n",
      "param_verbal_binary_score: 84.00%\n",
      "param_verbal_avg_score: 97.36%\n",
      "score_rule_instance_name: 98.40%\n",
      "classification score: 98.80%\n"
     ]
    },
    {
     "name": "stderr",
     "output_type": "stream",
     "text": [
      " 28%|██▊       | 750/2723 [53:38<1:22:54,  2.52s/it]"
     ]
    },
    {
     "name": "stdout",
     "output_type": "stream",
     "text": [
      "Writing results after processing 750 rows...\n",
      "\n",
      "Average Accuracy Metrics:\n",
      "binary_score: 84.20%\n",
      "binary_score_no_instance_name: 85.69%\n",
      "param_numerical_binary_score: 97.00%\n",
      "param_numerical_avg_score: 98.98%\n",
      "param_verbal_binary_score: 84.20%\n",
      "param_verbal_avg_score: 96.98%\n",
      "score_rule_instance_name: 98.23%\n",
      "classification score: 100.00%\n",
      "\n",
      "Average Accuracy Metrics:\n",
      "binary_score: 83.33%\n",
      "binary_score_no_instance_name: 84.80%\n",
      "param_numerical_binary_score: 97.07%\n",
      "param_numerical_avg_score: 99.00%\n",
      "param_verbal_binary_score: 82.40%\n",
      "param_verbal_avg_score: 96.88%\n",
      "score_rule_instance_name: 98.27%\n",
      "classification score: 97.87%\n"
     ]
    },
    {
     "name": "stderr",
     "output_type": "stream",
     "text": [
      " 37%|███▋      | 1000/2723 [1:11:27<1:17:19,  2.69s/it]"
     ]
    },
    {
     "name": "stdout",
     "output_type": "stream",
     "text": [
      "Writing results after processing 1000 rows...\n",
      "\n",
      "Average Accuracy Metrics:\n",
      "binary_score: 86.05%\n",
      "binary_score_no_instance_name: 87.78%\n",
      "param_numerical_binary_score: 97.15%\n",
      "param_numerical_avg_score: 99.01%\n",
      "param_verbal_binary_score: 86.56%\n",
      "param_verbal_avg_score: 97.39%\n",
      "score_rule_instance_name: 98.07%\n",
      "classification score: 100.00%\n",
      "\n",
      "Average Accuracy Metrics:\n",
      "binary_score: 85.20%\n",
      "binary_score_no_instance_name: 86.90%\n",
      "param_numerical_binary_score: 97.20%\n",
      "param_numerical_avg_score: 99.02%\n",
      "param_verbal_binary_score: 85.00%\n",
      "param_verbal_avg_score: 97.28%\n",
      "score_rule_instance_name: 98.10%\n",
      "classification score: 98.20%\n"
     ]
    },
    {
     "name": "stderr",
     "output_type": "stream",
     "text": [
      " 46%|████▌     | 1250/2723 [1:28:35<1:06:15,  2.70s/it]"
     ]
    },
    {
     "name": "stdout",
     "output_type": "stream",
     "text": [
      "Writing results after processing 1250 rows...\n",
      "\n",
      "Average Accuracy Metrics:\n",
      "binary_score: 83.71%\n",
      "binary_score_no_instance_name: 85.83%\n",
      "param_numerical_binary_score: 97.23%\n",
      "param_numerical_avg_score: 99.04%\n",
      "param_verbal_binary_score: 84.45%\n",
      "param_verbal_avg_score: 96.41%\n",
      "score_rule_instance_name: 97.56%\n",
      "classification score: 100.00%\n",
      "\n",
      "Average Accuracy Metrics:\n",
      "binary_score: 82.96%\n",
      "binary_score_no_instance_name: 85.04%\n",
      "param_numerical_binary_score: 97.28%\n",
      "param_numerical_avg_score: 99.06%\n",
      "param_verbal_binary_score: 82.96%\n",
      "param_verbal_avg_score: 96.35%\n",
      "score_rule_instance_name: 97.60%\n",
      "classification score: 98.24%\n"
     ]
    },
    {
     "name": "stderr",
     "output_type": "stream",
     "text": [
      " 55%|█████▌    | 1500/2723 [1:45:38<51:36,  2.53s/it]  "
     ]
    },
    {
     "name": "stdout",
     "output_type": "stream",
     "text": [
      "Writing results after processing 1500 rows...\n",
      "\n",
      "Average Accuracy Metrics:\n",
      "binary_score: 82.74%\n",
      "binary_score_no_instance_name: 86.01%\n",
      "param_numerical_binary_score: 97.62%\n",
      "param_numerical_avg_score: 99.17%\n",
      "param_verbal_binary_score: 84.58%\n",
      "param_verbal_avg_score: 96.46%\n",
      "score_rule_instance_name: 96.20%\n",
      "classification score: 100.00%\n",
      "\n",
      "Average Accuracy Metrics:\n",
      "binary_score: 81.93%\n",
      "binary_score_no_instance_name: 85.13%\n",
      "param_numerical_binary_score: 97.53%\n",
      "param_numerical_avg_score: 99.18%\n",
      "param_verbal_binary_score: 83.00%\n",
      "param_verbal_avg_score: 96.29%\n",
      "score_rule_instance_name: 96.27%\n",
      "classification score: 98.13%\n"
     ]
    },
    {
     "name": "stderr",
     "output_type": "stream",
     "text": [
      " 64%|██████▍   | 1750/2723 [2:02:42<50:06,  3.09s/it]  "
     ]
    },
    {
     "name": "stdout",
     "output_type": "stream",
     "text": [
      "Writing results after processing 1750 rows...\n",
      "\n",
      "Average Accuracy Metrics:\n",
      "binary_score: 82.55%\n",
      "binary_score_no_instance_name: 86.05%\n",
      "param_numerical_binary_score: 97.90%\n",
      "param_numerical_avg_score: 99.26%\n",
      "param_verbal_binary_score: 84.71%\n",
      "param_verbal_avg_score: 96.50%\n",
      "score_rule_instance_name: 95.86%\n",
      "classification score: 100.00%\n",
      "\n",
      "Average Accuracy Metrics:\n",
      "binary_score: 81.94%\n",
      "binary_score_no_instance_name: 85.37%\n",
      "param_numerical_binary_score: 97.83%\n",
      "param_numerical_avg_score: 99.27%\n",
      "param_verbal_binary_score: 82.91%\n",
      "param_verbal_avg_score: 96.38%\n",
      "score_rule_instance_name: 95.94%\n",
      "classification score: 97.89%\n"
     ]
    },
    {
     "name": "stderr",
     "output_type": "stream",
     "text": [
      " 73%|███████▎  | 2000/2723 [2:19:42<34:50,  2.89s/it]  "
     ]
    },
    {
     "name": "stdout",
     "output_type": "stream",
     "text": [
      "Writing results after processing 2000 rows...\n",
      "\n",
      "Average Accuracy Metrics:\n",
      "binary_score: 82.41%\n",
      "binary_score_no_instance_name: 85.87%\n",
      "param_numerical_binary_score: 98.01%\n",
      "param_numerical_avg_score: 99.28%\n",
      "param_verbal_binary_score: 84.45%\n",
      "param_verbal_avg_score: 96.31%\n",
      "score_rule_instance_name: 95.82%\n",
      "classification score: 100.00%\n",
      "\n",
      "Average Accuracy Metrics:\n",
      "binary_score: 81.85%\n",
      "binary_score_no_instance_name: 85.25%\n",
      "param_numerical_binary_score: 97.95%\n",
      "param_numerical_avg_score: 99.30%\n",
      "param_verbal_binary_score: 82.80%\n",
      "param_verbal_avg_score: 96.17%\n",
      "score_rule_instance_name: 95.90%\n",
      "classification score: 98.05%\n"
     ]
    },
    {
     "name": "stderr",
     "output_type": "stream",
     "text": [
      " 83%|████████▎ | 2250/2723 [2:36:32<21:06,  2.68s/it]  "
     ]
    },
    {
     "name": "stdout",
     "output_type": "stream",
     "text": [
      "Writing results after processing 2250 rows...\n",
      "\n",
      "Average Accuracy Metrics:\n",
      "binary_score: 81.38%\n",
      "binary_score_no_instance_name: 85.18%\n",
      "param_numerical_binary_score: 98.01%\n",
      "param_numerical_avg_score: 99.31%\n",
      "param_verbal_binary_score: 83.46%\n",
      "param_verbal_avg_score: 96.33%\n",
      "score_rule_instance_name: 95.51%\n",
      "classification score: 100.00%\n",
      "\n",
      "Average Accuracy Metrics:\n",
      "binary_score: 80.84%\n",
      "binary_score_no_instance_name: 84.58%\n",
      "param_numerical_binary_score: 97.96%\n",
      "param_numerical_avg_score: 99.33%\n",
      "param_verbal_binary_score: 81.87%\n",
      "param_verbal_avg_score: 96.18%\n",
      "score_rule_instance_name: 95.60%\n",
      "classification score: 98.09%\n"
     ]
    },
    {
     "name": "stderr",
     "output_type": "stream",
     "text": [
      " 92%|█████████▏| 2500/2723 [2:54:37<09:53,  2.66s/it]  "
     ]
    },
    {
     "name": "stdout",
     "output_type": "stream",
     "text": [
      "Writing results after processing 2500 rows...\n",
      "\n",
      "Average Accuracy Metrics:\n",
      "binary_score: 81.45%\n",
      "binary_score_no_instance_name: 85.10%\n",
      "param_numerical_binary_score: 97.99%\n",
      "param_numerical_avg_score: 99.30%\n",
      "param_verbal_binary_score: 83.34%\n",
      "param_verbal_avg_score: 96.38%\n",
      "score_rule_instance_name: 95.61%\n",
      "classification score: 100.00%\n",
      "\n",
      "Average Accuracy Metrics:\n",
      "binary_score: 81.00%\n",
      "binary_score_no_instance_name: 84.56%\n",
      "param_numerical_binary_score: 97.96%\n",
      "param_numerical_avg_score: 99.32%\n",
      "param_verbal_binary_score: 81.24%\n",
      "param_verbal_avg_score: 96.26%\n",
      "score_rule_instance_name: 95.72%\n",
      "classification score: 97.48%\n"
     ]
    },
    {
     "name": "stderr",
     "output_type": "stream",
     "text": [
      " 94%|█████████▎| 2550/2723 [2:57:50<07:18,  2.53s/it]"
     ]
    },
    {
     "name": "stdout",
     "output_type": "stream",
     "text": [
      "---------- model return error ---------:  {'rule_instance': None, 'is_error': True, 'error_message': \"error! can't extract json from model response\", 'free_text': \"Let's create an instance of Knight's Combat Readiness. We're dealing with a sword that has a concave blade curvature. The cutting force of this sword is, hmm, five and the grip strength is four. The guard design is a cross. The balance during strikes? Good. The edge durability is not mentioned. And the severity of the readiness is two.\", 'type_name': 'sabre', 'rag_score': 0.7041906052909073, 'model_response': \"```json\\n{'ruleInstanceName': 'Knight's Combat Readiness', 'severity': '2', 'Blade curvature': 'concave', 'Guard design': 'cross', 'Cutting force': '5', 'Balance during strikes': 'good', 'Grip strength': '4', 'Edge durability': 'null',}\", 'examples': {'example_1': {'distance': 0.803066062765394, 'free_text': '[\"An instance of knight sword verification needs to be created, dealing with the severity level of five. The handle length of the sword was like, um, sixty. However, the swing power was much more, let\\'s say something like high. The weight of the material is one thousand, and the grip safety is made of metal. Even though the blade curvature is not defined, the rust resistance of the sword is high.\"]', 'response': \"{'ruleInstanceName': 'knight sword verification', 'severity': '5', 'Blade curvature': 'null', 'Handle length': '60', 'Swing power': 'high', 'Material weight': '1000', 'Grip safety': 'metal', 'Rust resistance': 'high'}\", 'response_id': 'ScytheD5Q4', 'type_name': 'Scythe'}, 'example_2': {'distance': 0.8415743068906267, 'free_text': '[\"We need to set up an instance of Battlefield Weapon Evaluation. We\\'re looking at a weapon with a blade curvature that\\'s, um, convex. The cutting force of this thing is, just, seven. But the edge durability is slightly less, let\\'s say something like five. The grip strength of the weapon is four, and it has an average balance during strikes. We\\'d rate the severity of this evaluation as three.\"]', 'response': \"{'ruleInstanceName': 'battlefield weapon evaluation', 'severity': '3', 'Blade curvature': 'convex', 'Guard design': 'null', 'Cutting force': '7', 'Balance during strikes': 'average', 'Grip strength': '4', 'Edge durability': '5'}\", 'response_id': 'SabreD3Q2', 'type_name': 'Sabre'}}, 'schema': {'Blade curvature': 'String', 'Guard design': 'String', 'Cutting force': 'Int', 'Balance during strikes': 'string', 'Grip strength': 'Int', 'Edge durability': 'Int', 'ruleInstanceName': 'string', 'severity': 'int'}, 'time': '2024-12-26|20:51:43', 'inference_time': 2.456850051879883}\n",
      "Error: rig_response is None\n",
      "Error processing row 2550, free_text: Let's create an instance of Knight's Combat Readiness. We're dealing with a sword that has a concave blade curvature. The cutting force of this sword is, hmm, five and the grip strength is four. The guard design is a cross. The balance during strikes? Good. The edge durability is not mentioned. And the severity of the readiness is two., Error: 'bool' object has no attribute 'keys'\n"
     ]
    },
    {
     "name": "stderr",
     "output_type": "stream",
     "text": [
      " 94%|█████████▎| 2551/2723 [2:58:07<20:04,  7.00s/it]"
     ]
    },
    {
     "name": "stdout",
     "output_type": "stream",
     "text": [
      "---------- model return error ---------:  {'rule_instance': None, 'is_error': True, 'error_message': \"error! can't extract json from model response\", 'free_text': \"We need to create an instance of Knight's Combat Readiness. This instance deals with a sword that has a concave design for the blade curvature. The force used in cutting with this sword is, well, five. But the grip strength isn't as high, let's say about four. The guard design is a cross, and the sword has a good balance during strikes. However, the edge durability isn't provided. The severity of the situation is two.\", 'type_name': 'sabre', 'rag_score': 0.7332570670965664, 'model_response': \"```json\\n{'ruleInstanceName': 'Knight's Combat Readiness', 'severity': '2', 'Blade curvature': 'concave', 'Guard design': 'cross', 'Cutting force': '5', 'Balance during strikes': 'good', 'Grip strength': '4', 'Edge durability': 'null',}\", 'examples': {'example_1': {'distance': 0.8090897130184369, 'free_text': '[\"An instance of knight sword verification needs to be created, dealing with the severity level of five. The handle length of the sword was like, um, sixty. However, the swing power was much more, let\\'s say something like high. The weight of the material is one thousand, and the grip safety is made of metal. Even though the blade curvature is not defined, the rust resistance of the sword is high.\"]', 'response': \"{'ruleInstanceName': 'knight sword verification', 'severity': '5', 'Blade curvature': 'null', 'Handle length': '60', 'Swing power': 'high', 'Material weight': '1000', 'Grip safety': 'metal', 'Rust resistance': 'high'}\", 'response_id': 'ScytheD5Q4', 'type_name': 'Scythe'}, 'example_2': {'distance': 0.838118056720814, 'free_text': '[\"An instance of battlefield weapon evaluation needs to be created, dealing with the type of blade curvature as convex. The cutting force was something like seven. However, the grip strength was not that great, let\\'s say something like four. The guard design is not specified, and the severity of the evaluation is three. The balance during strikes is average, and the edge durability is something like five.\"]', 'response': \"{'ruleInstanceName': 'battlefield weapon evaluation', 'severity': '3', 'Blade curvature': 'convex', 'Guard design': 'null', 'Cutting force': '7', 'Balance during strikes': 'average', 'Grip strength': '4', 'Edge durability': '5'}\", 'response_id': 'SabreD3Q3', 'type_name': 'Sabre'}}, 'schema': {'Blade curvature': 'String', 'Guard design': 'String', 'Cutting force': 'Int', 'Balance during strikes': 'string', 'Grip strength': 'Int', 'Edge durability': 'Int', 'ruleInstanceName': 'string', 'severity': 'int'}, 'time': '2024-12-26|20:52:00', 'inference_time': 2.4133460521698}\n",
      "Error: rig_response is None\n",
      "Error processing row 2551, free_text: We need to create an instance of Knight's Combat Readiness. This instance deals with a sword that has a concave design for the blade curvature. The force used in cutting with this sword is, well, five. But the grip strength isn't as high, let's say about four. The guard design is a cross, and the sword has a good balance during strikes. However, the edge durability isn't provided. The severity of the situation is two., Error: 'bool' object has no attribute 'keys'\n"
     ]
    },
    {
     "name": "stderr",
     "output_type": "stream",
     "text": [
      " 94%|█████████▎| 2552/2723 [2:58:09<15:53,  5.58s/it]"
     ]
    },
    {
     "name": "stdout",
     "output_type": "stream",
     "text": [
      "---------- model return error ---------:  {'rule_instance': None, 'is_error': True, 'error_message': \"error! can't extract json from model response\", 'free_text': \"An instance of knight's combat readiness needs to be established, dealing with the type of readiness for a knight. The cutting force of the knight's sword was just, um, five. However, the grip strength was slightly less, let's say something like four. The guard design of the sword is a cross, and the severity of the readiness is two. The blade curvature of the sword is concave, and the balance during strikes is good. Although, the edge durability of the sword is null.\", 'type_name': 'sabre', 'rag_score': 0.6828857706504051, 'model_response': \"```json\\n{'ruleInstanceName': 'knight's combat readiness', 'severity': '2', 'Cutting force': '5', 'Grip strength': '4', 'Guard design': 'cross', 'Blade curvature': 'concave', 'Balance during strikes': 'good', 'Edge durability': 'null'}\", 'examples': {'example_1': {'distance': 0.8134252066526049, 'free_text': '[\"An instance of knight sword verification needs to be created, dealing with the severity level of five. The handle length of the sword was like, um, sixty. However, the swing power was much more, let\\'s say something like high. The weight of the material is one thousand, and the grip safety is made of metal. Even though the blade curvature is not defined, the rust resistance of the sword is high.\"]', 'response': \"{'ruleInstanceName': 'knight sword verification', 'severity': '5', 'Blade curvature': 'null', 'Handle length': '60', 'Swing power': 'high', 'Material weight': '1000', 'Grip safety': 'metal', 'Rust resistance': 'high'}\", 'response_id': 'ScytheD5Q4', 'type_name': 'Scythe'}, 'example_2': {'distance': 0.8073703629771811, 'free_text': '[\"An instance of Knight Sword Verification needs to be created, dealing with the type of sword knight sword. The length of the handle was, um, sixty. However, the weight of the material was much more, let\\'s say something like one thousand. The blade curvature of the sword is not mentioned, but the swing power is high. The handle is made of metal for grip safety, and the rust resistance level of the sword is high. The severity of the verification is five.\"]', 'response': \"{'ruleInstanceName': 'knight sword verification', 'severity': '5', 'Blade curvature': 'null', 'Handle length': '60', 'Swing power': 'high', 'Material weight': '1000', 'Grip safety': 'metal', 'Rust resistance': 'high'}\", 'response_id': 'ScytheD5Q3', 'type_name': 'Scythe'}}, 'schema': {'Blade curvature': 'String', 'Guard design': 'String', 'Cutting force': 'Int', 'Balance during strikes': 'string', 'Grip strength': 'Int', 'Edge durability': 'Int', 'ruleInstanceName': 'string', 'severity': 'int'}, 'time': '2024-12-26|20:52:03', 'inference_time': 2.256566047668457}\n",
      "Error: rig_response is None\n",
      "Error processing row 2552, free_text: An instance of knight's combat readiness needs to be established, dealing with the type of readiness for a knight. The cutting force of the knight's sword was just, um, five. However, the grip strength was slightly less, let's say something like four. The guard design of the sword is a cross, and the severity of the readiness is two. The blade curvature of the sword is concave, and the balance during strikes is good. Although, the edge durability of the sword is null., Error: 'bool' object has no attribute 'keys'\n"
     ]
    },
    {
     "name": "stderr",
     "output_type": "stream",
     "text": [
      " 94%|█████████▍| 2553/2723 [2:58:12<13:07,  4.63s/it]"
     ]
    },
    {
     "name": "stdout",
     "output_type": "stream",
     "text": [
      "---------- model return error ---------:  {'rule_instance': None, 'is_error': True, 'error_message': \"error! can't extract json from model response\", 'free_text': \"A Knight's Combat Readiness instance needs to be created, focusing on the knight's sword. The sword's blade curvature is concave, and it has a cross guard design. The cutting force of the sword is just, um, five. However, the grip strength is slightly less, let's say something like four. The balance during strikes is good, but the edge durability is not provided. The severity of the combat readiness is two.\", 'type_name': 'sabre', 'rag_score': 0.7024145111153358, 'model_response': \"```json\\n{'Blade curvature': 'concave', 'Guard design': 'cross guard', 'Cutting force': '5', 'Balance during strikes': 'good', 'Grip strength': '4', 'Edge durability': 'null', 'ruleInstanceName': 'Knight's Combat Readiness', 'severity': '2'}\", 'examples': {'example_1': {'distance': 0.7961282487060357, 'free_text': '[\"An instance of Knight\\'s Battle Scenario needs to be created, dealing with the rule of combat. The severity of the scenario is just, um, five. The edge of the weapon is razor-sharp, and the throwing accuracy is something like eighty. The material of the weapon is iron, and its weight is evenly balanced. The range of the weapon is thirty, and its decorative style is intricate. The durability of the weapon is, let\\'s say, ninety. However, the ease of use of the weapon is, um, not defined.\"]', 'response': '{\\'ruleInstanceName\\': \"knight\\'s battle scenario\", \\'severity\\': \\'5\\', \\'Edge sharpness\\': \\'razor-sharp\\', \\'Throwing accuracy\\': \\'80\\', \\'Material strength\\': \\'iron\\', \\'Weight balance\\': \\'even\\', \\'Range\\': \\'30\\', \\'Decorative style\\': \\'intricate\\', \\'Durability\\': \\'90\\', \\'Ease of use\\': \\'\\'}', 'response_id': 'ChakramD1Q3', 'type_name': 'Chakram'}, 'example_2': {'distance': 0.8066693692656726, 'free_text': '[\"An instance of battlefield weapon evaluation needs to be created, dealing with the type of blade curvature as convex. The cutting force was something like seven. However, the grip strength was not that great, let\\'s say something like four. The guard design is not specified, and the severity of the evaluation is three. The balance during strikes is average, and the edge durability is something like five.\"]', 'response': \"{'ruleInstanceName': 'battlefield weapon evaluation', 'severity': '3', 'Blade curvature': 'convex', 'Guard design': 'null', 'Cutting force': '7', 'Balance during strikes': 'average', 'Grip strength': '4', 'Edge durability': '5'}\", 'response_id': 'SabreD3Q3', 'type_name': 'Sabre'}}, 'schema': {'Blade curvature': 'String', 'Guard design': 'String', 'Cutting force': 'Int', 'Balance during strikes': 'string', 'Grip strength': 'Int', 'Edge durability': 'Int', 'ruleInstanceName': 'string', 'severity': 'int'}, 'time': '2024-12-26|20:52:05', 'inference_time': 2.420076847076416}\n",
      "Error: rig_response is None\n",
      "Error processing row 2553, free_text: A Knight's Combat Readiness instance needs to be created, focusing on the knight's sword. The sword's blade curvature is concave, and it has a cross guard design. The cutting force of the sword is just, um, five. However, the grip strength is slightly less, let's say something like four. The balance during strikes is good, but the edge durability is not provided. The severity of the combat readiness is two., Error: 'bool' object has no attribute 'keys'\n"
     ]
    },
    {
     "name": "stderr",
     "output_type": "stream",
     "text": [
      " 94%|█████████▍| 2554/2723 [2:58:14<11:10,  3.96s/it]"
     ]
    },
    {
     "name": "stdout",
     "output_type": "stream",
     "text": [
      "---------- model return error ---------:  {'rule_instance': None, 'is_error': True, 'error_message': \"error! can't extract json from model response\", 'free_text': \"A scenario of Knight's Combat Readiness needs to be outlined, focusing on the knight's preparedness for combat. The knight's blade has a, um, concave curvature. However, the cutting force is much stronger, let's say something like five. The design of the guard is a cross, and the grip strength of the knight is four. The balance during strikes is good, and the severity of the scenario is two.\", 'type_name': 'sabre', 'rag_score': 0.6874412644750074, 'model_response': \"```json\\n{'ruleInstanceName': 'Knight's Combat Readiness', 'severity': '2', 'Blade curvature': 'concave', 'Guard design': 'cross', 'Cutting force': '5', 'Balance during strikes': 'good', 'Grip strength': '4', 'Edge durability': null}\", 'examples': {'example_1': {'distance': 0.80244119500126, 'free_text': '[\"An instance of Knight\\'s Battle Scenario needs to be created, dealing with the rule of a knight\\'s combat. The severity of the scenario is just, um, five. However, the edge sharpness is much more severe, let\\'s say something like razor-sharp. The throwing accuracy of the weapons used is eighty and the material strength is iron. The weight balance of the weapon is even, and the range of the weapon is thirty. The decorative style of the knight\\'s armor is intricate, and the durability of the armor is ninety.\"]', 'response': '{\\'ruleInstanceName\\': \"knight\\'s battle scenario\", \\'severity\\': \\'5\\', \\'Edge sharpness\\': \\'razor-sharp\\', \\'Throwing accuracy\\': \\'80\\', \\'Material strength\\': \\'iron\\', \\'Weight balance\\': \\'even\\', \\'Range\\': \\'30\\', \\'Decorative style\\': \\'intricate\\', \\'Durability\\': \\'90\\', \\'Ease of use\\': \\'\\'}', 'response_id': 'ChakramD1Q1', 'type_name': 'Chakram'}, 'example_2': {'distance': 0.8030258796693197, 'free_text': '[\"An instance of duelist gear assessment needs to be created, dealing with the type of blade curvature, concave. The strength in the grip was just, um, five. However, the cutting force was a bit more, let\\'s say something like six. The design of the guard is basket, and the severity of the assessment is four. However, the edge durability, that\\'s a whole different story, it\\'s seven.\"]', 'response': \"{'ruleInstanceName': 'duelist gear assessment', 'severity': '4', 'Blade curvature': 'concave', 'Guard design': 'basket', 'Cutting force': '6', 'Balance during strikes': 'null', 'Grip strength': '5', 'Edge durability': '7'}\", 'response_id': 'SabreD4Q3', 'type_name': 'Sabre'}}, 'schema': {'Blade curvature': 'String', 'Guard design': 'String', 'Cutting force': 'Int', 'Balance during strikes': 'string', 'Grip strength': 'Int', 'Edge durability': 'Int', 'ruleInstanceName': 'string', 'severity': 'int'}, 'time': '2024-12-26|20:52:07', 'inference_time': 2.4089701175689697}\n",
      "Error: rig_response is None\n",
      "Error processing row 2554, free_text: A scenario of Knight's Combat Readiness needs to be outlined, focusing on the knight's preparedness for combat. The knight's blade has a, um, concave curvature. However, the cutting force is much stronger, let's say something like five. The design of the guard is a cross, and the grip strength of the knight is four. The balance during strikes is good, and the severity of the scenario is two., Error: 'bool' object has no attribute 'keys'\n"
     ]
    },
    {
     "name": "stderr",
     "output_type": "stream",
     "text": [
      "100%|██████████| 2723/2723 [3:09:38<00:00,  4.18s/it]"
     ]
    },
    {
     "name": "stdout",
     "output_type": "stream",
     "text": [
      "\n",
      "Average Accuracy Metrics:\n",
      "binary_score: 81.28%\n",
      "binary_score_no_instance_name: 84.82%\n",
      "param_numerical_binary_score: 97.97%\n",
      "param_numerical_avg_score: 99.28%\n",
      "param_verbal_binary_score: 83.13%\n",
      "param_verbal_avg_score: 96.33%\n",
      "score_rule_instance_name: 95.74%\n",
      "classification score: 100.00%\n",
      "\n",
      "Average Accuracy Metrics:\n",
      "binary_score: 80.72%\n",
      "binary_score_no_instance_name: 84.17%\n",
      "param_numerical_binary_score: 97.76%\n",
      "param_numerical_avg_score: 99.12%\n",
      "param_verbal_binary_score: 81.05%\n",
      "param_verbal_avg_score: 96.05%\n",
      "score_rule_instance_name: 95.67%\n",
      "classification score: 97.50%\n"
     ]
    },
    {
     "name": "stderr",
     "output_type": "stream",
     "text": [
      "\n"
     ]
    }
   ],
   "execution_count": 4
  },
  {
   "metadata": {},
   "cell_type": "code",
   "outputs": [],
   "execution_count": null,
   "source": "",
   "id": "b6b53714710cdf43"
  }
 ],
 "metadata": {
  "kernelspec": {
   "display_name": "Python 3",
   "language": "python",
   "name": "python3"
  },
  "language_info": {
   "codemirror_mode": {
    "name": "ipython",
    "version": 2
   },
   "file_extension": ".py",
   "mimetype": "text/x-python",
   "name": "python",
   "nbconvert_exporter": "python",
   "pygments_lexer": "ipython2",
   "version": "2.7.6"
  }
 },
 "nbformat": 4,
 "nbformat_minor": 5
}
