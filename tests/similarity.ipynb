{
 "cells": [
  {
   "metadata": {
    "ExecuteTime": {
     "end_time": "2024-12-24T09:45:26.466485Z",
     "start_time": "2024-12-24T09:45:25.065157Z"
    }
   },
   "cell_type": "code",
   "source": "from src.main import RIG",
   "id": "64bfd666d7a4d977",
   "outputs": [
    {
     "name": "stderr",
     "output_type": "stream",
     "text": [
      "ERROR:root:Warning: GEMMA_MODEL_PATH is invalid or does not exist: gemma2:2b\n",
      "ERROR:root:Warning: EMBED_MODEL_PATH is invalid or does not exist: snowflake-arctic-embed:137m\n"
     ]
    },
    {
     "name": "stdout",
     "output_type": "stream",
     "text": [
      "the first column is the index column. e.g. - type_name\n",
      "the first column is the index column. e.g. - type_name\n"
     ]
    }
   ],
   "execution_count": 1
  },
  {
   "metadata": {
    "ExecuteTime": {
     "end_time": "2024-12-24T09:45:26.470012Z",
     "start_time": "2024-12-24T09:45:26.467745Z"
    }
   },
   "cell_type": "code",
   "source": "rig = RIG()",
   "id": "aaeda9d6670203eb",
   "outputs": [],
   "execution_count": 2
  },
  {
   "metadata": {
    "ExecuteTime": {
     "end_time": "2024-12-24T09:45:26.472724Z",
     "start_time": "2024-12-24T09:45:26.470802Z"
    }
   },
   "cell_type": "code",
   "source": "print(\"hello\")",
   "id": "313c4be937e720a8",
   "outputs": [
    {
     "name": "stdout",
     "output_type": "stream",
     "text": [
      "hello\n"
     ]
    }
   ],
   "execution_count": 3
  },
  {
   "metadata": {
    "ExecuteTime": {
     "end_time": "2024-12-24T09:45:28.378087Z",
     "start_time": "2024-12-24T09:45:26.473464Z"
    }
   },
   "cell_type": "code",
   "source": [
    "rig_response = rig.predict(\"An instance of eagle assessment needs to be created, dealing with the type of assessment eagle. The scavenging efficiecy of the eagle ws around, um, eighty. However, the beak sharpness was much more severe, let's say something like seven The flight ltitude of te eagle is high, and the severity of the event is four. The vision acuity of the eagle is excellent, with a wingsan of about two hundred. The thermal riding skill of the eagle is expert, and the bone digestion is ninety. We don't have information on the feather maintenance.\")\n",
    "rig_response"
   ],
   "id": "8e0e41ebd575b859",
   "outputs": [
    {
     "data": {
      "text/plain": [
       "{'rule_instance': {'_id': '00000000-0000-0000-0000-000000000000',\n",
       "  'description': 'string',\n",
       "  'isActive': True,\n",
       "  'lastUpdateTime': '00/00/0000 00:00:00',\n",
       "  'params': {'Scavenging efficiency': 80,\n",
       "   'Flight altitude': 'high',\n",
       "   'Beak sharpness': 7,\n",
       "   'Vision acuity': 'excellent',\n",
       "   'Wing span': 200,\n",
       "   'Thermal riding skill': 'expert',\n",
       "   'Bone digestion': 90,\n",
       "   'Feather maintenance': 'null'},\n",
       "  'ruleInstanceName': 'null',\n",
       "  'severity': 4,\n",
       "  'ruleType': 'structured',\n",
       "  'ruleOwner': '',\n",
       "  'ruleTypeId': '1b5db158-d5de-47c6-90f6-25688ffece4b',\n",
       "  'eventDetails': [{'objectName': 'Vulture',\n",
       "    'objectDescription': None,\n",
       "    'timeWindowInMilliseconds': 0,\n",
       "    'useLatest': False}],\n",
       "  'additionalInformation': {},\n",
       "  'presetId': '00000000-0000-0000-0000-000000000000'},\n",
       " 'is_error': False,\n",
       " 'error_message': '',\n",
       " 'free_text': \"An instance of eagle assessment needs to be created, dealing with the type of assessment eagle. The scavenging efficiecy of the eagle ws around, um, eighty. However, the beak sharpness was much more severe, let's say something like seven The flight ltitude of te eagle is high, and the severity of the event is four. The vision acuity of the eagle is excellent, with a wingsan of about two hundred. The thermal riding skill of the eagle is expert, and the bone digestion is ninety. We don't have information on the feather maintenance.\",\n",
       " 'type_name': 'vulture',\n",
       " 'rag_score': 0.7096942146293208,\n",
       " 'model_response': '{\\n  \"Scavenging efficiency\": 80,\\n  \"Flight altitude\": \"high\",\\n  \"Beak sharpness\": 7,\\n  \"Vision acuity\": \"excellent\",\\n  \"Wing span\": 200,\\n  \"Thermal riding skill\": \"expert\",\\n  \"Bone digestion\": 90,\\n  \"Feather maintenance\": \"null\",\\n  \"ruleInstanceName\": \"null\",\\n  \"severity\": 4\\n} \\n',\n",
       " 'schema': {'Scavenging efficiency': 'Int',\n",
       "  'Flight altitude': 'String',\n",
       "  'Beak sharpness': 'Int',\n",
       "  'Vision acuity': 'string',\n",
       "  'Wing span': 'Int',\n",
       "  'Thermal riding skill': 'string',\n",
       "  'Bone digestion': 'Int',\n",
       "  'Feather maintenance': 'String',\n",
       "  'ruleInstanceName': 'string',\n",
       "  'severity': 'int'},\n",
       " 'time': '2024-12-24T11:45:28',\n",
       " 'inference_time': 1.8988969326019287}"
      ]
     },
     "execution_count": 4,
     "metadata": {},
     "output_type": "execute_result"
    }
   ],
   "execution_count": 4
  },
  {
   "metadata": {
    "ExecuteTime": {
     "end_time": "2024-12-24T09:45:28.952148Z",
     "start_time": "2024-12-24T09:45:28.380130Z"
    }
   },
   "cell_type": "code",
   "source": "rig.feedback(rig_response=rig_response, good=True)",
   "id": "5f04b690d5e05a96",
   "outputs": [
    {
     "ename": "ValueError",
     "evalue": "setting an array element with a sequence. The requested array has an inhomogeneous shape after 1 dimensions. The detected shape was (6,) + inhomogeneous part.",
     "output_type": "error",
     "traceback": [
      "\u001B[0;31m---------------------------------------------------------------------------\u001B[0m",
      "\u001B[0;31mAttributeError\u001B[0m                            Traceback (most recent call last)",
      "File \u001B[0;32m/opt/anaconda3/lib/python3.12/site-packages/numpy/core/fromnumeric.py:3209\u001B[0m, in \u001B[0;36mndim\u001B[0;34m(a)\u001B[0m\n\u001B[1;32m   3208\u001B[0m \u001B[38;5;28;01mtry\u001B[39;00m:\n\u001B[0;32m-> 3209\u001B[0m     \u001B[38;5;28;01mreturn\u001B[39;00m a\u001B[38;5;241m.\u001B[39mndim\n\u001B[1;32m   3210\u001B[0m \u001B[38;5;28;01mexcept\u001B[39;00m \u001B[38;5;167;01mAttributeError\u001B[39;00m:\n",
      "\u001B[0;31mAttributeError\u001B[0m: 'list' object has no attribute 'ndim'",
      "\nDuring handling of the above exception, another exception occurred:\n",
      "\u001B[0;31mValueError\u001B[0m                                Traceback (most recent call last)",
      "Cell \u001B[0;32mIn[5], line 1\u001B[0m\n\u001B[0;32m----> 1\u001B[0m rig\u001B[38;5;241m.\u001B[39mfeedback(rig_response\u001B[38;5;241m=\u001B[39mrig_response, good\u001B[38;5;241m=\u001B[39m\u001B[38;5;28;01mTrue\u001B[39;00m)\n",
      "File \u001B[0;32m~/PycharmProjects/RIG_v2/src/main.py:111\u001B[0m, in \u001B[0;36mRIG.feedback\u001B[0;34m(self, rig_response, good)\u001B[0m\n\u001B[1;32m    102\u001B[0m     embedding \u001B[38;5;241m=\u001B[39m API\u001B[38;5;241m.\u001B[39mrag_api_examples\u001B[38;5;241m.\u001B[39mget_embedding(free_text, prefix_doc\u001B[38;5;241m=\u001B[39m\u001B[38;5;124m\"\u001B[39m\u001B[38;5;124m\"\u001B[39m)[\u001B[38;5;241m0\u001B[39m]\n\u001B[1;32m    103\u001B[0m     row \u001B[38;5;241m=\u001B[39m {\n\u001B[1;32m    104\u001B[0m         \u001B[38;5;124m\"\u001B[39m\u001B[38;5;124mfree_text\u001B[39m\u001B[38;5;124m\"\u001B[39m: free_text,\n\u001B[1;32m    105\u001B[0m         \u001B[38;5;124m\"\u001B[39m\u001B[38;5;124mtype_name\u001B[39m\u001B[38;5;124m\"\u001B[39m: type_name,\n\u001B[0;32m   (...)\u001B[0m\n\u001B[1;32m    109\u001B[0m         \u001B[38;5;124m\"\u001B[39m\u001B[38;5;124membedding\u001B[39m\u001B[38;5;124m\"\u001B[39m: embedding,\n\u001B[1;32m    110\u001B[0m     }\n\u001B[0;32m--> 111\u001B[0m     API\u001B[38;5;241m.\u001B[39mdb_api_examples\u001B[38;5;241m.\u001B[39mset_row(row_values\u001B[38;5;241m=\u001B[39mrow)\n\u001B[1;32m    112\u001B[0m     API\u001B[38;5;241m.\u001B[39mrag_api_examples\u001B[38;5;241m.\u001B[39madd_to_text_embedding(free_text, embedding)\n\u001B[1;32m    114\u001B[0m values \u001B[38;5;241m=\u001B[39m {\n\u001B[1;32m    115\u001B[0m     \u001B[38;5;124m\"\u001B[39m\u001B[38;5;124mfree_text\u001B[39m\u001B[38;5;124m\"\u001B[39m: free_text,\n\u001B[1;32m    116\u001B[0m     \u001B[38;5;124m\"\u001B[39m\u001B[38;5;124mtype_name\u001B[39m\u001B[38;5;124m\"\u001B[39m: type_name,\n\u001B[0;32m   (...)\u001B[0m\n\u001B[1;32m    122\u001B[0m     \u001B[38;5;124m\"\u001B[39m\u001B[38;5;124mrag_score\u001B[39m\u001B[38;5;124m\"\u001B[39m: rag_score,\n\u001B[1;32m    123\u001B[0m }\n",
      "File \u001B[0;32m~/PycharmProjects/RIG_v2/db/db_api_base.py:45\u001B[0m, in \u001B[0;36mDBApiBase.set_row\u001B[0;34m(self, row_values)\u001B[0m\n\u001B[1;32m     43\u001B[0m \u001B[38;5;28;01mdef\u001B[39;00m \u001B[38;5;21mset_row\u001B[39m(\u001B[38;5;28mself\u001B[39m, row_values: \u001B[38;5;28mdict\u001B[39m):\n\u001B[1;32m     44\u001B[0m     \u001B[38;5;28;01mif\u001B[39;00m row_values[\u001B[38;5;28mself\u001B[39m\u001B[38;5;241m.\u001B[39mindex_column] \u001B[38;5;129;01min\u001B[39;00m \u001B[38;5;28mself\u001B[39m\u001B[38;5;241m.\u001B[39mget_col(\u001B[38;5;28mself\u001B[39m\u001B[38;5;241m.\u001B[39mindex_column):\n\u001B[0;32m---> 45\u001B[0m         \u001B[38;5;28mself\u001B[39m\u001B[38;5;241m.\u001B[39mdf\u001B[38;5;241m.\u001B[39mloc[\u001B[38;5;28mself\u001B[39m\u001B[38;5;241m.\u001B[39mdf[\u001B[38;5;124m'\u001B[39m\u001B[38;5;124mtype_name\u001B[39m\u001B[38;5;124m'\u001B[39m] \u001B[38;5;241m==\u001B[39m row_values[\u001B[38;5;28mself\u001B[39m\u001B[38;5;241m.\u001B[39mindex_column], \u001B[38;5;28mlist\u001B[39m(row_values\u001B[38;5;241m.\u001B[39mkeys())] \u001B[38;5;241m=\u001B[39m \u001B[38;5;28mlist\u001B[39m(\n\u001B[1;32m     46\u001B[0m             row_values\u001B[38;5;241m.\u001B[39mvalues())\n\u001B[1;32m     47\u001B[0m     \u001B[38;5;28;01melse\u001B[39;00m:\n\u001B[1;32m     48\u001B[0m         \u001B[38;5;28mself\u001B[39m\u001B[38;5;241m.\u001B[39mdf \u001B[38;5;241m=\u001B[39m pd\u001B[38;5;241m.\u001B[39mconcat([\u001B[38;5;28mself\u001B[39m\u001B[38;5;241m.\u001B[39mdf, pd\u001B[38;5;241m.\u001B[39mDataFrame([row_values])], ignore_index\u001B[38;5;241m=\u001B[39m\u001B[38;5;28;01mTrue\u001B[39;00m)\n",
      "File \u001B[0;32m/opt/anaconda3/lib/python3.12/site-packages/pandas/core/indexing.py:911\u001B[0m, in \u001B[0;36m_LocationIndexer.__setitem__\u001B[0;34m(self, key, value)\u001B[0m\n\u001B[1;32m    908\u001B[0m \u001B[38;5;28mself\u001B[39m\u001B[38;5;241m.\u001B[39m_has_valid_setitem_indexer(key)\n\u001B[1;32m    910\u001B[0m iloc \u001B[38;5;241m=\u001B[39m \u001B[38;5;28mself\u001B[39m \u001B[38;5;28;01mif\u001B[39;00m \u001B[38;5;28mself\u001B[39m\u001B[38;5;241m.\u001B[39mname \u001B[38;5;241m==\u001B[39m \u001B[38;5;124m\"\u001B[39m\u001B[38;5;124miloc\u001B[39m\u001B[38;5;124m\"\u001B[39m \u001B[38;5;28;01melse\u001B[39;00m \u001B[38;5;28mself\u001B[39m\u001B[38;5;241m.\u001B[39mobj\u001B[38;5;241m.\u001B[39miloc\n\u001B[0;32m--> 911\u001B[0m iloc\u001B[38;5;241m.\u001B[39m_setitem_with_indexer(indexer, value, \u001B[38;5;28mself\u001B[39m\u001B[38;5;241m.\u001B[39mname)\n",
      "File \u001B[0;32m/opt/anaconda3/lib/python3.12/site-packages/pandas/core/indexing.py:1942\u001B[0m, in \u001B[0;36m_iLocIndexer._setitem_with_indexer\u001B[0;34m(self, indexer, value, name)\u001B[0m\n\u001B[1;32m   1939\u001B[0m \u001B[38;5;66;03m# align and set the values\u001B[39;00m\n\u001B[1;32m   1940\u001B[0m \u001B[38;5;28;01mif\u001B[39;00m take_split_path:\n\u001B[1;32m   1941\u001B[0m     \u001B[38;5;66;03m# We have to operate column-wise\u001B[39;00m\n\u001B[0;32m-> 1942\u001B[0m     \u001B[38;5;28mself\u001B[39m\u001B[38;5;241m.\u001B[39m_setitem_with_indexer_split_path(indexer, value, name)\n\u001B[1;32m   1943\u001B[0m \u001B[38;5;28;01melse\u001B[39;00m:\n\u001B[1;32m   1944\u001B[0m     \u001B[38;5;28mself\u001B[39m\u001B[38;5;241m.\u001B[39m_setitem_single_block(indexer, value, name)\n",
      "File \u001B[0;32m/opt/anaconda3/lib/python3.12/site-packages/pandas/core/indexing.py:1979\u001B[0m, in \u001B[0;36m_iLocIndexer._setitem_with_indexer_split_path\u001B[0;34m(self, indexer, value, name)\u001B[0m\n\u001B[1;32m   1976\u001B[0m \u001B[38;5;28;01mif\u001B[39;00m \u001B[38;5;28misinstance\u001B[39m(value, ABCDataFrame):\n\u001B[1;32m   1977\u001B[0m     \u001B[38;5;28mself\u001B[39m\u001B[38;5;241m.\u001B[39m_setitem_with_indexer_frame_value(indexer, value, name)\n\u001B[0;32m-> 1979\u001B[0m \u001B[38;5;28;01melif\u001B[39;00m np\u001B[38;5;241m.\u001B[39mndim(value) \u001B[38;5;241m==\u001B[39m \u001B[38;5;241m2\u001B[39m:\n\u001B[1;32m   1980\u001B[0m     \u001B[38;5;66;03m# TODO: avoid np.ndim call in case it isn't an ndarray, since\u001B[39;00m\n\u001B[1;32m   1981\u001B[0m     \u001B[38;5;66;03m#  that will construct an ndarray, which will be wasteful\u001B[39;00m\n\u001B[1;32m   1982\u001B[0m     \u001B[38;5;28mself\u001B[39m\u001B[38;5;241m.\u001B[39m_setitem_with_indexer_2d_value(indexer, value)\n\u001B[1;32m   1984\u001B[0m \u001B[38;5;28;01melif\u001B[39;00m \u001B[38;5;28mlen\u001B[39m(ilocs) \u001B[38;5;241m==\u001B[39m \u001B[38;5;241m1\u001B[39m \u001B[38;5;129;01mand\u001B[39;00m lplane_indexer \u001B[38;5;241m==\u001B[39m \u001B[38;5;28mlen\u001B[39m(value) \u001B[38;5;129;01mand\u001B[39;00m \u001B[38;5;129;01mnot\u001B[39;00m is_scalar(pi):\n\u001B[1;32m   1985\u001B[0m     \u001B[38;5;66;03m# We are setting multiple rows in a single column.\u001B[39;00m\n",
      "File \u001B[0;32m/opt/anaconda3/lib/python3.12/site-packages/numpy/core/fromnumeric.py:3211\u001B[0m, in \u001B[0;36mndim\u001B[0;34m(a)\u001B[0m\n\u001B[1;32m   3209\u001B[0m     \u001B[38;5;28;01mreturn\u001B[39;00m a\u001B[38;5;241m.\u001B[39mndim\n\u001B[1;32m   3210\u001B[0m \u001B[38;5;28;01mexcept\u001B[39;00m \u001B[38;5;167;01mAttributeError\u001B[39;00m:\n\u001B[0;32m-> 3211\u001B[0m     \u001B[38;5;28;01mreturn\u001B[39;00m asarray(a)\u001B[38;5;241m.\u001B[39mndim\n",
      "\u001B[0;31mValueError\u001B[0m: setting an array element with a sequence. The requested array has an inhomogeneous shape after 1 dimensions. The detected shape was (6,) + inhomogeneous part."
     ]
    }
   ],
   "execution_count": 5
  },
  {
   "metadata": {},
   "cell_type": "code",
   "source": "",
   "id": "4561087baaa52071",
   "outputs": [],
   "execution_count": null
  }
 ],
 "metadata": {
  "kernelspec": {
   "display_name": "Python 3",
   "language": "python",
   "name": "python3"
  },
  "language_info": {
   "codemirror_mode": {
    "name": "ipython",
    "version": 2
   },
   "file_extension": ".py",
   "mimetype": "text/x-python",
   "name": "python",
   "nbconvert_exporter": "python",
   "pygments_lexer": "ipython2",
   "version": "2.7.6"
  }
 },
 "nbformat": 4,
 "nbformat_minor": 5
}
