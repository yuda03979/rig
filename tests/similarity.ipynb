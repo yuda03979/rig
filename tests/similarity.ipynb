{
 "cells": [
  {
   "metadata": {
    "ExecuteTime": {
     "end_time": "2024-12-21T18:02:30.562434Z",
     "start_time": "2024-12-21T18:02:29.131617Z"
    }
   },
   "cell_type": "code",
   "source": "from src.main import RIG",
   "id": "64bfd666d7a4d977",
   "outputs": [
    {
     "name": "stderr",
     "output_type": "stream",
     "text": [
      "ERROR:root:Warning: GEMMA_MODEL_PATH is invalid or does not exist: gemma2:2b\n",
      "ERROR:root:Warning: EMBED_MODEL_PATH is invalid or does not exist: snowflake-arctic-embed:137m\n"
     ]
    },
    {
     "name": "stdout",
     "output_type": "stream",
     "text": [
      "the first column is the index column. e.g. - type_name\n"
     ]
    }
   ],
   "execution_count": 1
  },
  {
   "metadata": {
    "ExecuteTime": {
     "end_time": "2024-12-21T18:02:30.565329Z",
     "start_time": "2024-12-21T18:02:30.563703Z"
    }
   },
   "cell_type": "code",
   "source": "rig = RIG()",
   "id": "aaeda9d6670203eb",
   "outputs": [],
   "execution_count": 2
  },
  {
   "metadata": {
    "ExecuteTime": {
     "end_time": "2024-12-21T18:02:30.567630Z",
     "start_time": "2024-12-21T18:02:30.565948Z"
    }
   },
   "cell_type": "code",
   "source": "rig.init_ollamamia()",
   "id": "eeea492a5fa1a982",
   "outputs": [],
   "execution_count": 3
  },
  {
   "metadata": {
    "ExecuteTime": {
     "end_time": "2024-12-21T18:02:40.826696Z",
     "start_time": "2024-12-21T18:02:36.612894Z"
    }
   },
   "cell_type": "code",
   "source": "rig.predict(\"An instance of eagle assessment needs to be created, dealing with the type of assessment eagle. The scavenging efficiency of the eagle was around, um, eighty. However, the beak sharpness was much more severe, let's say something like seven. The flight altitude of the eagle is high, and the severity of the event is four. The vision acuity of the eagle is excellent, with a wingspan of about two hundred. The thermal riding skill of the eagle is expert, and the bone digestion is ninety. We don't have information on the feather maintenance.\")",
   "id": "8e0e41ebd575b859",
   "outputs": [
    {
     "data": {
      "text/plain": [
       "{'rule_instance': {'_id': '00000000-0000-0000-0000-000000000000',\n",
       "  'description': 'string',\n",
       "  'isActive': True,\n",
       "  'lastUpdateTime': '00/00/0000 00:00:00',\n",
       "  'params': {'Scavenging efficiency': 80,\n",
       "   'Flight altitude': 'high',\n",
       "   'Beak sharpness': 7,\n",
       "   'Vision acuity': 'excellent',\n",
       "   'Wing span': 200,\n",
       "   'Thermal riding skill': 'expert',\n",
       "   'Bone digestion': 90,\n",
       "   'Feather maintenance': 'null'},\n",
       "  'ruleInstanceName': 'eagle assessment',\n",
       "  'severity': 4,\n",
       "  'ruleType': 'structured',\n",
       "  'ruleOwner': '',\n",
       "  'ruleTypeId': '1b5db158-d5de-47c6-90f6-25688ffece4b',\n",
       "  'eventDetails': [{'objectName': 'Vulture',\n",
       "    'objectDescription': None,\n",
       "    'timeWindowInMilliseconds': 0,\n",
       "    'useLatest': False}],\n",
       "  'additionalInformation': {},\n",
       "  'presetId': '00000000-0000-0000-0000-000000000000'},\n",
       " 'is_error': False,\n",
       " 'error_message': '',\n",
       " 'free_text': \"An instance of eagle assessment needs to be created, dealing with the type of assessment eagle. The scavenging efficiency of the eagle was around, um, eighty. However, the beak sharpness was much more severe, let's say something like seven. The flight altitude of the eagle is high, and the severity of the event is four. The vision acuity of the eagle is excellent, with a wingspan of about two hundred. The thermal riding skill of the eagle is expert, and the bone digestion is ninety. We don't have information on the feather maintenance.\",\n",
       " 'type_name': 'vulture',\n",
       " 'rag_score': 0.6778238443636042,\n",
       " 'model_response': '{\\n    \"Scavenging efficiency\": 80,\\n    \"Flight altitude\": \"high\",\\n    \"Beak sharpness\": 7,\\n    \"Vision acuity\": \"excellent\",\\n    \"Wing span\": 200,\\n    \"Thermal riding skill\": \"expert\",\\n    \"Bone digestion\": 90,\\n    \"Feather maintenance\": \"null\",\\n    \"ruleInstanceName\": \"eagle assessment\",\\n    \"severity\": 4\\n} \\n',\n",
       " 'schema': {'Scavenging efficiency': 'Int',\n",
       "  'Flight altitude': 'String',\n",
       "  'Beak sharpness': 'Int',\n",
       "  'Vision acuity': 'string',\n",
       "  'Wing span': 'Int',\n",
       "  'Thermal riding skill': 'string',\n",
       "  'Bone digestion': 'Int',\n",
       "  'Feather maintenance': 'String',\n",
       "  'ruleInstanceName': 'string',\n",
       "  'severity': 'int'},\n",
       " 'time': '2024-12-21|20:02:40',\n",
       " 'inference_time': 4.208597183227539}"
      ]
     },
     "execution_count": 5,
     "metadata": {},
     "output_type": "execute_result"
    }
   ],
   "execution_count": 5
  },
  {
   "metadata": {},
   "cell_type": "code",
   "source": "rig.stop_ollamamia()",
   "id": "4b69fde6ad1249c9",
   "outputs": [],
   "execution_count": null
  }
 ],
 "metadata": {
  "kernelspec": {
   "display_name": "Python 3",
   "language": "python",
   "name": "python3"
  },
  "language_info": {
   "codemirror_mode": {
    "name": "ipython",
    "version": 2
   },
   "file_extension": ".py",
   "mimetype": "text/x-python",
   "name": "python",
   "nbconvert_exporter": "python",
   "pygments_lexer": "ipython2",
   "version": "2.7.6"
  }
 },
 "nbformat": 4,
 "nbformat_minor": 5
}
